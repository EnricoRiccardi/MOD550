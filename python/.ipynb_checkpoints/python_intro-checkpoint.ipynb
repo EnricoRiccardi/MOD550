{
 "cells": [
  {
   "cell_type": "code",
   "execution_count": 68,
   "id": "2b04c114",
   "metadata": {},
   "outputs": [],
   "source": [
    "#Python is an object oriented language. Everything in Python is an object.\n",
    "# example:\n",
    "# a = 5\n",
    "# What is a? An object\n",
    "\n",
    "# a = 'Hallo'\n",
    "# What is a? An object\n",
    "\n",
    "# a = [1, 2, 3, 4]\n",
    "# a = ['aa', 'ab', 'ac']\n",
    "## a = [[1, 2, 3], ['asd']]\n",
    "\n",
    "# What is a? An object\n",
    "\n",
    "# a = (1,3,2)\n",
    "# What is a? An object\n",
    "\n",
    "# a = {'a': 5, 'b':7}\n",
    "# What is a? An object\n",
    "\n",
    "# a = function()\n",
    "# What is a? An object\n",
    "\n",
    "# a = Class()\n",
    "# What is a? An object\n",
    "\n",
    "# The question is what type of object is it?\n",
    "# answers: integer, strong, list, tuple, dictionary, function, class\n",
    "# test yourself with the function type(a) , after having given a value to a\n",
    " \n",
    "# Functions DO specific things, classes ARE specific things\n",
    "# A class is a way of grouping functions (as methods) and data (as properties) into a logical unit\n",
    "\n",
    "# Import objects from other files (e.g. other python libraries)\n",
    "# here we import an integer and a Class from the file learning.py that has to be present in this same folder\n",
    "from some_objects import aaa, demo\n",
    "\n",
    "# We can use external libraries. Install them with pip! Much better if you create an environment first!\n",
    "# Installing in python means copy some python files to a folder in your computer and telling python where it is\n",
    "\n",
    "\n",
    "\n"
   ]
  },
  {
   "cell_type": "code",
   "execution_count": 10,
   "id": "bf1cb287",
   "metadata": {},
   "outputs": [
    {
     "name": "stdout",
     "output_type": "stream",
     "text": [
      "4\n",
      "6\n",
      "8\n"
     ]
    },
    {
     "ename": "AssertionError",
     "evalue": "",
     "output_type": "error",
     "traceback": [
      "\u001b[0;31m---------------------------------------------------------------------------\u001b[0m",
      "\u001b[0;31mAssertionError\u001b[0m                            Traceback (most recent call last)",
      "Cell \u001b[0;32mIn[10], line 23\u001b[0m\n\u001b[1;32m     20\u001b[0m     \u001b[38;5;28mprint\u001b[39m(i)\n\u001b[1;32m     21\u001b[0m     count \u001b[38;5;241m+\u001b[39m\u001b[38;5;241m=\u001b[39m \u001b[38;5;241m1\u001b[39m\n\u001b[0;32m---> 23\u001b[0m \u001b[38;5;28;01massert\u001b[39;00m(count \u001b[38;5;241m==\u001b[39m \u001b[38;5;241m4\u001b[39m)\n\u001b[1;32m     26\u001b[0m \u001b[38;5;28mprint\u001b[39m(count)\n",
      "\u001b[0;31mAssertionError\u001b[0m: "
     ]
    }
   ],
   "source": [
    "# Check yourself, often\n",
    "a_list = [[1, 2, 3], ['asd'], [123, 43, 'rew']]\n",
    "\n",
    "\n",
    "simple_list = [4 ,6 , 8]\n",
    "simple_list = [4,\n",
    "               6,\n",
    "               8]\n",
    "\n",
    "a_list = [[1, 2, 3], [123, 43, 'rew'], [432, 344, 666], ['asd']]\n",
    "a_list = [[1, 2, 3], \n",
    "          [123, 43, 'rew'],\n",
    "          [432, 344, 666],\n",
    "          ['asd']]\n",
    "    \n",
    "franko = 3 \n",
    "\n",
    "count = 0\n",
    "for i in simple_list:\n",
    "    print(i)\n",
    "    count += 1\n",
    "\n",
    "assert(count == 4)\n",
    " \n",
    "\n",
    "print(count)"
   ]
  },
  {
   "cell_type": "code",
   "execution_count": 38,
   "id": "3561f1c8",
   "metadata": {},
   "outputs": [
    {
     "name": "stdout",
     "output_type": "stream",
     "text": [
      "good_news\n"
     ]
    }
   ],
   "source": [
    "# LOGICAL OPERATIONS\n",
    "\n",
    "# logical = 1 >= 10\n",
    "franko = 'death'\n",
    "\n",
    "# always left to right \n",
    "another_name = franko == 'death-ish'\n",
    "\n",
    "if another_name:\n",
    "    print('bye')\n",
    "else:\n",
    "    print('good_news')\n",
    "     \n"
   ]
  },
  {
   "cell_type": "code",
   "execution_count": 12,
   "id": "0fc7c621",
   "metadata": {},
   "outputs": [
    {
     "name": "stdout",
     "output_type": "stream",
     "text": [
      "foo [1, 2, 3]\n",
      "franko ['asd']\n",
      "a_name [123, 43, 'rew']\n",
      "is_it_true True\n"
     ]
    }
   ],
   "source": [
    "b_dict = {'foo':[1, 2, 3], 'franko':['asd'], 'a_name':[123, 43, 'rew'], 'advanced_stuff': 'Draw()', 'is_it_true': 1==1}\n",
    "b_dict = {'foo':[1, 2, 3],\n",
    "          'franko':['asd'], \n",
    "          'a_name':[123, 43, 'rew'],\n",
    "          # 'advanced_stuff': 'Draw()', \n",
    "          'is_it_true': 1==1}\n",
    "\n",
    "b_dict['franko']\n",
    "\n",
    "for i, j in b_dict.items():\n",
    "    print(i, j)"
   ]
  },
  {
   "cell_type": "code",
   "execution_count": 77,
   "id": "6374d44c-2980-4115-83ed-dd4c47daa913",
   "metadata": {},
   "outputs": [
    {
     "name": "stdout",
     "output_type": "stream",
     "text": [
      "NO!\n"
     ]
    }
   ],
   "source": [
    "# A small example of test driven programming, proper variable labeling and basic functions usage.\n",
    "\n",
    "def fruit_counter(fruit1, fruit2):\n",
    "    fruits = fruit1 + fruit2 \n",
    "    return fruits\n",
    "\n",
    "\n",
    "def anotherone(talk_to_me):\n",
    "    print(talk_to_me)\n",
    "\n",
    "\n",
    "\n",
    "expected_fruits = 7\n",
    "\n",
    "output_fruits = fruit_counter(3, 4)\n",
    "\n",
    "assert(output_fruits == expected_fruits)\n",
    "output_fruits\n",
    "\n",
    "txt = 'NO!'\n",
    "anotherone(txt)"
   ]
  },
  {
   "cell_type": "code",
   "execution_count": null,
   "id": "54bec6f8-697a-4696-94b9-ea6bb7fa9d5f",
   "metadata": {},
   "outputs": [],
   "source": []
  },
  {
   "cell_type": "code",
   "execution_count": null,
   "id": "ab799f49-0e9f-41b2-858c-23b63e6e0473",
   "metadata": {},
   "outputs": [],
   "source": []
  }
 ],
 "metadata": {
  "kernelspec": {
   "display_name": "Python 3 (ipykernel)",
   "language": "python",
   "name": "python3"
  },
  "language_info": {
   "codemirror_mode": {
    "name": "ipython",
    "version": 3
   },
   "file_extension": ".py",
   "mimetype": "text/x-python",
   "name": "python",
   "nbconvert_exporter": "python",
   "pygments_lexer": "ipython3",
   "version": "3.10.12"
  }
 },
 "nbformat": 4,
 "nbformat_minor": 5
}
