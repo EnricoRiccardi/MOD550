{
 "cells": [
  {
   "cell_type": "markdown",
   "metadata": {},
   "source": [
    "# Assignment 1"
   ]
  },
  {
   "cell_type": "code",
   "execution_count": 1,
   "metadata": {},
   "outputs": [],
   "source": [
    "# All the problems and parts are solved here except problem 8 and 9 which are solved in pdf.\n",
    "# So you will find all the explainations and interpretations and solutions in these juputer note and pdf.\n",
    "# Juputer note and pdf are in a zip together."
   ]
  },
  {
   "cell_type": "code",
   "execution_count": 2,
   "metadata": {},
   "outputs": [],
   "source": [
    "import pandas as pd\n",
    "import numpy as np\n",
    "import matplotlib.pyplot as plt\n",
    "import statistics\n",
    "from scipy.stats import skew, kurtosis\n",
    "from scipy.interpolate import interp1d\n",
    "import seaborn as sns"
   ]
  },
  {
   "cell_type": "markdown",
   "metadata": {},
   "source": [
    "# Problem 1"
   ]
  },
  {
   "cell_type": "markdown",
   "metadata": {},
   "source": [
    "### Part a.1"
   ]
  },
  {
   "cell_type": "code",
   "execution_count": 3,
   "metadata": {},
   "outputs": [
    {
     "data": {
      "text/html": [
       "<div>\n",
       "<style scoped>\n",
       "    .dataframe tbody tr th:only-of-type {\n",
       "        vertical-align: middle;\n",
       "    }\n",
       "\n",
       "    .dataframe tbody tr th {\n",
       "        vertical-align: top;\n",
       "    }\n",
       "\n",
       "    .dataframe thead th {\n",
       "        text-align: right;\n",
       "    }\n",
       "</style>\n",
       "<table border=\"1\" class=\"dataframe\">\n",
       "  <thead>\n",
       "    <tr style=\"text-align: right;\">\n",
       "      <th></th>\n",
       "      <th>Unnamed: 0</th>\n",
       "      <th>Unnamed: 1</th>\n",
       "    </tr>\n",
       "  </thead>\n",
       "  <tbody>\n",
       "    <tr>\n",
       "      <th>0</th>\n",
       "      <td>NaN</td>\n",
       "      <td>NaN</td>\n",
       "    </tr>\n",
       "    <tr>\n",
       "      <th>1</th>\n",
       "      <td>NaN</td>\n",
       "      <td>Data</td>\n",
       "    </tr>\n",
       "    <tr>\n",
       "      <th>2</th>\n",
       "      <td>NaN</td>\n",
       "      <td>292.6</td>\n",
       "    </tr>\n",
       "    <tr>\n",
       "      <th>3</th>\n",
       "      <td>NaN</td>\n",
       "      <td>532.4</td>\n",
       "    </tr>\n",
       "    <tr>\n",
       "      <th>4</th>\n",
       "      <td>NaN</td>\n",
       "      <td>763.2</td>\n",
       "    </tr>\n",
       "  </tbody>\n",
       "</table>\n",
       "</div>"
      ],
      "text/plain": [
       "   Unnamed: 0 Unnamed: 1\n",
       "0         NaN        NaN\n",
       "1         NaN       Data\n",
       "2         NaN      292.6\n",
       "3         NaN      532.4\n",
       "4         NaN      763.2"
      ]
     },
     "execution_count": 3,
     "metadata": {},
     "output_type": "execute_result"
    }
   ],
   "source": [
    "Data1 = pd.read_excel('a1_data1.xlsx',sheet_name = 'Stats & PDFs')\n",
    "Data1.head()"
   ]
  },
  {
   "cell_type": "markdown",
   "metadata": {},
   "source": [
    "### Part a.2"
   ]
  },
  {
   "cell_type": "code",
   "execution_count": 4,
   "metadata": {},
   "outputs": [
    {
     "data": {
      "text/html": [
       "<div>\n",
       "<style scoped>\n",
       "    .dataframe tbody tr th:only-of-type {\n",
       "        vertical-align: middle;\n",
       "    }\n",
       "\n",
       "    .dataframe tbody tr th {\n",
       "        vertical-align: top;\n",
       "    }\n",
       "\n",
       "    .dataframe thead th {\n",
       "        text-align: right;\n",
       "    }\n",
       "</style>\n",
       "<table border=\"1\" class=\"dataframe\">\n",
       "  <thead>\n",
       "    <tr style=\"text-align: right;\">\n",
       "      <th></th>\n",
       "      <th>Unnamed: 1</th>\n",
       "    </tr>\n",
       "  </thead>\n",
       "  <tbody>\n",
       "    <tr>\n",
       "      <th>2</th>\n",
       "      <td>292.6</td>\n",
       "    </tr>\n",
       "    <tr>\n",
       "      <th>3</th>\n",
       "      <td>532.4</td>\n",
       "    </tr>\n",
       "    <tr>\n",
       "      <th>4</th>\n",
       "      <td>763.2</td>\n",
       "    </tr>\n",
       "    <tr>\n",
       "      <th>5</th>\n",
       "      <td>157.959</td>\n",
       "    </tr>\n",
       "    <tr>\n",
       "      <th>6</th>\n",
       "      <td>176.845</td>\n",
       "    </tr>\n",
       "  </tbody>\n",
       "</table>\n",
       "</div>"
      ],
      "text/plain": [
       "  Unnamed: 1\n",
       "2      292.6\n",
       "3      532.4\n",
       "4      763.2\n",
       "5    157.959\n",
       "6    176.845"
      ]
     },
     "execution_count": 4,
     "metadata": {},
     "output_type": "execute_result"
    }
   ],
   "source": [
    "Data1 = Data1.drop(columns = ['Unnamed: 0'],index = [0,1])\n",
    "Data1.head()"
   ]
  },
  {
   "cell_type": "code",
   "execution_count": 5,
   "metadata": {},
   "outputs": [],
   "source": [
    "# The index is starting from 2. so we need to modify the indexes"
   ]
  },
  {
   "cell_type": "code",
   "execution_count": 6,
   "metadata": {},
   "outputs": [
    {
     "data": {
      "text/html": [
       "<div>\n",
       "<style scoped>\n",
       "    .dataframe tbody tr th:only-of-type {\n",
       "        vertical-align: middle;\n",
       "    }\n",
       "\n",
       "    .dataframe tbody tr th {\n",
       "        vertical-align: top;\n",
       "    }\n",
       "\n",
       "    .dataframe thead th {\n",
       "        text-align: right;\n",
       "    }\n",
       "</style>\n",
       "<table border=\"1\" class=\"dataframe\">\n",
       "  <thead>\n",
       "    <tr style=\"text-align: right;\">\n",
       "      <th></th>\n",
       "      <th>Data</th>\n",
       "    </tr>\n",
       "  </thead>\n",
       "  <tbody>\n",
       "    <tr>\n",
       "      <th>0</th>\n",
       "      <td>292.6</td>\n",
       "    </tr>\n",
       "    <tr>\n",
       "      <th>1</th>\n",
       "      <td>532.4</td>\n",
       "    </tr>\n",
       "    <tr>\n",
       "      <th>2</th>\n",
       "      <td>763.2</td>\n",
       "    </tr>\n",
       "    <tr>\n",
       "      <th>3</th>\n",
       "      <td>157.959</td>\n",
       "    </tr>\n",
       "    <tr>\n",
       "      <th>4</th>\n",
       "      <td>176.845</td>\n",
       "    </tr>\n",
       "  </tbody>\n",
       "</table>\n",
       "</div>"
      ],
      "text/plain": [
       "      Data\n",
       "0    292.6\n",
       "1    532.4\n",
       "2    763.2\n",
       "3  157.959\n",
       "4  176.845"
      ]
     },
     "execution_count": 6,
     "metadata": {},
     "output_type": "execute_result"
    }
   ],
   "source": [
    "Data1.columns = ['Data']\n",
    "cleared_data1= Data1.rename(index = lambda x: x - 2)\n",
    "cleared_data1.head()"
   ]
  },
  {
   "cell_type": "code",
   "execution_count": 7,
   "metadata": {},
   "outputs": [
    {
     "data": {
      "text/plain": [
       "0        292.6\n",
       "1        532.4\n",
       "2        763.2\n",
       "3      157.959\n",
       "4      176.845\n",
       "        ...   \n",
       "295    404.791\n",
       "296    435.245\n",
       "297    286.286\n",
       "298    388.867\n",
       "299    173.327\n",
       "Name: Data, Length: 300, dtype: object"
      ]
     },
     "execution_count": 7,
     "metadata": {},
     "output_type": "execute_result"
    }
   ],
   "source": [
    "cleared_data1 = cleared_data1['Data']\n",
    "cleared_data1"
   ]
  },
  {
   "cell_type": "markdown",
   "metadata": {},
   "source": [
    "### Part b"
   ]
  },
  {
   "cell_type": "code",
   "execution_count": 8,
   "metadata": {},
   "outputs": [
    {
     "data": {
      "text/plain": [
       "(array([117, 123, 137, 150, 154, 165, 166, 186, 191, 197], dtype=int64),)"
      ]
     },
     "execution_count": 8,
     "metadata": {},
     "output_type": "execute_result"
    }
   ],
   "source": [
    "index_blank = np.where(pd.isnull(cleared_data1))\n",
    "index_blank"
   ]
  },
  {
   "cell_type": "code",
   "execution_count": 9,
   "metadata": {},
   "outputs": [
    {
     "data": {
      "text/plain": [
       "10"
      ]
     },
     "execution_count": 9,
     "metadata": {},
     "output_type": "execute_result"
    }
   ],
   "source": [
    "len(index_blank[0])"
   ]
  },
  {
   "cell_type": "code",
   "execution_count": null,
   "metadata": {},
   "outputs": [],
   "source": []
  },
  {
   "cell_type": "markdown",
   "metadata": {},
   "source": [
    "### Part c"
   ]
  },
  {
   "cell_type": "code",
   "execution_count": 10,
   "metadata": {},
   "outputs": [
    {
     "data": {
      "text/plain": [
       "0        292.6\n",
       "1        532.4\n",
       "2        763.2\n",
       "3      157.959\n",
       "4      176.845\n",
       "        ...   \n",
       "295    404.791\n",
       "296    435.245\n",
       "297    286.286\n",
       "298    388.867\n",
       "299    173.327\n",
       "Name: Data, Length: 290, dtype: object"
      ]
     },
     "execution_count": 10,
     "metadata": {},
     "output_type": "execute_result"
    }
   ],
   "source": [
    "cleared_data_new = cleared_data1.dropna('')\n",
    "cleared_data_new"
   ]
  },
  {
   "cell_type": "code",
   "execution_count": 11,
   "metadata": {},
   "outputs": [
    {
     "data": {
      "text/plain": [
       "290"
      ]
     },
     "execution_count": 11,
     "metadata": {},
     "output_type": "execute_result"
    }
   ],
   "source": [
    "n = len(cleared_data_new)\n",
    "n"
   ]
  },
  {
   "cell_type": "code",
   "execution_count": 12,
   "metadata": {},
   "outputs": [],
   "source": [
    "# The nubre of data points are 290 but the indexes are from 0 to 299 which is not correct.\n",
    "# So we need to modify the indexes"
   ]
  },
  {
   "cell_type": "code",
   "execution_count": 13,
   "metadata": {},
   "outputs": [
    {
     "data": {
      "text/plain": [
       "0        292.6\n",
       "1        532.4\n",
       "2        763.2\n",
       "3      157.959\n",
       "4      176.845\n",
       "        ...   \n",
       "285    404.791\n",
       "286    435.245\n",
       "287    286.286\n",
       "288    388.867\n",
       "289    173.327\n",
       "Name: Data, Length: 290, dtype: object"
      ]
     },
     "execution_count": 13,
     "metadata": {},
     "output_type": "execute_result"
    }
   ],
   "source": [
    "cleared_data_new.index = range(n)\n",
    "cleared_data_new"
   ]
  },
  {
   "cell_type": "code",
   "execution_count": 14,
   "metadata": {},
   "outputs": [],
   "source": [
    "cleared_data2 = np.array(cleared_data_new)"
   ]
  },
  {
   "cell_type": "markdown",
   "metadata": {},
   "source": [
    "# Problem 2"
   ]
  },
  {
   "cell_type": "markdown",
   "metadata": {},
   "source": [
    "### Part a"
   ]
  },
  {
   "cell_type": "code",
   "execution_count": 15,
   "metadata": {},
   "outputs": [
    {
     "data": {
      "text/plain": [
       "290"
      ]
     },
     "execution_count": 15,
     "metadata": {},
     "output_type": "execute_result"
    }
   ],
   "source": [
    "n = len(cleared_data2)\n",
    "n"
   ]
  },
  {
   "cell_type": "markdown",
   "metadata": {},
   "source": [
    "### Part b"
   ]
  },
  {
   "cell_type": "code",
   "execution_count": 16,
   "metadata": {},
   "outputs": [
    {
     "data": {
      "text/plain": [
       "86306.47904999995"
      ]
     },
     "execution_count": 16,
     "metadata": {},
     "output_type": "execute_result"
    }
   ],
   "source": [
    "sum_cleared_data2 = np.sum(cleared_data2)\n",
    "sum_cleared_data2"
   ]
  },
  {
   "cell_type": "markdown",
   "metadata": {},
   "source": [
    "### Part c"
   ]
  },
  {
   "cell_type": "code",
   "execution_count": 17,
   "metadata": {},
   "outputs": [
    {
     "data": {
      "text/plain": [
       "297.6085484482757"
      ]
     },
     "execution_count": 17,
     "metadata": {},
     "output_type": "execute_result"
    }
   ],
   "source": [
    "# AM : Arithmetic Mean (Average)\n",
    "AM = sum_cleared_data2 / n\n",
    "AM"
   ]
  },
  {
   "cell_type": "markdown",
   "metadata": {},
   "source": [
    "### Part d"
   ]
  },
  {
   "cell_type": "code",
   "execution_count": 18,
   "metadata": {},
   "outputs": [
    {
     "data": {
      "text/plain": [
       "297.6085484482757"
      ]
     },
     "execution_count": 18,
     "metadata": {},
     "output_type": "execute_result"
    }
   ],
   "source": [
    "AM = np.mean(cleared_data2)\n",
    "AM"
   ]
  },
  {
   "cell_type": "markdown",
   "metadata": {},
   "source": [
    "### Part e"
   ]
  },
  {
   "cell_type": "code",
   "execution_count": 19,
   "metadata": {},
   "outputs": [
    {
     "data": {
      "text/html": [
       "<div>\n",
       "<style scoped>\n",
       "    .dataframe tbody tr th:only-of-type {\n",
       "        vertical-align: middle;\n",
       "    }\n",
       "\n",
       "    .dataframe tbody tr th {\n",
       "        vertical-align: top;\n",
       "    }\n",
       "\n",
       "    .dataframe thead th {\n",
       "        text-align: right;\n",
       "    }\n",
       "</style>\n",
       "<table border=\"1\" class=\"dataframe\">\n",
       "  <thead>\n",
       "    <tr style=\"text-align: right;\">\n",
       "      <th></th>\n",
       "      <th>Data</th>\n",
       "    </tr>\n",
       "  </thead>\n",
       "  <tbody>\n",
       "    <tr>\n",
       "      <th>0</th>\n",
       "      <td>292.60000</td>\n",
       "    </tr>\n",
       "    <tr>\n",
       "      <th>1</th>\n",
       "      <td>532.40000</td>\n",
       "    </tr>\n",
       "    <tr>\n",
       "      <th>2</th>\n",
       "      <td>763.20000</td>\n",
       "    </tr>\n",
       "    <tr>\n",
       "      <th>3</th>\n",
       "      <td>157.95930</td>\n",
       "    </tr>\n",
       "    <tr>\n",
       "      <th>4</th>\n",
       "      <td>176.84451</td>\n",
       "    </tr>\n",
       "    <tr>\n",
       "      <th>...</th>\n",
       "      <td>...</td>\n",
       "    </tr>\n",
       "    <tr>\n",
       "      <th>285</th>\n",
       "      <td>404.79108</td>\n",
       "    </tr>\n",
       "    <tr>\n",
       "      <th>286</th>\n",
       "      <td>435.24481</td>\n",
       "    </tr>\n",
       "    <tr>\n",
       "      <th>287</th>\n",
       "      <td>286.28635</td>\n",
       "    </tr>\n",
       "    <tr>\n",
       "      <th>288</th>\n",
       "      <td>388.86728</td>\n",
       "    </tr>\n",
       "    <tr>\n",
       "      <th>289</th>\n",
       "      <td>173.32715</td>\n",
       "    </tr>\n",
       "  </tbody>\n",
       "</table>\n",
       "<p>290 rows × 1 columns</p>\n",
       "</div>"
      ],
      "text/plain": [
       "          Data\n",
       "0    292.60000\n",
       "1    532.40000\n",
       "2    763.20000\n",
       "3    157.95930\n",
       "4    176.84451\n",
       "..         ...\n",
       "285  404.79108\n",
       "286  435.24481\n",
       "287  286.28635\n",
       "288  388.86728\n",
       "289  173.32715\n",
       "\n",
       "[290 rows x 1 columns]"
      ]
     },
     "execution_count": 19,
     "metadata": {},
     "output_type": "execute_result"
    }
   ],
   "source": [
    "Data2 = pd.read_excel('a1_data1.xlsx',sheet_name = 'Sheet2')\n",
    "Data2"
   ]
  },
  {
   "cell_type": "code",
   "execution_count": 20,
   "metadata": {},
   "outputs": [],
   "source": [
    "# When you wanna use the built in python functions, the built in python functions treats the empty cells as zeros."
   ]
  },
  {
   "cell_type": "markdown",
   "metadata": {},
   "source": [
    "### Part f"
   ]
  },
  {
   "cell_type": "code",
   "execution_count": 21,
   "metadata": {},
   "outputs": [],
   "source": [
    "for i in range(n):\n",
    "    Data_diff = cleared_data2 - AM"
   ]
  },
  {
   "cell_type": "code",
   "execution_count": 22,
   "metadata": {},
   "outputs": [],
   "source": [
    "for i in range(n):\n",
    "    Data_diff_sqrd = Data_diff ** 2"
   ]
  },
  {
   "cell_type": "code",
   "execution_count": 23,
   "metadata": {},
   "outputs": [
    {
     "data": {
      "text/plain": [
       "6038806.326118121"
      ]
     },
     "execution_count": 23,
     "metadata": {},
     "output_type": "execute_result"
    }
   ],
   "source": [
    "sum_Data_diff_sqrd = np.sum(Data_diff_sqrd)\n",
    "sum_Data_diff_sqrd"
   ]
  },
  {
   "cell_type": "markdown",
   "metadata": {},
   "source": [
    "### Part g"
   ]
  },
  {
   "cell_type": "code",
   "execution_count": 24,
   "metadata": {},
   "outputs": [
    {
     "data": {
      "text/plain": [
       "20823.470090062485"
      ]
     },
     "execution_count": 24,
     "metadata": {},
     "output_type": "execute_result"
    }
   ],
   "source": [
    "# Method 1\n",
    "Var1 = sum_Data_diff_sqrd / n\n",
    "Var1"
   ]
  },
  {
   "cell_type": "code",
   "execution_count": 25,
   "metadata": {},
   "outputs": [
    {
     "data": {
      "text/plain": [
       "20823.470090062485"
      ]
     },
     "execution_count": 25,
     "metadata": {},
     "output_type": "execute_result"
    }
   ],
   "source": [
    "# Method 2\n",
    "Var2 = np.var(cleared_data2)\n",
    "Var2"
   ]
  },
  {
   "cell_type": "code",
   "execution_count": 26,
   "metadata": {},
   "outputs": [],
   "source": [
    "# We see that the Var1, which is calculated with indirect method (by myself and summation),\n",
    "# is equal to the var2, which is calculted by the python function and libraries."
   ]
  },
  {
   "cell_type": "markdown",
   "metadata": {},
   "source": [
    "### Part h"
   ]
  },
  {
   "cell_type": "code",
   "execution_count": 27,
   "metadata": {},
   "outputs": [
    {
     "data": {
      "text/plain": [
       "144.30339597550184"
      ]
     },
     "execution_count": 27,
     "metadata": {},
     "output_type": "execute_result"
    }
   ],
   "source": [
    "# Method 1\n",
    "std1 = np.sqrt(Var1)\n",
    "std1"
   ]
  },
  {
   "cell_type": "code",
   "execution_count": 28,
   "metadata": {},
   "outputs": [
    {
     "data": {
      "text/plain": [
       "144.30339597550184"
      ]
     },
     "execution_count": 28,
     "metadata": {},
     "output_type": "execute_result"
    }
   ],
   "source": [
    "# Method 2\n",
    "std2 = np.std(cleared_data2)\n",
    "std2"
   ]
  },
  {
   "cell_type": "code",
   "execution_count": 29,
   "metadata": {},
   "outputs": [],
   "source": [
    "# We see that the std1, which is calculated with indirect method (by myself and square root of Var1), \n",
    "# is equal to the std2, which is calculted by the python function and libraries."
   ]
  },
  {
   "cell_type": "markdown",
   "metadata": {},
   "source": [
    "### Part i"
   ]
  },
  {
   "cell_type": "code",
   "execution_count": 30,
   "metadata": {},
   "outputs": [],
   "source": [
    "# No, there is no difference between the numbers of std and variances from different methods."
   ]
  },
  {
   "cell_type": "markdown",
   "metadata": {},
   "source": [
    "### Part j.1"
   ]
  },
  {
   "cell_type": "code",
   "execution_count": 31,
   "metadata": {},
   "outputs": [],
   "source": [
    "sorted_cleared_data2 = np.sort(cleared_data2.transpose())"
   ]
  },
  {
   "cell_type": "code",
   "execution_count": 32,
   "metadata": {},
   "outputs": [
    {
     "data": {
      "text/plain": [
       "268.35458500000004"
      ]
     },
     "execution_count": 32,
     "metadata": {},
     "output_type": "execute_result"
    }
   ],
   "source": [
    "if n % 2 == 1:\n",
    "    median = sorted_cleared_data2[(n+1)//2-1]\n",
    "else:\n",
    "    median = (sorted_cleared_data2[n//2-1]+sorted_cleared_data2[n//2+1-1])/2\n",
    "median"
   ]
  },
  {
   "cell_type": "markdown",
   "metadata": {},
   "source": [
    "### Part j.2"
   ]
  },
  {
   "cell_type": "code",
   "execution_count": 33,
   "metadata": {},
   "outputs": [],
   "source": [
    "output = np.unique(cleared_data2,return_counts=True)"
   ]
  },
  {
   "cell_type": "code",
   "execution_count": 34,
   "metadata": {},
   "outputs": [
    {
     "data": {
      "text/plain": [
       "array([1, 1, 1, 1, 1, 1, 1, 1, 1, 1, 1, 1, 1, 1, 1, 1, 1, 1, 1, 1, 1, 1,\n",
       "       1, 1, 1, 1, 1, 1, 1, 1, 1, 1, 1, 1, 1, 1, 1, 1, 1, 1, 1, 1, 1, 1,\n",
       "       1, 1, 1, 1, 1, 1, 1, 1, 1, 1, 1, 1, 1, 1, 1, 1, 1, 1, 1, 1, 1, 1,\n",
       "       1, 1, 1, 1, 1, 1, 1, 1, 1, 1, 1, 1, 1, 1, 1, 1, 1, 1, 1, 1, 1, 1,\n",
       "       1, 1, 1, 1, 1, 1, 1, 1, 1, 1, 1, 1, 1, 1, 1, 1, 1, 1, 1, 1, 1, 1,\n",
       "       1, 1, 1, 1, 1, 1, 1, 1, 1, 1, 1, 1, 1, 1, 1, 1, 1, 1, 1, 1, 1, 1,\n",
       "       1, 1, 1, 1, 1, 1, 1, 1, 1, 1, 1, 1, 1, 1, 1, 1, 1, 1, 1, 1, 1, 1,\n",
       "       1, 1, 1, 1, 1, 1, 1, 1, 1, 1, 1, 1, 1, 1, 1, 1, 1, 1, 1, 1, 1, 1,\n",
       "       1, 1, 1, 1, 1, 1, 1, 1, 1, 1, 1, 1, 1, 1, 1, 1, 1, 1, 1, 1, 1, 1,\n",
       "       1, 1, 1, 1, 1, 1, 1, 1, 1, 1, 1, 1, 1, 1, 1, 1, 1, 1, 1, 1, 1, 1,\n",
       "       1, 1, 1, 1, 1, 1, 1, 1, 1, 1, 1, 1, 1, 1, 1, 1, 1, 1, 1, 1, 1, 1,\n",
       "       1, 1, 1, 1, 1, 1, 1, 1, 1, 1, 1, 1, 1, 1, 1, 1, 1, 1, 1, 1, 1, 1,\n",
       "       1, 1, 1, 1, 1, 1, 1, 1, 1, 1, 1, 1, 1, 1, 1, 1, 1, 1, 1, 1, 1, 1,\n",
       "       1, 1, 1, 1], dtype=int64)"
      ]
     },
     "execution_count": 34,
     "metadata": {},
     "output_type": "execute_result"
    }
   ],
   "source": [
    "count = output[1]\n",
    "count"
   ]
  },
  {
   "cell_type": "code",
   "execution_count": 35,
   "metadata": {},
   "outputs": [
    {
     "data": {
      "text/plain": [
       "array([], shape=(0, 1), dtype=int64)"
      ]
     },
     "execution_count": 35,
     "metadata": {},
     "output_type": "execute_result"
    }
   ],
   "source": [
    "index = np.argwhere(count > 1)\n",
    "index"
   ]
  },
  {
   "cell_type": "code",
   "execution_count": 36,
   "metadata": {},
   "outputs": [],
   "source": [
    "# Because there is no value that has more than 1 frequency, so we can say that there is no mode for this data set.\n",
    "# NO MODE"
   ]
  },
  {
   "cell_type": "markdown",
   "metadata": {},
   "source": [
    "### Part j.3"
   ]
  },
  {
   "cell_type": "code",
   "execution_count": 37,
   "metadata": {},
   "outputs": [
    {
     "data": {
      "text/plain": [
       "195.1241875"
      ]
     },
     "execution_count": 37,
     "metadata": {},
     "output_type": "execute_result"
    }
   ],
   "source": [
    "# Q1 = P25 = lower (first) Quartile\n",
    "Q1 = np.quantile(cleared_data2,0.25)\n",
    "Q1"
   ]
  },
  {
   "cell_type": "code",
   "execution_count": 38,
   "metadata": {},
   "outputs": [
    {
     "data": {
      "text/plain": [
       "366.26623500000005"
      ]
     },
     "execution_count": 38,
     "metadata": {},
     "output_type": "execute_result"
    }
   ],
   "source": [
    "# Q3 = P75 = upper (third) Quartile\n",
    "Q3 = np.quantile(cleared_data2,0.75)\n",
    "Q3"
   ]
  },
  {
   "cell_type": "code",
   "execution_count": 39,
   "metadata": {},
   "outputs": [
    {
     "data": {
      "text/plain": [
       "171.14204750000005"
      ]
     },
     "execution_count": 39,
     "metadata": {},
     "output_type": "execute_result"
    }
   ],
   "source": [
    "# IQR : interquartile range\n",
    "IQR = Q3 - Q1\n",
    "IQR"
   ]
  },
  {
   "cell_type": "markdown",
   "metadata": {},
   "source": [
    "# Problem 3"
   ]
  },
  {
   "cell_type": "markdown",
   "metadata": {},
   "source": [
    "### Part a"
   ]
  },
  {
   "cell_type": "code",
   "execution_count": 40,
   "metadata": {},
   "outputs": [
    {
     "data": {
      "text/plain": [
       "63.06783"
      ]
     },
     "execution_count": 40,
     "metadata": {},
     "output_type": "execute_result"
    }
   ],
   "source": [
    "min_cleared_data2 = np.min(cleared_data2)\n",
    "min_cleared_data2"
   ]
  },
  {
   "cell_type": "code",
   "execution_count": 41,
   "metadata": {},
   "outputs": [
    {
     "data": {
      "text/plain": [
       "864.16736"
      ]
     },
     "execution_count": 41,
     "metadata": {},
     "output_type": "execute_result"
    }
   ],
   "source": [
    "max_cleared_data2 = np.max(cleared_data2)\n",
    "max_cleared_data2"
   ]
  },
  {
   "cell_type": "code",
   "execution_count": 42,
   "metadata": {},
   "outputs": [
    {
     "data": {
      "text/plain": [
       "801.0995300000001"
      ]
     },
     "execution_count": 42,
     "metadata": {},
     "output_type": "execute_result"
    }
   ],
   "source": [
    "# R : range from a data set\n",
    "Range = max_cleared_data2 - min_cleared_data2\n",
    "Range"
   ]
  },
  {
   "cell_type": "markdown",
   "metadata": {},
   "source": [
    "### Part b"
   ]
  },
  {
   "cell_type": "code",
   "execution_count": 43,
   "metadata": {},
   "outputs": [
    {
     "data": {
      "text/plain": [
       "Text(0.5, 1.0, 'histogram')"
      ]
     },
     "execution_count": 43,
     "metadata": {},
     "output_type": "execute_result"
    },
    {
     "data": {
      "image/png": "[encoded data removed]",
      "text/plain": [
       "<Figure size 432x288 with 1 Axes>"
      ]
     },
     "metadata": {
      "needs_background": "light"
     },
     "output_type": "display_data"
    }
   ],
   "source": [
    "cleared_data_new.plot(kind='hist', bins = 20,color = 'Red',edgecolor = 'Black')\n",
    "plt.xlabel('midpoints')\n",
    "plt.ylabel('Frequency')\n",
    "plt.title('histogram')"
   ]
  },
  {
   "cell_type": "markdown",
   "metadata": {},
   "source": [
    "# Problem 4"
   ]
  },
  {
   "cell_type": "markdown",
   "metadata": {},
   "source": [
    "### Part a"
   ]
  },
  {
   "cell_type": "code",
   "execution_count": 44,
   "metadata": {},
   "outputs": [
    {
     "data": {
      "text/plain": [
       "Text(0.5, 1.0, 'histogram, number of bins = 10')"
      ]
     },
     "execution_count": 44,
     "metadata": {},
     "output_type": "execute_result"
    },
    {
     "data": {
      "image/png": "[encoded data removed]",
      "text/plain": [
       "<Figure size 432x288 with 1 Axes>"
      ]
     },
     "metadata": {
      "needs_background": "light"
     },
     "output_type": "display_data"
    }
   ],
   "source": [
    "cleared_data_new.plot(kind='hist', bins = 10,color = 'Red',edgecolor = 'Black')\n",
    "plt.xlabel('midpoints')\n",
    "plt.ylabel('Frequency')\n",
    "plt.title('histogram, number of bins = 10')\n"
   ]
  },
  {
   "cell_type": "markdown",
   "metadata": {},
   "source": [
    "### Part b"
   ]
  },
  {
   "cell_type": "code",
   "execution_count": 45,
   "metadata": {},
   "outputs": [
    {
     "data": {
      "text/plain": [
       "Text(0.5, 1.0, 'histogram, number of bins = 40')"
      ]
     },
     "execution_count": 45,
     "metadata": {},
     "output_type": "execute_result"
    },
    {
     "data": {
      "image/png": "[encoded data removed]",
      "text/plain": [
       "<Figure size 432x288 with 1 Axes>"
      ]
     },
     "metadata": {
      "needs_background": "light"
     },
     "output_type": "display_data"
    }
   ],
   "source": [
    "cleared_data_new.plot(kind='hist', bins = 40,color = 'Yellow',edgecolor = 'Black')\n",
    "plt.xlabel('midpoints')\n",
    "plt.ylabel('Frequency')\n",
    "plt.title('histogram, number of bins = 40')"
   ]
  },
  {
   "cell_type": "markdown",
   "metadata": {},
   "source": [
    "### Part c"
   ]
  },
  {
   "cell_type": "code",
   "execution_count": 46,
   "metadata": {},
   "outputs": [
    {
     "data": {
      "text/plain": [
       "Text(0.5, 1.0, 'histogram, number of bins = 60')"
      ]
     },
     "execution_count": 46,
     "metadata": {},
     "output_type": "execute_result"
    },
    {
     "data": {
      "image/png": "[encoded data removed]",
      "text/plain": [
       "<Figure size 432x288 with 1 Axes>"
      ]
     },
     "metadata": {
      "needs_background": "light"
     },
     "output_type": "display_data"
    }
   ],
   "source": [
    "cleared_data_new.plot(kind='hist', bins = 60,color = 'Green',edgecolor = 'Black')\n",
    "plt.xlabel('midpoints')\n",
    "plt.ylabel('Frequency')\n",
    "plt.title('histogram, number of bins = 60')"
   ]
  },
  {
   "cell_type": "markdown",
   "metadata": {},
   "source": [
    "### Part d"
   ]
  },
  {
   "cell_type": "code",
   "execution_count": 47,
   "metadata": {},
   "outputs": [
    {
     "data": {
      "text/plain": [
       "Text(0.5, 1.0, 'histogram, number of bins = 100')"
      ]
     },
     "execution_count": 47,
     "metadata": {},
     "output_type": "execute_result"
    },
    {
     "data": {
      "image/png": "[encoded data removed]",
      "text/plain": [
       "<Figure size 432x288 with 1 Axes>"
      ]
     },
     "metadata": {
      "needs_background": "light"
     },
     "output_type": "display_data"
    }
   ],
   "source": [
    "cleared_data_new.plot(kind='hist', bins = 100,color = 'pink',edgecolor = 'Black')\n",
    "plt.xlabel('midpoints')\n",
    "plt.ylabel('Frequency')\n",
    "plt.title('histogram, number of bins = 100')"
   ]
  },
  {
   "cell_type": "markdown",
   "metadata": {},
   "source": [
    "### Part e"
   ]
  },
  {
   "cell_type": "code",
   "execution_count": 48,
   "metadata": {},
   "outputs": [
    {
     "data": {
      "image/png": "[encoded data removed]",
      "text/plain": [
       "<Figure size 864x864 with 4 Axes>"
      ]
     },
     "metadata": {
      "needs_background": "light"
     },
     "output_type": "display_data"
    }
   ],
   "source": [
    "fig,axes = plt.subplots(2,2)\n",
    "fig.subplots_adjust(hspace=0.3, wspace=0.4)\n",
    "fig.set_figheight(12)\n",
    "fig.set_figwidth(12)\n",
    "\n",
    "axes[0,0].hist(cleared_data_new, bins=10, color='blue',edgecolor = 'Black')\n",
    "axes[0,0].set_title('bins = 10')\n",
    "axes[0,0].set(xlabel='midpoints', ylabel='frequency')\n",
    "\n",
    "axes[0,1].hist(cleared_data_new, bins=40, color='green',edgecolor = 'Black')\n",
    "axes[0,1].set_title('bins = 40')\n",
    "axes[0,1].set(xlabel='midpoints', ylabel='frequency')\n",
    "\n",
    "axes[1,0].hist(cleared_data_new, bins=60, color='red',edgecolor = 'Black')\n",
    "axes[1,0].set_title('bins = 60')\n",
    "axes[1,0].set(xlabel='midpoints', ylabel='frequency')\n",
    "\n",
    "axes[1,1].hist(cleared_data_new, bins=100, color='yellow',edgecolor = 'Black')\n",
    "axes[1,1].set_title('bins = 100')\n",
    "axes[1,1].set(xlabel='midpoints', ylabel='frequency')\n",
    "\n",
    "plt.show()"
   ]
  },
  {
   "cell_type": "markdown",
   "metadata": {},
   "source": [
    "### Part f"
   ]
  },
  {
   "cell_type": "code",
   "execution_count": 49,
   "metadata": {},
   "outputs": [
    {
     "data": {
      "text/plain": [
       "290"
      ]
     },
     "execution_count": 49,
     "metadata": {},
     "output_type": "execute_result"
    }
   ],
   "source": [
    "count = cleared_data_new.count()\n",
    "count"
   ]
  },
  {
   "cell_type": "code",
   "execution_count": 50,
   "metadata": {},
   "outputs": [
    {
     "data": {
      "text/plain": [
       "63.06783"
      ]
     },
     "execution_count": 50,
     "metadata": {},
     "output_type": "execute_result"
    }
   ],
   "source": [
    "min_data = np.min(cleared_data_new)\n",
    "min_data"
   ]
  },
  {
   "cell_type": "code",
   "execution_count": 51,
   "metadata": {},
   "outputs": [
    {
     "data": {
      "text/plain": [
       "864.16736"
      ]
     },
     "execution_count": 51,
     "metadata": {},
     "output_type": "execute_result"
    }
   ],
   "source": [
    "max_data = np.max(cleared_data_new)\n",
    "max_data"
   ]
  },
  {
   "cell_type": "code",
   "execution_count": 52,
   "metadata": {},
   "outputs": [
    {
     "data": {
      "text/plain": [
       "297.6085484482757"
      ]
     },
     "execution_count": 52,
     "metadata": {},
     "output_type": "execute_result"
    }
   ],
   "source": [
    "AM = np.mean(cleared_data_new)\n",
    "AM"
   ]
  },
  {
   "cell_type": "code",
   "execution_count": 53,
   "metadata": {},
   "outputs": [],
   "source": [
    "# The formulations of sample and population variances are different. The results are alittle different, not much.\n",
    "# But we normally use the sample variance because we can not access to the all data in population.\n",
    "# Then from sample variance, we can obtain the population variance."
   ]
  },
  {
   "cell_type": "code",
   "execution_count": 54,
   "metadata": {},
   "outputs": [
    {
     "data": {
      "text/plain": [
       "20895.523619785898"
      ]
     },
     "execution_count": 54,
     "metadata": {},
     "output_type": "execute_result"
    }
   ],
   "source": [
    "# based on population formula\n",
    "varp = np.var(cleared_data_new,ddof=1)\n",
    "varp"
   ]
  },
  {
   "cell_type": "code",
   "execution_count": 55,
   "metadata": {},
   "outputs": [
    {
     "data": {
      "text/plain": [
       "20895.523619785898"
      ]
     },
     "execution_count": 55,
     "metadata": {},
     "output_type": "execute_result"
    }
   ],
   "source": [
    "# based on sample formula\n",
    "stds = statistics.variance(cleared_data_new)\n",
    "stds"
   ]
  },
  {
   "cell_type": "code",
   "execution_count": 56,
   "metadata": {},
   "outputs": [],
   "source": [
    "# The formulations of sample and population standard deviations are different. The results are alittle different, not much.\n",
    "# But we normally use the sample std because we can not access to the all data in population.\n",
    "# Then from sample std, we can obtain the population std."
   ]
  },
  {
   "cell_type": "code",
   "execution_count": 57,
   "metadata": {},
   "outputs": [
    {
     "data": {
      "text/plain": [
       "144.55284023424062"
      ]
     },
     "execution_count": 57,
     "metadata": {},
     "output_type": "execute_result"
    }
   ],
   "source": [
    "# based on population formula\n",
    "stdp = np.std(cleared_data_new,ddof=1)\n",
    "stdp"
   ]
  },
  {
   "cell_type": "code",
   "execution_count": 58,
   "metadata": {},
   "outputs": [
    {
     "data": {
      "text/plain": [
       "144.55284023424062"
      ]
     },
     "execution_count": 58,
     "metadata": {},
     "output_type": "execute_result"
    }
   ],
   "source": [
    "# based on sample formula\n",
    "stds = statistics.stdev(cleared_data_new)\n",
    "stds"
   ]
  },
  {
   "cell_type": "code",
   "execution_count": 59,
   "metadata": {},
   "outputs": [
    {
     "data": {
      "text/plain": [
       "1.2440592809302682"
      ]
     },
     "execution_count": 59,
     "metadata": {},
     "output_type": "execute_result"
    }
   ],
   "source": [
    "# Measure of symmetry in the distribution of the data values\n",
    "sk = skew(cleared_data_new)\n",
    "sk"
   ]
  },
  {
   "cell_type": "code",
   "execution_count": 60,
   "metadata": {},
   "outputs": [],
   "source": [
    "# Because it is positive, so we understand that Values are clustered toward the lower end"
   ]
  },
  {
   "cell_type": "code",
   "execution_count": 61,
   "metadata": {},
   "outputs": [
    {
     "data": {
      "text/plain": [
       "1.8589389415232862"
      ]
     },
     "execution_count": 61,
     "metadata": {},
     "output_type": "execute_result"
    }
   ],
   "source": [
    "# Measures the flatness or peakedness of the distribution\n",
    "kurt = kurtosis(cleared_data_new)\n",
    "kurt"
   ]
  },
  {
   "cell_type": "code",
   "execution_count": 62,
   "metadata": {},
   "outputs": [],
   "source": [
    "# Because it is positive, so we understand that the distribution is more peaked and the data has fewer extreme values"
   ]
  },
  {
   "cell_type": "code",
   "execution_count": 63,
   "metadata": {},
   "outputs": [
    {
     "data": {
      "text/plain": [
       "195.1241875"
      ]
     },
     "execution_count": 63,
     "metadata": {},
     "output_type": "execute_result"
    }
   ],
   "source": [
    "# Q1 = P25 = lower (first) Quartile\n",
    "Q1 = np.quantile(cleared_data2,0.25)\n",
    "Q1"
   ]
  },
  {
   "cell_type": "code",
   "execution_count": 64,
   "metadata": {},
   "outputs": [
    {
     "data": {
      "text/plain": [
       "268.35458500000004"
      ]
     },
     "execution_count": 64,
     "metadata": {},
     "output_type": "execute_result"
    }
   ],
   "source": [
    "# Q2 = P50 = median\n",
    "Q2 = np.quantile(cleared_data2,0.5)\n",
    "Q2"
   ]
  },
  {
   "cell_type": "code",
   "execution_count": 65,
   "metadata": {},
   "outputs": [
    {
     "data": {
      "text/plain": [
       "366.26623500000005"
      ]
     },
     "execution_count": 65,
     "metadata": {},
     "output_type": "execute_result"
    }
   ],
   "source": [
    "# Q3 = P75 = upper (third) Quartile\n",
    "Q3 = np.quantile(cleared_data2,0.75)\n",
    "Q3"
   ]
  },
  {
   "cell_type": "markdown",
   "metadata": {},
   "source": [
    "# Problem 5"
   ]
  },
  {
   "cell_type": "markdown",
   "metadata": {},
   "source": [
    "### Constructing the PDF and CDF"
   ]
  },
  {
   "cell_type": "code",
   "execution_count": 66,
   "metadata": {},
   "outputs": [],
   "source": [
    "output = np.histogram(cleared_data_new,bins = 20)"
   ]
  },
  {
   "cell_type": "code",
   "execution_count": 67,
   "metadata": {},
   "outputs": [
    {
     "data": {
      "text/plain": [
       "array([ 7, 20, 34, 41, 39, 34, 29, 23, 17, 11, 10,  6,  4,  4,  2,  3,  1,\n",
       "        3,  0,  2], dtype=int64)"
      ]
     },
     "execution_count": 67,
     "metadata": {},
     "output_type": "execute_result"
    }
   ],
   "source": [
    "freq = output[0]\n",
    "freq"
   ]
  },
  {
   "cell_type": "code",
   "execution_count": 68,
   "metadata": {},
   "outputs": [
    {
     "data": {
      "text/plain": [
       "array([0.02413793, 0.06896552, 0.11724138, 0.14137931, 0.13448276,\n",
       "       0.11724138, 0.1       , 0.07931034, 0.05862069, 0.03793103,\n",
       "       0.03448276, 0.02068966, 0.0137931 , 0.0137931 , 0.00689655,\n",
       "       0.01034483, 0.00344828, 0.01034483, 0.        , 0.00689655])"
      ]
     },
     "execution_count": 68,
     "metadata": {},
     "output_type": "execute_result"
    }
   ],
   "source": [
    "rel_freq = freq / n\n",
    "rel_freq"
   ]
  },
  {
   "cell_type": "code",
   "execution_count": 69,
   "metadata": {},
   "outputs": [
    {
     "data": {
      "text/plain": [
       "array([63.06783, 103.1228065, 143.177783, 183.2327595, 223.287736,\n",
       "       263.3427125, 303.397689, 343.4526655, 383.50764200000003,\n",
       "       423.56261850000004, 463.61759500000005, 503.67257150000006,\n",
       "       543.727548, 583.7825245, 623.837501, 663.8924775, 703.947454,\n",
       "       744.0024305, 784.057407, 824.1123835, 864.16736], dtype=object)"
      ]
     },
     "execution_count": 69,
     "metadata": {},
     "output_type": "execute_result"
    }
   ],
   "source": [
    "bins_boundary = output[1]\n",
    "bins_boundary"
   ]
  },
  {
   "cell_type": "code",
   "execution_count": 70,
   "metadata": {},
   "outputs": [
    {
     "data": {
      "text/plain": [
       "array([83.09531824999999, 123.15029475, 163.20527125, 203.26024775,\n",
       "       243.31522425, 283.37020075, 323.42517725000005, 363.48015375,\n",
       "       403.53513025000007, 443.59010675, 483.6450832500001, 523.70005975,\n",
       "       563.75503625, 603.8100127499999, 643.86498925, 683.9199657500001,\n",
       "       723.9749422499999, 764.02991875, 804.08489525, 844.13987175],\n",
       "      dtype=object)"
      ]
     },
     "execution_count": 70,
     "metadata": {},
     "output_type": "execute_result"
    }
   ],
   "source": [
    "midpoints = (bins_boundary[0:-1] + bins_boundary[1:]) / 2\n",
    "midpoints"
   ]
  },
  {
   "cell_type": "code",
   "execution_count": 71,
   "metadata": {},
   "outputs": [
    {
     "data": {
      "image/png": "[encoded data removed]",
      "text/plain": [
       "<Figure size 432x288 with 1 Axes>"
      ]
     },
     "metadata": {
      "needs_background": "light"
     },
     "output_type": "display_data"
    }
   ],
   "source": [
    "plt.plot(midpoints,freq)\n",
    "plt.xlabel('midpoints')\n",
    "plt.ylabel('frequency')\n",
    "plt.title('pdf')\n",
    "plt.grid()"
   ]
  },
  {
   "cell_type": "code",
   "execution_count": 72,
   "metadata": {},
   "outputs": [
    {
     "data": {
      "text/plain": [
       "array([0.02413793, 0.09310345, 0.21034483, 0.35172414, 0.4862069 ,\n",
       "       0.60344828, 0.70344828, 0.78275862, 0.84137931, 0.87931034,\n",
       "       0.9137931 , 0.93448276, 0.94827586, 0.96206897, 0.96896552,\n",
       "       0.97931034, 0.98275862, 0.99310345, 0.99310345, 1.        ])"
      ]
     },
     "execution_count": 72,
     "metadata": {},
     "output_type": "execute_result"
    }
   ],
   "source": [
    "F = np.cumsum(rel_freq)\n",
    "F"
   ]
  },
  {
   "cell_type": "code",
   "execution_count": 73,
   "metadata": {},
   "outputs": [
    {
     "data": {
      "image/png": "[encoded data removed]",
      "text/plain": [
       "<Figure size 1080x288 with 1 Axes>"
      ]
     },
     "metadata": {
      "needs_background": "light"
     },
     "output_type": "display_data"
    }
   ],
   "source": [
    "f = plt.figure() \n",
    "f.set_figwidth(15)\n",
    "plt.plot(midpoints,F)\n",
    "plt.xlabel('midpoints')\n",
    "plt.ylabel('Cumulative Frequency')\n",
    "plt.title('cdf')\n",
    "plt.grid()\n",
    "xaxis = plt.xticks(np.arange(min_data,max_data,25))\n",
    "yaxis = plt.yticks(np.arange(0,1.1,0.1))"
   ]
  },
  {
   "cell_type": "markdown",
   "metadata": {},
   "source": [
    "### Part a"
   ]
  },
  {
   "cell_type": "code",
   "execution_count": 74,
   "metadata": {},
   "outputs": [
    {
     "data": {
      "text/plain": [
       "(array([  8,  18,  19,  23,  36,  37,  39,  44,  60,  62,  69,  84,  85,\n",
       "         90,  91,  93, 114, 131, 147, 196, 212, 218, 232, 253, 261, 273,\n",
       "        276, 280, 285, 286], dtype=int64),)"
      ]
     },
     "execution_count": 74,
     "metadata": {},
     "output_type": "execute_result"
    }
   ],
   "source": [
    "ind = np.where((400 <= cleared_data2) * (cleared_data2 <= 500))\n",
    "ind"
   ]
  },
  {
   "cell_type": "code",
   "execution_count": 75,
   "metadata": {},
   "outputs": [
    {
     "data": {
      "text/plain": [
       "array([452.99454, 450.07883, 492.45065, 473.19931, 428.84756, 497.66058,\n",
       "       421.59274, 410.30362, 408.38232, 418.55548, 431.11905, 479.4614,\n",
       "       483.22165, 441.97116, 413.37439, 465.89539, 460.54706, 489.87967,\n",
       "       433.59235, 477.02136, 440.05624, 468.38895, 457.81982, 416.22964,\n",
       "       402.83643, 414.3381, 456.21786, 400.40039, 404.79108, 435.24481],\n",
       "      dtype=object)"
      ]
     },
     "execution_count": 75,
     "metadata": {},
     "output_type": "execute_result"
    }
   ],
   "source": [
    "Value = cleared_data2[ind]\n",
    "Value"
   ]
  },
  {
   "cell_type": "code",
   "execution_count": 76,
   "metadata": {},
   "outputs": [
    {
     "data": {
      "text/plain": [
       "30"
      ]
     },
     "execution_count": 76,
     "metadata": {},
     "output_type": "execute_result"
    }
   ],
   "source": [
    "# The frequency of the data between 400 and 500\n",
    "freq_specific = np.size(ind)\n",
    "freq_specific"
   ]
  },
  {
   "cell_type": "code",
   "execution_count": 77,
   "metadata": {},
   "outputs": [
    {
     "data": {
      "text/plain": [
       "0.10344827586206896"
      ]
     },
     "execution_count": 77,
     "metadata": {},
     "output_type": "execute_result"
    }
   ],
   "source": [
    "# The relative frequency of the data between 400 and 500\n",
    "relfreq_specific = freq_specific / n\n",
    "relfreq_specific"
   ]
  },
  {
   "cell_type": "markdown",
   "metadata": {},
   "source": [
    "### Part b"
   ]
  },
  {
   "cell_type": "markdown",
   "metadata": {},
   "source": [
    "## Muzammil Correction\n",
    "### b) By visual inspection, the PDF has it's mode where the CDF is steepest."
   ]
  },
  {
   "cell_type": "markdown",
   "metadata": {},
   "source": [
    "### Part c"
   ]
  },
  {
   "cell_type": "code",
   "execution_count": 78,
   "metadata": {},
   "outputs": [],
   "source": [
    "# value of percentiles from cdf (visually)\n",
    "P10 = 125.5\n",
    "P50 = median = 250.5\n",
    "P90 = 463"
   ]
  },
  {
   "cell_type": "code",
   "execution_count": 79,
   "metadata": {},
   "outputs": [
    {
     "data": {
      "text/plain": [
       "146.830934"
      ]
     },
     "execution_count": 79,
     "metadata": {},
     "output_type": "execute_result"
    }
   ],
   "source": [
    "# Value of percentiles from cdf (by python function)\n",
    "# so the answer is yes. There are some functions that can detrmine the percentiles\n",
    "P10 = np.percentile(cleared_data2, 10)\n",
    "P10"
   ]
  },
  {
   "cell_type": "code",
   "execution_count": 80,
   "metadata": {},
   "outputs": [
    {
     "data": {
      "text/plain": [
       "268.35458500000004"
      ]
     },
     "execution_count": 80,
     "metadata": {},
     "output_type": "execute_result"
    }
   ],
   "source": [
    "# P50 = Median\n",
    "P50 = np.percentile(cleared_data2, 50)\n",
    "P50"
   ]
  },
  {
   "cell_type": "code",
   "execution_count": 81,
   "metadata": {},
   "outputs": [
    {
     "data": {
      "text/plain": [
       "483.88745200000017"
      ]
     },
     "execution_count": 81,
     "metadata": {},
     "output_type": "execute_result"
    }
   ],
   "source": [
    "P90 = np.percentile(cleared_data2, 90)\n",
    "P90"
   ]
  },
  {
   "cell_type": "markdown",
   "metadata": {},
   "source": [
    "# Problem 6"
   ]
  },
  {
   "cell_type": "code",
   "execution_count": 82,
   "metadata": {},
   "outputs": [
    {
     "data": {
      "image/png": "[encoded data removed]",
      "text/plain": [
       "<Figure size 432x288 with 1 Axes>"
      ]
     },
     "metadata": {
      "needs_background": "light"
     },
     "output_type": "display_data"
    }
   ],
   "source": [
    "bx = plt.boxplot(cleared_data2, showmeans = True)\n",
    "plt.grid()"
   ]
  },
  {
   "cell_type": "markdown",
   "metadata": {},
   "source": [
    "# Problem 7"
   ]
  },
  {
   "cell_type": "markdown",
   "metadata": {},
   "source": [
    "### Data Extraction and Processes"
   ]
  },
  {
   "cell_type": "code",
   "execution_count": 83,
   "metadata": {},
   "outputs": [
    {
     "data": {
      "text/html": [
       "<div>\n",
       "<style scoped>\n",
       "    .dataframe tbody tr th:only-of-type {\n",
       "        vertical-align: middle;\n",
       "    }\n",
       "\n",
       "    .dataframe tbody tr th {\n",
       "        vertical-align: top;\n",
       "    }\n",
       "\n",
       "    .dataframe thead th {\n",
       "        text-align: right;\n",
       "    }\n",
       "</style>\n",
       "<table border=\"1\" class=\"dataframe\">\n",
       "  <thead>\n",
       "    <tr style=\"text-align: right;\">\n",
       "      <th></th>\n",
       "      <th>Unnamed: 0</th>\n",
       "      <th>Med Sd Well 21-P</th>\n",
       "      <th>Med Sd Well 32-P</th>\n",
       "      <th>Fine Sd Well 21-P</th>\n",
       "    </tr>\n",
       "  </thead>\n",
       "  <tbody>\n",
       "    <tr>\n",
       "      <th>0</th>\n",
       "      <td>NaN</td>\n",
       "      <td>16.88830</td>\n",
       "      <td>18.33272</td>\n",
       "      <td>14.88249</td>\n",
       "    </tr>\n",
       "    <tr>\n",
       "      <th>1</th>\n",
       "      <td>NaN</td>\n",
       "      <td>29.15465</td>\n",
       "      <td>19.09493</td>\n",
       "      <td>18.89656</td>\n",
       "    </tr>\n",
       "    <tr>\n",
       "      <th>2</th>\n",
       "      <td>NaN</td>\n",
       "      <td>17.93230</td>\n",
       "      <td>23.83011</td>\n",
       "      <td>11.78765</td>\n",
       "    </tr>\n",
       "    <tr>\n",
       "      <th>3</th>\n",
       "      <td>NaN</td>\n",
       "      <td>29.67166</td>\n",
       "      <td>27.19730</td>\n",
       "      <td>20.21119</td>\n",
       "    </tr>\n",
       "    <tr>\n",
       "      <th>4</th>\n",
       "      <td>NaN</td>\n",
       "      <td>34.23289</td>\n",
       "      <td>28.75427</td>\n",
       "      <td>13.03148</td>\n",
       "    </tr>\n",
       "  </tbody>\n",
       "</table>\n",
       "</div>"
      ],
      "text/plain": [
       "   Unnamed: 0  Med Sd Well 21-P  Med Sd Well 32-P  Fine Sd Well 21-P\n",
       "0         NaN          16.88830          18.33272           14.88249\n",
       "1         NaN          29.15465          19.09493           18.89656\n",
       "2         NaN          17.93230          23.83011           11.78765\n",
       "3         NaN          29.67166          27.19730           20.21119\n",
       "4         NaN          34.23289          28.75427           13.03148"
      ]
     },
     "execution_count": 83,
     "metadata": {},
     "output_type": "execute_result"
    }
   ],
   "source": [
    "Data2 = pd.read_excel('a1_qqpp_data.xlsx',header=[3])\n",
    "Data2.head()"
   ]
  },
  {
   "cell_type": "code",
   "execution_count": 84,
   "metadata": {},
   "outputs": [
    {
     "data": {
      "text/html": [
       "<div>\n",
       "<style scoped>\n",
       "    .dataframe tbody tr th:only-of-type {\n",
       "        vertical-align: middle;\n",
       "    }\n",
       "\n",
       "    .dataframe tbody tr th {\n",
       "        vertical-align: top;\n",
       "    }\n",
       "\n",
       "    .dataframe thead th {\n",
       "        text-align: right;\n",
       "    }\n",
       "</style>\n",
       "<table border=\"1\" class=\"dataframe\">\n",
       "  <thead>\n",
       "    <tr style=\"text-align: right;\">\n",
       "      <th></th>\n",
       "      <th>Med Sd Well 21-P</th>\n",
       "      <th>Med Sd Well 32-P</th>\n",
       "      <th>Fine Sd Well 21-P</th>\n",
       "    </tr>\n",
       "  </thead>\n",
       "  <tbody>\n",
       "    <tr>\n",
       "      <th>0</th>\n",
       "      <td>16.88830</td>\n",
       "      <td>18.33272</td>\n",
       "      <td>14.88249</td>\n",
       "    </tr>\n",
       "    <tr>\n",
       "      <th>1</th>\n",
       "      <td>29.15465</td>\n",
       "      <td>19.09493</td>\n",
       "      <td>18.89656</td>\n",
       "    </tr>\n",
       "    <tr>\n",
       "      <th>2</th>\n",
       "      <td>17.93230</td>\n",
       "      <td>23.83011</td>\n",
       "      <td>11.78765</td>\n",
       "    </tr>\n",
       "    <tr>\n",
       "      <th>3</th>\n",
       "      <td>29.67166</td>\n",
       "      <td>27.19730</td>\n",
       "      <td>20.21119</td>\n",
       "    </tr>\n",
       "    <tr>\n",
       "      <th>4</th>\n",
       "      <td>34.23289</td>\n",
       "      <td>28.75427</td>\n",
       "      <td>13.03148</td>\n",
       "    </tr>\n",
       "  </tbody>\n",
       "</table>\n",
       "</div>"
      ],
      "text/plain": [
       "   Med Sd Well 21-P  Med Sd Well 32-P  Fine Sd Well 21-P\n",
       "0          16.88830          18.33272           14.88249\n",
       "1          29.15465          19.09493           18.89656\n",
       "2          17.93230          23.83011           11.78765\n",
       "3          29.67166          27.19730           20.21119\n",
       "4          34.23289          28.75427           13.03148"
      ]
     },
     "execution_count": 84,
     "metadata": {},
     "output_type": "execute_result"
    }
   ],
   "source": [
    "Data2 = Data2.drop(columns = ['Unnamed: 0'])\n",
    "Data2.head()"
   ]
  },
  {
   "cell_type": "code",
   "execution_count": 85,
   "metadata": {},
   "outputs": [
    {
     "data": {
      "text/plain": [
       "array([ 2.5345 ,  4.14586,  5.08965,  5.745  ,  7.55609,  7.79653,\n",
       "        8.02483,  9.0928 ,  9.18354,  9.47584, 10.82797, 11.11117,\n",
       "       11.32968, 11.45469, 11.74693, 11.98053, 12.17318, 12.37495,\n",
       "       12.88706, 13.00362, 13.29433, 14.3333 , 14.69388, 14.70405,\n",
       "       15.11494, 15.75026, 16.22294, 16.47545, 16.8883 , 17.26412,\n",
       "       17.77167, 17.81341, 17.9323 , 18.29975, 18.41029, 19.09732,\n",
       "       19.52989, 20.06109, 20.45649, 20.71309, 20.94631, 21.13447,\n",
       "       21.23697, 21.43571, 21.89576, 22.05221, 22.17319, 22.41617,\n",
       "       22.76767, 22.99558, 23.35157, 23.48713, 23.6897 , 24.03003,\n",
       "       24.34298, 24.42447, 25.03494, 25.50434, 25.87298, 25.96202,\n",
       "       26.04215, 26.07012, 26.30984, 26.3467 , 26.4506 , 26.7671 ,\n",
       "       26.89263, 27.2062 , 27.4495 , 28.13552, 28.23126, 28.26888,\n",
       "       28.33821, 28.42673, 29.15465, 29.29846, 29.41448, 29.52005,\n",
       "       29.63339, 29.67166, 29.94598, 30.30786, 30.85769, 31.48557,\n",
       "       31.68611, 31.91586, 32.48781, 33.79116, 34.23289, 34.56629,\n",
       "       34.87104, 35.08676, 35.61857, 37.00942, 37.49445, 38.07479,\n",
       "       39.10243, 39.76834, 42.08933, 43.63496])"
      ]
     },
     "execution_count": 85,
     "metadata": {},
     "output_type": "execute_result"
    }
   ],
   "source": [
    "Med_Sd_Well_21_P = Data2['Med Sd Well 21-P']\n",
    "Med_Sd_Well_21_P = np.sort(Med_Sd_Well_21_P)\n",
    "Med_Sd_Well_21_P"
   ]
  },
  {
   "cell_type": "code",
   "execution_count": 86,
   "metadata": {},
   "outputs": [
    {
     "data": {
      "text/plain": [
       "Text(0.5, 1.0, 'cdf using individual data points for Med_Sd_Well_21_P')"
      ]
     },
     "execution_count": 86,
     "metadata": {},
     "output_type": "execute_result"
    },
    {
     "data": {
      "image/png": "[encoded data removed]",
      "text/plain": [
       "<Figure size 432x288 with 1 Axes>"
      ]
     },
     "metadata": {
      "needs_background": "light"
     },
     "output_type": "display_data"
    }
   ],
   "source": [
    "rank_i_MS21 = (np.arange(len(Med_Sd_Well_21_P))+1)/(len(Med_Sd_Well_21_P)+1)\n",
    "plt.plot(Med_Sd_Well_21_P,rank_i_MS21)\n",
    "plt.xlabel('Porosity')\n",
    "plt.ylabel('Cumulative Relative Frequency , i/(n+1) ')\n",
    "plt.title('cdf using individual data points for Med_Sd_Well_21_P')"
   ]
  },
  {
   "cell_type": "code",
   "execution_count": 87,
   "metadata": {},
   "outputs": [
    {
     "data": {
      "text/plain": [
       "0     18.33272\n",
       "1     19.09493\n",
       "2     23.83011\n",
       "3     27.19730\n",
       "4     28.75427\n",
       "        ...   \n",
       "95         NaN\n",
       "96         NaN\n",
       "97         NaN\n",
       "98         NaN\n",
       "99         NaN\n",
       "Name: Med Sd Well 32-P, Length: 100, dtype: float64"
      ]
     },
     "execution_count": 87,
     "metadata": {},
     "output_type": "execute_result"
    }
   ],
   "source": [
    "Med_Sd_Well_32_P = Data2['Med Sd Well 32-P']\n",
    "Med_Sd_Well_32_P"
   ]
  },
  {
   "cell_type": "code",
   "execution_count": 88,
   "metadata": {},
   "outputs": [
    {
     "data": {
      "text/plain": [
       "array([ 1.58221,  3.31367,  5.11295,  6.01324,  7.14867,  8.66904,\n",
       "        9.33533, 10.11749, 10.93139, 11.8954 , 12.07195, 13.15355,\n",
       "       13.7759 , 14.08763, 14.56369, 15.0764 , 15.90303, 16.54204,\n",
       "       17.02446, 17.31574, 17.61397, 18.33272, 18.89486, 19.09493,\n",
       "       19.9038 , 20.18632, 20.78202, 21.43477, 21.751  , 22.14681,\n",
       "       22.87453, 23.2568 , 23.83011, 24.37352, 24.77206, 25.07205,\n",
       "       25.75546, 26.52458, 27.1973 , 27.42176, 28.52749, 28.75427,\n",
       "       29.83881, 30.25208, 31.26242, 32.58361, 33.46531, 34.73551,\n",
       "       35.79995, 38.61797])"
      ]
     },
     "execution_count": 88,
     "metadata": {},
     "output_type": "execute_result"
    }
   ],
   "source": [
    "Med_Sd_Well_32_P = Med_Sd_Well_32_P.dropna()\n",
    "Med_Sd_Well_32_P = np.sort(Med_Sd_Well_32_P)\n",
    "Med_Sd_Well_32_P"
   ]
  },
  {
   "cell_type": "code",
   "execution_count": 89,
   "metadata": {},
   "outputs": [
    {
     "data": {
      "text/plain": [
       "Text(0.5, 1.0, 'cdf using individual data points for Med_Sd_Well_32_P')"
      ]
     },
     "execution_count": 89,
     "metadata": {},
     "output_type": "execute_result"
    },
    {
     "data": {
      "image/png": "[encoded data removed]",
      "text/plain": [
       "<Figure size 432x288 with 1 Axes>"
      ]
     },
     "metadata": {
      "needs_background": "light"
     },
     "output_type": "display_data"
    }
   ],
   "source": [
    "rank_i_MS32 = (np.arange(len(Med_Sd_Well_32_P))+1)/(len(Med_Sd_Well_32_P)+1)\n",
    "plt.plot(Med_Sd_Well_32_P,rank_i_MS32)\n",
    "plt.xlabel('Porosity')\n",
    "plt.ylabel('Cumulative Relative Frequency , i/(n+1) ')\n",
    "plt.title('cdf using individual data points for Med_Sd_Well_32_P')"
   ]
  },
  {
   "cell_type": "code",
   "execution_count": 90,
   "metadata": {},
   "outputs": [
    {
     "data": {
      "text/plain": [
       "0     14.88249\n",
       "1     18.89656\n",
       "2     11.78765\n",
       "3     20.21119\n",
       "4     13.03148\n",
       "        ...   \n",
       "95         NaN\n",
       "96         NaN\n",
       "97         NaN\n",
       "98         NaN\n",
       "99         NaN\n",
       "Name: Fine Sd Well 21-P, Length: 100, dtype: float64"
      ]
     },
     "execution_count": 90,
     "metadata": {},
     "output_type": "execute_result"
    }
   ],
   "source": [
    "Fine_Sd_Well_21_P = Data2['Fine Sd Well 21-P']\n",
    "Fine_Sd_Well_21_P"
   ]
  },
  {
   "cell_type": "code",
   "execution_count": 91,
   "metadata": {},
   "outputs": [
    {
     "data": {
      "text/plain": [
       "array([ 3.96118,  4.89026,  6.69993,  7.90975,  8.54809,  8.70854,\n",
       "        9.42256,  9.71791, 10.17175, 10.5546 , 11.11402, 11.45691,\n",
       "       11.78765, 12.08311, 12.32926, 12.40251, 12.89326, 13.03148,\n",
       "       13.26882, 13.48887, 13.75866, 14.18017, 14.47324, 14.62049,\n",
       "       14.88249, 15.15911, 15.50866, 15.71362, 15.95888, 16.15091,\n",
       "       16.29841, 16.62292, 17.0444 , 17.25099, 17.38954, 17.78594,\n",
       "       18.21704, 18.29433, 18.65166, 18.89656, 19.52425, 19.7921 ,\n",
       "       20.21119, 20.52161, 21.37533, 21.62997, 22.17369, 22.89114,\n",
       "       24.46288, 26.95082])"
      ]
     },
     "execution_count": 91,
     "metadata": {},
     "output_type": "execute_result"
    }
   ],
   "source": [
    "Fine_Sd_Well_21_P = Fine_Sd_Well_21_P.dropna()\n",
    "Fine_Sd_Well_21_P = np.sort(Fine_Sd_Well_21_P)\n",
    "Fine_Sd_Well_21_P"
   ]
  },
  {
   "cell_type": "code",
   "execution_count": 92,
   "metadata": {},
   "outputs": [
    {
     "data": {
      "text/plain": [
       "Text(0.5, 1.0, 'cdf using individual data points for Fine_Sd_Well_21_P')"
      ]
     },
     "execution_count": 92,
     "metadata": {},
     "output_type": "execute_result"
    },
    {
     "data": {
      "image/png": "[encoded data removed]",
      "text/plain": [
       "<Figure size 432x288 with 1 Axes>"
      ]
     },
     "metadata": {
      "needs_background": "light"
     },
     "output_type": "display_data"
    }
   ],
   "source": [
    "rank_i_FS21 = (np.arange(len(Fine_Sd_Well_21_P))+1)/(len(Fine_Sd_Well_21_P)+1)\n",
    "plt.plot(Fine_Sd_Well_21_P,rank_i_FS21)\n",
    "plt.xlabel('Porosity')\n",
    "plt.ylabel('Cumulative Relative Frequency , i/(n+1) ')\n",
    "plt.title('cdf using individual data points for Fine_Sd_Well_21_P')"
   ]
  },
  {
   "cell_type": "markdown",
   "metadata": {},
   "source": [
    "### QQ Plot"
   ]
  },
  {
   "cell_type": "markdown",
   "metadata": {},
   "source": [
    "#### There are two methods to obtain the quantile values"
   ]
  },
  {
   "cell_type": "code",
   "execution_count": 93,
   "metadata": {},
   "outputs": [],
   "source": [
    "# Method 1\n",
    "quantile = np.arange(0.01,1,0.01)\n",
    "Poro_Med_21 = np.quantile(Med_Sd_Well_21_P,quantile)\n",
    "Poro_Med_32 = np.quantile(Med_Sd_Well_32_P,quantile)\n",
    "Poro_Fine_21 = np.quantile(Fine_Sd_Well_21_P,quantile)"
   ]
  },
  {
   "cell_type": "code",
   "execution_count": 94,
   "metadata": {},
   "outputs": [
    {
     "data": {
      "image/png": "[encoded data removed]",
      "text/plain": [
       "<Figure size 432x288 with 1 Axes>"
      ]
     },
     "metadata": {
      "needs_background": "light"
     },
     "output_type": "display_data"
    }
   ],
   "source": [
    "plt.plot(Poro_Med_21,Poro_Med_32,'*r')\n",
    "x = np.arange(0,45,1)\n",
    "y = x\n",
    "plt.plot(x, y, '-k', label='y=x')\n",
    "plt.title('QQ Plot')\n",
    "plt.xlabel('Porosity (%) of Med_Sd_Well_21_P')\n",
    "plt.ylabel('Porosity (%) of Med_Sd_Well_32_P')\n",
    "plt.grid()"
   ]
  },
  {
   "cell_type": "code",
   "execution_count": 95,
   "metadata": {},
   "outputs": [
    {
     "data": {
      "image/png": "[encoded data removed]",
      "text/plain": [
       "<Figure size 432x288 with 1 Axes>"
      ]
     },
     "metadata": {
      "needs_background": "light"
     },
     "output_type": "display_data"
    }
   ],
   "source": [
    "plt.plot(Poro_Med_21,Poro_Fine_21,'*g')\n",
    "x = np.arange(0,45,1)\n",
    "y = x\n",
    "plt.plot(x, y, '-k', label='y=x')\n",
    "plt.title('QQ Plot')\n",
    "plt.xlabel('Porosity (%) of Med_Sd_Well_21_P')\n",
    "plt.ylabel('Porosity (%) of Fine_Sd_Well_21_P')\n",
    "plt.grid()"
   ]
  },
  {
   "cell_type": "code",
   "execution_count": 96,
   "metadata": {},
   "outputs": [],
   "source": [
    "# Method 2\n",
    "func_MS32 = interp1d(rank_i_MS32,Med_Sd_Well_32_P)\n",
    "func_MS21 = interp1d(rank_i_MS21,Med_Sd_Well_21_P)\n",
    "func_FS21 = interp1d(rank_i_FS21,Fine_Sd_Well_21_P)"
   ]
  },
  {
   "cell_type": "code",
   "execution_count": 97,
   "metadata": {},
   "outputs": [],
   "source": [
    "Quant = np.arange(0.02,0.99,0.01)\n",
    "Poro_MS21 = func_MS21(Quant)\n",
    "Poro_MS32 = func_MS32(Quant)\n",
    "Poro_FS21 = func_FS21(Quant)"
   ]
  },
  {
   "cell_type": "code",
   "execution_count": 98,
   "metadata": {},
   "outputs": [
    {
     "data": {
      "image/png": "[encoded data removed]",
      "text/plain": [
       "<Figure size 432x288 with 1 Axes>"
      ]
     },
     "metadata": {
      "needs_background": "light"
     },
     "output_type": "display_data"
    }
   ],
   "source": [
    "plt.plot(Poro_MS21,Poro_MS32,'ob')\n",
    "x = np.linspace(0,45,46)\n",
    "y = x\n",
    "plt.plot(x, y, '-k', label='y=x')\n",
    "plt.title('QQ Plot')\n",
    "plt.xlabel('Porosity (%) of Med_Sd_Well_21_P')\n",
    "plt.ylabel('Porosity (%) Med_Sd_Well_32_P')\n",
    "plt.grid()"
   ]
  },
  {
   "cell_type": "code",
   "execution_count": 99,
   "metadata": {},
   "outputs": [
    {
     "data": {
      "image/png": "[encoded data removed]",
      "text/plain": [
       "<Figure size 432x288 with 1 Axes>"
      ]
     },
     "metadata": {
      "needs_background": "light"
     },
     "output_type": "display_data"
    }
   ],
   "source": [
    "plt.plot(Poro_MS21,Poro_FS21,'oy')\n",
    "x = np.linspace(0,45,46)\n",
    "y = x\n",
    "plt.plot(x, y, '-k', label='y=x')\n",
    "plt.title('QQ Plot')\n",
    "plt.xlabel('Porosity (%) of Med_Sd_Well_21_P')\n",
    "plt.ylabel('Porosity (%) Fine_Sd_Well_21_P')\n",
    "plt.grid()"
   ]
  },
  {
   "cell_type": "markdown",
   "metadata": {},
   "source": [
    "### PP Plot"
   ]
  },
  {
   "cell_type": "code",
   "execution_count": 100,
   "metadata": {},
   "outputs": [],
   "source": [
    "func_MS32 = interp1d(Med_Sd_Well_32_P,rank_i_MS32)\n",
    "func_MS21 = interp1d(Med_Sd_Well_21_P,rank_i_MS21)\n",
    "func_FS21 = interp1d(Fine_Sd_Well_21_P,rank_i_FS21)"
   ]
  },
  {
   "cell_type": "code",
   "execution_count": 101,
   "metadata": {},
   "outputs": [
    {
     "data": {
      "image/png": "[encoded data removed]",
      "text/plain": [
       "<Figure size 432x288 with 1 Axes>"
      ]
     },
     "metadata": {
      "needs_background": "light"
     },
     "output_type": "display_data"
    }
   ],
   "source": [
    "Poro_range1 = np.arange(3,39,1)\n",
    "quant_MS21 = func_MS21(Poro_range1)\n",
    "quant_MS32 = func_MS32(Poro_range1)\n",
    "plt.plot(quant_MS21,quant_MS32,'ob')\n",
    "x = np.linspace(0,1,100)\n",
    "y = x\n",
    "plt.plot(x, y, '-k', label='y=x')\n",
    "plt.title('P-P Plot')\n",
    "plt.xlabel('percentile value of Med_Sd_Well_21_P')\n",
    "plt.ylabel('Percentile value of Med_Sd_Well_32_P')\n",
    "plt.grid()"
   ]
  },
  {
   "cell_type": "code",
   "execution_count": 102,
   "metadata": {},
   "outputs": [
    {
     "data": {
      "image/png": "[encoded data removed]",
      "text/plain": [
       "<Figure size 432x288 with 1 Axes>"
      ]
     },
     "metadata": {
      "needs_background": "light"
     },
     "output_type": "display_data"
    }
   ],
   "source": [
    "Poro_range2 = np.arange(4,27,1)\n",
    "quant_MS21 = func_MS21(Poro_range2)\n",
    "quant_FS21 = func_FS21(Poro_range2)\n",
    "plt.plot(quant_MS21,quant_FS21,'or')\n",
    "x = np.linspace(0,1,100)\n",
    "y = x\n",
    "plt.plot(x, y, '-k', label='y=x')\n",
    "plt.title('P-P Plot')\n",
    "plt.xlabel('percentile value of Med_Sd_Well_21_P')\n",
    "plt.ylabel('Percentile value of Fine_Sd_Well_21_P')\n",
    "plt.grid()"
   ]
  },
  {
   "cell_type": "markdown",
   "metadata": {},
   "source": [
    "# Problem 8 & 9"
   ]
  },
  {
   "cell_type": "code",
   "execution_count": 103,
   "metadata": {},
   "outputs": [],
   "source": [
    "# In the pdf whcih is attached. The solution with all detailed are in pdf which is attached.\n",
    "# But the answers are reported here as well."
   ]
  },
  {
   "cell_type": "code",
   "execution_count": 104,
   "metadata": {},
   "outputs": [],
   "source": [
    "# Answer:\n",
    "    # Problem 8: P(DH|NH) = 0.0901\n",
    "    # Problem 9: P(B|A') = 0.1333"
   ]
  }
 ],
 "metadata": {
  "kernelspec": {
   "display_name": "Python 3",
   "language": "python",
   "name": "python3"
  },
  "language_info": {
   "codemirror_mode": {
    "name": "ipython",
    "version": 3
   },
   "file_extension": ".py",
   "mimetype": "text/x-python",
   "name": "python",
   "nbconvert_exporter": "python",
   "pygments_lexer": "ipython3",
   "version": "3.7.6"
  }
 },
 "nbformat": 4,
 "nbformat_minor": 4
}
