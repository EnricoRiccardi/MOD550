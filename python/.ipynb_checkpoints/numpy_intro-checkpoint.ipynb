{
 "cells": [
  {
   "cell_type": "markdown",
   "id": "831a2349",
   "metadata": {},
   "source": [
    "$$\n",
    "\\def\\CC{\\bf C}\n",
    "\\def\\QQ{\\bf Q}\n",
    "\\def\\RR{\\bf R}\n",
    "\\def\\ZZ{\\bf Z}\n",
    "\\def\\NN{\\bf N}\n",
    "$$\n",
    "# NumPy: the absolute basics for beginners\n",
    "\n",
    "<div class=\"currentmodule\">\n",
    "\n",
    "numpy\n",
    "\n",
    "</div>\n",
    "\n",
    "Welcome to the absolute beginner's guide to NumPy!\n",
    "\n",
    "NumPy (**Num**erical **Py**thon) is an open source Python library that's\n",
    "widely used in science and engineering. The NumPy library contains\n",
    "multidimensional array data structures, such as the homogeneous,\n",
    "N-dimensional `ndarray`, and a large library of functions that operate\n",
    "efficiently on these data structures. Learn more about NumPy at [What is\n",
    "NumPy](whatisnumpy.ipynb), and if you have comments or suggestions,\n",
    "please [reach out](https://numpy.org/community/)!\n",
    "\n",
    "## How to import NumPy\n",
    "\n",
    "After [installing NumPy](https://numpy.org/install/), it may be imported\n",
    "into Python code like:"
   ]
  },
  {
   "cell_type": "code",
   "execution_count": null,
   "id": "4f79595b",
   "metadata": {},
   "outputs": [],
   "source": [
    "import numpy as np"
   ]
  },
  {
   "cell_type": "markdown",
   "id": "a061e300",
   "metadata": {},
   "source": [
    "This widespread convention allows access to NumPy features with a short,\n",
    "recognizable prefix (`np.`) while distinguishing NumPy features from\n",
    "others that have the same name.\n",
    "\n",
    "## Reading the example code\n",
    "\n",
    "Throughout the NumPy documentation, you will find blocks that look like:"
   ]
  },
  {
   "cell_type": "code",
   "execution_count": null,
   "id": "4b7ff964",
   "metadata": {},
   "outputs": [
    {
     "data": {
      "text/plain": [
       "(2, 3)"
      ]
     },
     "execution_count": 1,
     "metadata": {},
     "output_type": "execute_result"
    }
   ],
   "source": [
    "a = np.array([[1, 2, 3],\n",
    "              [4, 5, 6]])\n",
    "a.shape"
   ]
  },
  {
   "cell_type": "markdown",
   "id": "57b88a29",
   "metadata": {},
   "source": [
    "Text preceded by `>>>` or `...` is **input**, the code that you would\n",
    "enter in a script or at a Python prompt. Everything else is **output**,\n",
    "the results of running your code. Note that `>>>` and `...` are not part\n",
    "of the code and may cause an error if entered at a Python prompt.\n",
    "\n",
    "## Why use NumPy?\n",
    "\n",
    "Python lists are excellent, general-purpose containers. They can be\n",
    "\"heterogeneous\", meaning that they can contain elements of a variety of\n",
    "types, and they are quite fast when used to perform individual\n",
    "operations on a handful of elements.\n",
    "\n",
    "Depending on the characteristics of the data and the types of operations\n",
    "that need to be performed, other containers may be more appropriate; by\n",
    "exploiting these characteristics, we can improve speed, reduce memory\n",
    "consumption, and offer a high-level syntax for performing a variety of\n",
    "common processing tasks. NumPy shines when there are large quantities of\n",
    "\"homogeneous\" (same-type) data to be processed on the CPU.\n",
    "\n",
    "## What is an \"array\"?\n",
    "\n",
    "In computer programming, an array is a structure for storing and\n",
    "retrieving data. We often talk about an array as if it were a grid in\n",
    "space, with each cell storing one element of the data. For instance, if\n",
    "each element of the data were a number, we might visualize a\n",
    "\"one-dimensional\" array like a list:\n",
    "\n",
    "$$\\begin{aligned}\n",
    "\\begin{array}{|c||c|c|c|}\n",
    "\\hline\n",
    "1 & 5 & 2 & 0 \\\\\n",
    "\\hline\n",
    "\\end{array}\n",
    "\\end{aligned}$$\n",
    "\n",
    "A two-dimensional array would be like a table:\n",
    "\n",
    "$$\\begin{aligned}\n",
    "\\begin{array}{|c||c|c|c|}\n",
    "\\hline\n",
    "1 & 5 & 2 & 0 \\\\\n",
    "\\hline\n",
    "8 & 3 & 6 & 1 \\\\\n",
    "\\hline\n",
    "1 & 7 & 2 & 9 \\\\\n",
    "\\hline\n",
    "\\end{array}\n",
    "\\end{aligned}$$\n",
    "\n",
    "A three-dimensional array would be like a set of tables, perhaps stacked\n",
    "as though they were printed on separate pages. In NumPy, this idea is\n",
    "generalized to an arbitrary number of dimensions, and so the fundamental\n",
    "array class is called `ndarray` : it represents an \"N-dimensional\n",
    "array\".\n",
    "\n",
    "Most NumPy arrays have some restrictions. For instance:\n",
    "\n",
    "-   All elements of the array must be of the same type of data.\n",
    "-   Once created, the total size of the the array can't change.\n",
    "-   The shape must be \"rectangular\", not \"jagged\"; e.g., each row of a\n",
    "    two-dimensional array must have the same number of columns.\n",
    "\n",
    "When these conditions are met, NumPy exploits these characteristics to\n",
    "make the array faster, more memory efficient, and more convenient to use\n",
    "than less restrictive data structures.\n",
    "\n",
    "For the remainder of this document, we will use the word \"array\" to\n",
    "refer to an instance of `ndarray`.\n",
    "\n",
    "## Array fundamentals\n",
    "\n",
    "One way to initialize an array is using a Python sequence, such as a\n",
    "list. For example:"
   ]
  },
  {
   "cell_type": "code",
   "execution_count": null,
   "id": "34797c88",
   "metadata": {},
   "outputs": [
    {
     "data": {
      "text/plain": [
       "array([1, 2, 3, 4, 5, 6])"
      ]
     },
     "execution_count": 1,
     "metadata": {},
     "output_type": "execute_result"
    }
   ],
   "source": [
    "a = np.array([1, 2, 3, 4, 5, 6])\n",
    "a"
   ]
  },
  {
   "cell_type": "markdown",
   "id": "01e750ee",
   "metadata": {},
   "source": [
    "Elements of an array can be accessed in `various ways\n",
    "<quickstart.indexing-slicing-and-iterating>`. For instance, we can\n",
    "access an individual element of this array as we would access an element\n",
    "in the original list: using the integer index of the element within\n",
    "square brackets.\n",
    "\n",
    "> \\>\\>\\> a\\[0\\] 1\n",
    "\n",
    "<div class=\"note\">\n",
    "\n",
    "<div class=\"title\">\n",
    "\n",
    "Note\n",
    "\n",
    "</div>\n",
    "\n",
    "As with built-in Python sequences, NumPy arrays are \"0-indexed\": the\n",
    "first element of the array is accessed using index `0`, not `1`.\n",
    "\n",
    "</div>\n",
    "\n",
    "Like the original list, the array is mutable.\n",
    "\n",
    "> \\>\\>\\> a\\[0\\] = 10 \\>\\>\\> a array(\\[10, 2, 3, 4, 5, 6\\])\n",
    "\n",
    "Also like the original list, Python slice notation can be used for\n",
    "indexing.\n",
    "\n",
    "> \\>\\>\\> a\\[:3\\] array(\\[10, 2, 3\\])\n",
    "\n",
    "One major difference is that slice indexing of a list copies the\n",
    "elements into a new list, but slicing an array returns a *view*: an\n",
    "object that refers to the data in the original array. The original array\n",
    "can be mutated using the view.\n",
    "\n",
    "> \\>\\>\\> b = a\\[3:\\] \\>\\>\\> b array(\\[4, 5, 6\\]) \\>\\>\\> b\\[0\\] = 40\n",
    "> \\>\\>\\> a array(\\[ 10, 2, 3, 40, 5, 6\\])\n",
    "\n",
    "See `basics.copies-and-views` for a more comprehensive explanation of\n",
    "when array operations return views rather than copies.\n",
    "\n",
    "Two- and higher-dimensional arrays can be initialized from nested Python\n",
    "sequences:"
   ]
  },
  {
   "cell_type": "code",
   "execution_count": null,
   "id": "e0b68f63",
   "metadata": {},
   "outputs": [
    {
     "data": {
      "text/plain": [
       "array([[ 1,  2,  3,  4],\n",
       "       [ 5,  6,  7,  8],\n",
       "       [ 9, 10, 11, 12]])"
      ]
     },
     "execution_count": 1,
     "metadata": {},
     "output_type": "execute_result"
    }
   ],
   "source": [
    "a = np.array([[1, 2, 3, 4], [5, 6, 7, 8], [9, 10, 11, 12]])\n",
    "a"
   ]
  },
  {
   "cell_type": "markdown",
   "id": "001c471f",
   "metadata": {},
   "source": [
    "In NumPy, a dimension of an array is sometimes referred to as an \"axis\".\n",
    "This terminology may be useful to disambiguate between the\n",
    "dimensionality of an array and the dimensionality of the data\n",
    "represented by the array. For instance, the array `a` could represent\n",
    "three points, each lying within a four-dimensional space, but `a` has\n",
    "only two \"axes\".\n",
    "\n",
    "Another difference between an array and a list of lists is that an\n",
    "element of the array can be accessed by specifying the index along each\n",
    "axis within a *single* set of square brackets, separated by commas. For\n",
    "instance, the element `8` is in row `1` and column `3` :\n",
    "\n",
    "> \\>\\>\\> a\\[1, 3\\] 8\n",
    "\n",
    "<div class=\"note\">\n",
    "\n",
    "<div class=\"title\">\n",
    "\n",
    "Note\n",
    "\n",
    "</div>\n",
    "\n",
    "It is familiar practice in mathematics to refer to elements of a matrix\n",
    "by the row index first and the column index second. This happens to be\n",
    "true for two-dimensional arrays, but a better mental model is to think\n",
    "of the column index as coming *last* and the row index as *second to\n",
    "last*. This generalizes to arrays with *any* number of dimensions.\n",
    "\n",
    "</div>\n",
    "\n",
    "<div class=\"note\">\n",
    "\n",
    "<div class=\"title\">\n",
    "\n",
    "Note\n",
    "\n",
    "</div>\n",
    "\n",
    "You might hear of a 0-D (zero-dimensional) array referred to as a\n",
    "\"scalar\", a 1-D (one-dimensional) array as a \"vector\", a 2-D\n",
    "(two-dimensional) array as a \"matrix\", or an N-D (N-dimensional, where\n",
    "\"N\" is typically an integer greater than 2) array as a \"tensor\". For\n",
    "clarity, it is best to avoid the mathematical terms when referring to an\n",
    "array because the mathematical objects with these names behave\n",
    "differently than arrays (e.g. \"matrix\" multiplication is fundamentally\n",
    "different from \"array\" multiplication), and there are other objects in\n",
    "the scientific Python ecosystem that have these names (e.g. the\n",
    "fundamental data structure of PyTorch is the \"tensor\").\n",
    "\n",
    "</div>\n",
    "\n",
    "## Array attributes\n",
    "\n",
    "*This section covers the* `ndim`, `shape`, `size`, *and* `dtype`\n",
    "*attributes of an array*.\n",
    "\n",
    "------------------------------------------------------------------------\n",
    "\n",
    "The number of dimensions of an array is contained in the `ndim`\n",
    "attribute.\n",
    "\n",
    "> \\>\\>\\> a.ndim 2\n",
    "\n",
    "The shape of an array is a tuple of non-negative integers that specify\n",
    "the number of elements along each dimension.\n",
    "\n",
    "> \\>\\>\\> a.shape (3, 4) \\>\\>\\> len(a.shape) == a.ndim True\n",
    "\n",
    "The fixed, total number of elements in array is contained in the `size`\n",
    "attribute.\n",
    "\n",
    "> \\>\\>\\> a.size 12 \\>\\>\\> import math \\>\\>\\> a.size ==\n",
    "> math.prod(a.shape) True\n",
    "\n",
    "Arrays are typically \"homogeneous\", meaning that they contain elements\n",
    "of only one \"data type\". The data type is recorded in the `dtype`\n",
    "attribute.\n",
    "\n",
    "> \\>\\>\\> a.dtype dtype('int64') \\# \"int\" for integer, \"64\" for 64-bit\n",
    "\n",
    "ref:$Read more about array attributes here <arrays.ndarray>$ and learn\n",
    "about [array objects here](arrays.ipynb).\n",
    "\n",
    "## How to create a basic array\n",
    "\n",
    "*This section covers* `np.zeros()`, `np.ones()`, `np.empty()`,\n",
    "`np.arange()`, `np.linspace()`\n",
    "\n",
    "------------------------------------------------------------------------\n",
    "\n",
    "Besides creating an array from a sequence of elements, you can easily\n",
    "create an array filled with `0`'s:"
   ]
  },
  {
   "cell_type": "code",
   "execution_count": null,
   "id": "6be3a8c3",
   "metadata": {},
   "outputs": [
    {
     "data": {
      "text/plain": [
       "array([0., 0.])"
      ]
     },
     "execution_count": 1,
     "metadata": {},
     "output_type": "execute_result"
    }
   ],
   "source": [
    "np.zeros(2)"
   ]
  },
  {
   "cell_type": "markdown",
   "id": "d1a969d8",
   "metadata": {},
   "source": [
    "Or an array filled with `1`'s:"
   ]
  },
  {
   "cell_type": "code",
   "execution_count": null,
   "id": "318a24f5",
   "metadata": {},
   "outputs": [
    {
     "data": {
      "text/plain": [
       "array([1., 1.])"
      ]
     },
     "execution_count": 1,
     "metadata": {},
     "output_type": "execute_result"
    }
   ],
   "source": [
    "np.ones(2)"
   ]
  },
  {
   "cell_type": "markdown",
   "id": "a3096ef1",
   "metadata": {},
   "source": [
    "Or even an empty array! The function `empty` creates an array whose\n",
    "initial content is random and depends on the state of the memory. The\n",
    "reason to use `empty` over `zeros` (or something similar) is speed -\n",
    "just make sure to fill every element afterwards! :"
   ]
  },
  {
   "cell_type": "code",
   "execution_count": null,
   "id": "02b645e0",
   "metadata": {},
   "outputs": [
    {
     "data": {
      "text/plain": [
       "array([3.14, 42.  ])  # may vary"
      ]
     },
     "execution_count": 1,
     "metadata": {},
     "output_type": "execute_result"
    }
   ],
   "source": [
    "# Create an empty array with 2 elements\n",
    "np.empty(2) #doctest: +SKIP"
   ]
  },
  {
   "cell_type": "markdown",
   "id": "88364045",
   "metadata": {},
   "source": [
    "You can create an array with a range of elements:"
   ]
  },
  {
   "cell_type": "code",
   "execution_count": null,
   "id": "686889b0",
   "metadata": {},
   "outputs": [
    {
     "data": {
      "text/plain": [
       "array([0, 1, 2, 3])"
      ]
     },
     "execution_count": 1,
     "metadata": {},
     "output_type": "execute_result"
    }
   ],
   "source": [
    "np.arange(4)"
   ]
  },
  {
   "cell_type": "markdown",
   "id": "3b170436",
   "metadata": {},
   "source": [
    "And even an array that contains a range of evenly spaced intervals. To\n",
    "do this, you will specify the **first number**, **last number**, and the\n",
    "**step size**. :"
   ]
  },
  {
   "cell_type": "code",
   "execution_count": null,
   "id": "77d8a617",
   "metadata": {},
   "outputs": [
    {
     "data": {
      "text/plain": [
       "array([2, 4, 6, 8])"
      ]
     },
     "execution_count": 1,
     "metadata": {},
     "output_type": "execute_result"
    }
   ],
   "source": [
    "np.arange(2, 9, 2)"
   ]
  },
  {
   "cell_type": "markdown",
   "id": "51a3141d",
   "metadata": {},
   "source": [
    "You can also use `np.linspace()` to create an array with values that are\n",
    "spaced linearly in a specified interval:"
   ]
  },
  {
   "cell_type": "code",
   "execution_count": null,
   "id": "e1ebc609",
   "metadata": {},
   "outputs": [
    {
     "data": {
      "text/plain": [
       "array([ 0. ,  2.5,  5. ,  7.5, 10. ])"
      ]
     },
     "execution_count": 1,
     "metadata": {},
     "output_type": "execute_result"
    }
   ],
   "source": [
    "np.linspace(0, 10, num=5)"
   ]
  },
  {
   "cell_type": "markdown",
   "id": "c49a7315",
   "metadata": {},
   "source": [
    "**Specifying your data type**\n",
    "\n",
    "While the default data type is floating point (`np.float64`), you can\n",
    "explicitly specify which data type you want using the `dtype` keyword. :"
   ]
  },
  {
   "cell_type": "code",
   "execution_count": null,
   "id": "7e91ecff",
   "metadata": {},
   "outputs": [
    {
     "data": {
      "text/plain": [
       "array([1, 1])"
      ]
     },
     "execution_count": 1,
     "metadata": {},
     "output_type": "execute_result"
    }
   ],
   "source": [
    "x = np.ones(2, dtype=np.int64)\n",
    "x"
   ]
  },
  {
   "cell_type": "markdown",
   "id": "bbe62b63",
   "metadata": {},
   "source": [
    "`Learn more about creating arrays here <quickstart.array-creation>`\n",
    "\n",
    "## Adding, removing, and sorting elements\n",
    "\n",
    "*This section covers* `np.sort()`, `np.concatenate()`\n",
    "\n",
    "------------------------------------------------------------------------\n",
    "\n",
    "Sorting an element is simple with `np.sort()`. You can specify the axis,\n",
    "kind, and order when you call the function.\n",
    "\n",
    "If you start with this array:"
   ]
  },
  {
   "cell_type": "code",
   "execution_count": null,
   "id": "e94b56ea",
   "metadata": {},
   "outputs": [],
   "source": [
    "arr = np.array([2, 1, 5, 3, 7, 4, 6, 8])"
   ]
  },
  {
   "cell_type": "markdown",
   "id": "6d9293c7",
   "metadata": {},
   "source": [
    "You can quickly sort the numbers in ascending order with:"
   ]
  },
  {
   "cell_type": "code",
   "execution_count": null,
   "id": "bd48fcef",
   "metadata": {},
   "outputs": [
    {
     "data": {
      "text/plain": [
       "array([1, 2, 3, 4, 5, 6, 7, 8])"
      ]
     },
     "execution_count": 1,
     "metadata": {},
     "output_type": "execute_result"
    }
   ],
   "source": [
    "np.sort(arr)"
   ]
  },
  {
   "cell_type": "markdown",
   "id": "b3d29319",
   "metadata": {},
   "source": [
    "In addition to sort, which returns a sorted copy of an array, you can\n",
    "use:\n",
    "\n",
    "-   $argsort$, which is an indirect sort along a specified axis,\n",
    "-   $lexsort$, which is an indirect stable sort on multiple keys,\n",
    "-   $searchsorted$, which will find elements in a sorted array, and\n",
    "-   $partition$, which is a partial sort.\n",
    "\n",
    "To read more about sorting an array, see: $sort$.\n",
    "\n",
    "If you start with these arrays:"
   ]
  },
  {
   "cell_type": "code",
   "execution_count": null,
   "id": "ef4a743b",
   "metadata": {},
   "outputs": [],
   "source": [
    "a = np.array([1, 2, 3, 4])\n",
    "b = np.array([5, 6, 7, 8])"
   ]
  },
  {
   "cell_type": "markdown",
   "id": "e2cd94bd",
   "metadata": {},
   "source": [
    "You can concatenate them with `np.concatenate()`. :"
   ]
  },
  {
   "cell_type": "code",
   "execution_count": null,
   "id": "227fb26f",
   "metadata": {},
   "outputs": [
    {
     "data": {
      "text/plain": [
       "array([1, 2, 3, 4, 5, 6, 7, 8])"
      ]
     },
     "execution_count": 1,
     "metadata": {},
     "output_type": "execute_result"
    }
   ],
   "source": [
    "np.concatenate((a, b))"
   ]
  },
  {
   "cell_type": "markdown",
   "id": "13a17066",
   "metadata": {},
   "source": [
    "Or, if you start with these arrays:"
   ]
  },
  {
   "cell_type": "code",
   "execution_count": null,
   "id": "fe0bddd1",
   "metadata": {},
   "outputs": [],
   "source": [
    "x = np.array([[1, 2], [3, 4]])\n",
    "y = np.array([[5, 6]])"
   ]
  },
  {
   "cell_type": "markdown",
   "id": "65ea4e50",
   "metadata": {},
   "source": [
    "You can concatenate them with:"
   ]
  },
  {
   "cell_type": "code",
   "execution_count": null,
   "id": "61c61b60",
   "metadata": {},
   "outputs": [
    {
     "data": {
      "text/plain": [
       "array([[1, 2],\n",
       "       [3, 4],\n",
       "       [5, 6]])"
      ]
     },
     "execution_count": 1,
     "metadata": {},
     "output_type": "execute_result"
    }
   ],
   "source": [
    "np.concatenate((x, y), axis=0)"
   ]
  },
  {
   "cell_type": "markdown",
   "id": "af0117ed",
   "metadata": {},
   "source": [
    "In order to remove elements from an array, it's simple to use indexing\n",
    "to select the elements that you want to keep.\n",
    "\n",
    "To read more about concatenate, see: $concatenate$.\n",
    "\n",
    "## How do you know the shape and size of an array?\n",
    "\n",
    "*This section covers* `ndarray.ndim`, `ndarray.size`, `ndarray.shape`\n",
    "\n",
    "------------------------------------------------------------------------\n",
    "\n",
    "`ndarray.ndim` will tell you the number of axes, or dimensions, of the\n",
    "array.\n",
    "\n",
    "`ndarray.size` will tell you the total number of elements of the array.\n",
    "This is the *product* of the elements of the array's shape.\n",
    "\n",
    "`ndarray.shape` will display a tuple of integers that indicate the\n",
    "number of elements stored along each dimension of the array. If, for\n",
    "example, you have a 2-D array with 2 rows and 3 columns, the shape of\n",
    "your array is `(2, 3)`.\n",
    "\n",
    "For example, if you create this array:"
   ]
  },
  {
   "cell_type": "code",
   "execution_count": null,
   "id": "aa5e5cd3",
   "metadata": {},
   "outputs": [],
   "source": [
    "array_example = np.array([[[0, 1, 2, 3],\n",
    "                           [4, 5, 6, 7]],\n",
    "\n",
    "                          [[0, 1, 2, 3],\n",
    "                           [4, 5, 6, 7]],\n",
    "\n",
    "                          [[0 ,1 ,2, 3],\n",
    "                           [4, 5, 6, 7]]])"
   ]
  },
  {
   "cell_type": "markdown",
   "id": "6cf41dbc",
   "metadata": {},
   "source": [
    "To find the number of dimensions of the array, run:"
   ]
  },
  {
   "cell_type": "code",
   "execution_count": null,
   "id": "0956b6ad",
   "metadata": {},
   "outputs": [
    {
     "data": {
      "text/plain": [
       "3"
      ]
     },
     "execution_count": 1,
     "metadata": {},
     "output_type": "execute_result"
    }
   ],
   "source": [
    "array_example.ndim"
   ]
  },
  {
   "cell_type": "markdown",
   "id": "a8f9ab96",
   "metadata": {},
   "source": [
    "To find the total number of elements in the array, run:"
   ]
  },
  {
   "cell_type": "code",
   "execution_count": null,
   "id": "43dc51b6",
   "metadata": {},
   "outputs": [
    {
     "data": {
      "text/plain": [
       "24"
      ]
     },
     "execution_count": 1,
     "metadata": {},
     "output_type": "execute_result"
    }
   ],
   "source": [
    "array_example.size"
   ]
  },
  {
   "cell_type": "markdown",
   "id": "9ad61924",
   "metadata": {},
   "source": [
    "And to find the shape of your array, run:"
   ]
  },
  {
   "cell_type": "code",
   "execution_count": null,
   "id": "ca6cb907",
   "metadata": {},
   "outputs": [
    {
     "data": {
      "text/plain": [
       "(3, 2, 4)"
      ]
     },
     "execution_count": 1,
     "metadata": {},
     "output_type": "execute_result"
    }
   ],
   "source": [
    "array_example.shape"
   ]
  },
  {
   "cell_type": "markdown",
   "id": "3b66f7de",
   "metadata": {},
   "source": [
    "## Can you reshape an array?\n",
    "\n",
    "*This section covers* `arr.reshape()`\n",
    "\n",
    "------------------------------------------------------------------------\n",
    "\n",
    "**Yes!**\n",
    "\n",
    "Using `arr.reshape()` will give a new shape to an array without changing\n",
    "the data. Just remember that when you use the reshape method, the array\n",
    "you want to produce needs to have the same number of elements as the\n",
    "original array. If you start with an array with 12 elements, you'll need\n",
    "to make sure that your new array also has a total of 12 elements.\n",
    "\n",
    "If you start with this array:"
   ]
  },
  {
   "cell_type": "code",
   "execution_count": null,
   "id": "6c2c5ffe",
   "metadata": {},
   "outputs": [
    {
     "data": {
      "text/plain": [
       "[0 1 2 3 4 5]"
      ]
     },
     "execution_count": 1,
     "metadata": {},
     "output_type": "execute_result"
    }
   ],
   "source": [
    "a = np.arange(6)\n",
    "print(a)"
   ]
  },
  {
   "cell_type": "markdown",
   "id": "b7e99ab1",
   "metadata": {},
   "source": [
    "You can use `reshape()` to reshape your array. For example, you can\n",
    "reshape this array to an array with three rows and two columns:"
   ]
  },
  {
   "cell_type": "code",
   "execution_count": null,
   "id": "908a1d3e",
   "metadata": {},
   "outputs": [
    {
     "data": {
      "text/plain": [
       "[[0 1]\n",
       " [2 3]\n",
       " [4 5]]"
      ]
     },
     "execution_count": 1,
     "metadata": {},
     "output_type": "execute_result"
    }
   ],
   "source": [
    "b = a.reshape(3, 2)\n",
    "print(b)"
   ]
  },
  {
   "cell_type": "markdown",
   "id": "f89e0e27",
   "metadata": {},
   "source": [
    "With `np.reshape`, you can specify a few optional parameters:"
   ]
  },
  {
   "cell_type": "code",
   "execution_count": null,
   "id": "7814bb1f",
   "metadata": {},
   "outputs": [
    {
     "data": {
      "text/plain": [
       "array([[0, 1, 2, 3, 4, 5]])"
      ]
     },
     "execution_count": 1,
     "metadata": {},
     "output_type": "execute_result"
    }
   ],
   "source": [
    "np.reshape(a, newshape=(1, 6), order='C')"
   ]
  },
  {
   "cell_type": "markdown",
   "id": "f02ea2bb",
   "metadata": {},
   "source": [
    "`a` is the array to be reshaped.\n",
    "\n",
    "`newshape` is the new shape you want. You can specify an integer or a\n",
    "tuple of integers. If you specify an integer, the result will be an\n",
    "array of that length. The shape should be compatible with the original\n",
    "shape.\n",
    "\n",
    "`order:` `C` means to read/write the elements using C-like index order,\n",
    "`F` means to read/write the elements using Fortran-like index order, `A`\n",
    "means to read/write the elements in Fortran-like index order if a is\n",
    "Fortran contiguous in memory, C-like order otherwise. (This is an\n",
    "optional parameter and doesn't need to be specified.)\n",
    "\n",
    "If you want to learn more about C and Fortran order, you can [read more\n",
    "about the internal organization of NumPy arrays\n",
    "here](numpy-internals.ipynb). Essentially, C and Fortran orders have to\n",
    "do with how indices correspond to the order the array is stored in\n",
    "memory. In Fortran, when moving through the elements of a\n",
    "two-dimensional array as it is stored in memory, the **first** index is\n",
    "the most rapidly varying index. As the first index moves to the next row\n",
    "as it changes, the matrix is stored one column at a time. This is why\n",
    "Fortran is thought of as a **Column-major language**. In C on the other\n",
    "hand, the **last** index changes the most rapidly. The matrix is stored\n",
    "by rows, making it a **Row-major language**. What you do for C or\n",
    "Fortran depends on whether it's more important to preserve the indexing\n",
    "convention or not reorder the data.\n",
    "\n",
    "`Learn more about shape manipulation here <quickstart.shape-manipulation>`.\n",
    "\n",
    "## How to convert a 1D array into a 2D array (how to add a new axis to an array)\n",
    "\n",
    "*This section covers* `np.newaxis`, `np.expand_dims`\n",
    "\n",
    "------------------------------------------------------------------------\n",
    "\n",
    "You can use `np.newaxis` and `np.expand_dims` to increase the dimensions\n",
    "of your existing array.\n",
    "\n",
    "Using `np.newaxis` will increase the dimensions of your array by one\n",
    "dimension when used once. This means that a **1D** array will become a\n",
    "**2D** array, a **2D** array will become a **3D** array, and so on.\n",
    "\n",
    "For example, if you start with this array:"
   ]
  },
  {
   "cell_type": "code",
   "execution_count": null,
   "id": "929bfc82",
   "metadata": {},
   "outputs": [
    {
     "data": {
      "text/plain": [
       "(6,)"
      ]
     },
     "execution_count": 1,
     "metadata": {},
     "output_type": "execute_result"
    }
   ],
   "source": [
    "a = np.array([1, 2, 3, 4, 5, 6])\n",
    "a.shape"
   ]
  },
  {
   "cell_type": "markdown",
   "id": "1ece9524",
   "metadata": {},
   "source": [
    "You can use `np.newaxis` to add a new axis:"
   ]
  },
  {
   "cell_type": "code",
   "execution_count": null,
   "id": "cba5bf04",
   "metadata": {},
   "outputs": [
    {
     "data": {
      "text/plain": [
       "(1, 6)"
      ]
     },
     "execution_count": 1,
     "metadata": {},
     "output_type": "execute_result"
    }
   ],
   "source": [
    "a2 = a[np.newaxis, :]\n",
    "a2.shape"
   ]
  },
  {
   "cell_type": "markdown",
   "id": "08270d75",
   "metadata": {},
   "source": [
    "You can explicitly convert a 1D array to either a row vector or a column\n",
    "vector using `np.newaxis`. For example, you can convert a 1D array to a\n",
    "row vector by inserting an axis along the first dimension:"
   ]
  },
  {
   "cell_type": "code",
   "execution_count": null,
   "id": "b48e8509",
   "metadata": {},
   "outputs": [
    {
     "data": {
      "text/plain": [
       "(1, 6)"
      ]
     },
     "execution_count": 1,
     "metadata": {},
     "output_type": "execute_result"
    }
   ],
   "source": [
    "row_vector = a[np.newaxis, :]\n",
    "row_vector.shape"
   ]
  },
  {
   "cell_type": "markdown",
   "id": "21fce39e",
   "metadata": {},
   "source": [
    "Or, for a column vector, you can insert an axis along the second\n",
    "dimension:"
   ]
  },
  {
   "cell_type": "code",
   "execution_count": null,
   "id": "01c746f5",
   "metadata": {},
   "outputs": [
    {
     "data": {
      "text/plain": [
       "(6, 1)"
      ]
     },
     "execution_count": 1,
     "metadata": {},
     "output_type": "execute_result"
    }
   ],
   "source": [
    "col_vector = a[:, np.newaxis]\n",
    "col_vector.shape"
   ]
  },
  {
   "cell_type": "markdown",
   "id": "498f21a0",
   "metadata": {},
   "source": [
    "You can also expand an array by inserting a new axis at a specified\n",
    "position with `np.expand_dims`.\n",
    "\n",
    "For example, if you start with this array:"
   ]
  },
  {
   "cell_type": "code",
   "execution_count": null,
   "id": "4a4da41e",
   "metadata": {},
   "outputs": [
    {
     "data": {
      "text/plain": [
       "(6,)"
      ]
     },
     "execution_count": 1,
     "metadata": {},
     "output_type": "execute_result"
    }
   ],
   "source": [
    "a = np.array([1, 2, 3, 4, 5, 6])\n",
    "a.shape"
   ]
  },
  {
   "cell_type": "markdown",
   "id": "760850e9",
   "metadata": {},
   "source": [
    "You can use `np.expand_dims` to add an axis at index position 1 with:"
   ]
  },
  {
   "cell_type": "code",
   "execution_count": null,
   "id": "dd5e12d9",
   "metadata": {},
   "outputs": [
    {
     "data": {
      "text/plain": [
       "(6, 1)"
      ]
     },
     "execution_count": 1,
     "metadata": {},
     "output_type": "execute_result"
    }
   ],
   "source": [
    "b = np.expand_dims(a, axis=1)\n",
    "b.shape"
   ]
  },
  {
   "cell_type": "markdown",
   "id": "08784fbe",
   "metadata": {},
   "source": [
    "You can add an axis at index position 0 with:"
   ]
  },
  {
   "cell_type": "code",
   "execution_count": null,
   "id": "0159d217",
   "metadata": {},
   "outputs": [
    {
     "data": {
      "text/plain": [
       "(1, 6)"
      ]
     },
     "execution_count": 1,
     "metadata": {},
     "output_type": "execute_result"
    }
   ],
   "source": [
    "c = np.expand_dims(a, axis=0)\n",
    "c.shape"
   ]
  },
  {
   "cell_type": "markdown",
   "id": "7d4cccbc",
   "metadata": {},
   "source": [
    "Find more information about `newaxis here <arrays.indexing>` and\n",
    "`expand_dims` at $expand_dims$.\n",
    "\n",
    "## Indexing and slicing\n",
    "\n",
    "You can index and slice NumPy arrays in the same ways you can slice\n",
    "Python lists. :"
   ]
  },
  {
   "cell_type": "code",
   "execution_count": null,
   "id": "0cd97743",
   "metadata": {},
   "outputs": [],
   "source": [
    "data = np.array([1, 2, 3])"
   ]
  },
  {
   "cell_type": "code",
   "execution_count": null,
   "id": "a22a51e5",
   "metadata": {},
   "outputs": [
    {
     "data": {
      "text/plain": [
       "2"
      ]
     },
     "execution_count": 1,
     "metadata": {},
     "output_type": "execute_result"
    }
   ],
   "source": [
    "data[1]"
   ]
  },
  {
   "cell_type": "code",
   "execution_count": null,
   "id": "ccbdb9e3",
   "metadata": {},
   "outputs": [
    {
     "data": {
      "text/plain": [
       "array([1, 2])"
      ]
     },
     "execution_count": 1,
     "metadata": {},
     "output_type": "execute_result"
    }
   ],
   "source": [
    "data[0:2]"
   ]
  },
  {
   "cell_type": "code",
   "execution_count": null,
   "id": "54e23e39",
   "metadata": {},
   "outputs": [
    {
     "data": {
      "text/plain": [
       "array([2, 3])"
      ]
     },
     "execution_count": 1,
     "metadata": {},
     "output_type": "execute_result"
    }
   ],
   "source": [
    "data[1:]"
   ]
  },
  {
   "cell_type": "code",
   "execution_count": null,
   "id": "5ebd48d9",
   "metadata": {},
   "outputs": [
    {
     "data": {
      "text/plain": [
       "array([2, 3])"
      ]
     },
     "execution_count": 1,
     "metadata": {},
     "output_type": "execute_result"
    }
   ],
   "source": [
    "data[-2:]"
   ]
  },
  {
   "cell_type": "markdown",
   "id": "d1edadc1",
   "metadata": {},
   "source": [
    "You can visualize it this way:\n",
    "\n",
    "![image](images/np_indexing.png)\n",
    "\n",
    "You may want to take a section of your array or specific array elements\n",
    "to use in further analysis or additional operations. To do that, you'll\n",
    "need to subset, slice, and/or index your arrays.\n",
    "\n",
    "If you want to select values from your array that fulfill certain\n",
    "conditions, it's straightforward with NumPy.\n",
    "\n",
    "For example, if you start with this array:"
   ]
  },
  {
   "cell_type": "code",
   "execution_count": null,
   "id": "0658b766",
   "metadata": {},
   "outputs": [],
   "source": [
    "a = np.array([[1 , 2, 3, 4], [5, 6, 7, 8], [9, 10, 11, 12]])"
   ]
  },
  {
   "cell_type": "markdown",
   "id": "1fe5ef9d",
   "metadata": {},
   "source": [
    "You can easily print all of the values in the array that are less than\n",
    "5. :"
   ]
  },
  {
   "cell_type": "code",
   "execution_count": null,
   "id": "8270f4ea",
   "metadata": {},
   "outputs": [
    {
     "data": {
      "text/plain": [
       "[1 2 3 4]"
      ]
     },
     "execution_count": 1,
     "metadata": {},
     "output_type": "execute_result"
    }
   ],
   "source": [
    "print(a[a < 5])"
   ]
  },
  {
   "cell_type": "markdown",
   "id": "8bb19e0d",
   "metadata": {},
   "source": [
    "You can also select, for example, numbers that are equal to or greater\n",
    "than 5, and use that condition to index an array. :"
   ]
  },
  {
   "cell_type": "code",
   "execution_count": null,
   "id": "961dfbb6",
   "metadata": {},
   "outputs": [
    {
     "data": {
      "text/plain": [
       "[ 5  6  7  8  9 10 11 12]"
      ]
     },
     "execution_count": 1,
     "metadata": {},
     "output_type": "execute_result"
    }
   ],
   "source": [
    "five_up = (a >= 5)\n",
    "print(a[five_up])"
   ]
  },
  {
   "cell_type": "markdown",
   "id": "89ffb48c",
   "metadata": {},
   "source": [
    "You can select elements that are divisible by 2:"
   ]
  },
  {
   "cell_type": "code",
   "execution_count": null,
   "id": "eb656be0",
   "metadata": {},
   "outputs": [
    {
     "data": {
      "text/plain": [
       "[ 2  4  6  8 10 12]"
      ]
     },
     "execution_count": 1,
     "metadata": {},
     "output_type": "execute_result"
    }
   ],
   "source": [
    "divisible_by_2 = a[a%2==0]\n",
    "print(divisible_by_2)"
   ]
  },
  {
   "cell_type": "markdown",
   "id": "a2ce7450",
   "metadata": {},
   "source": [
    "Or you can select elements that satisfy two conditions using the `&` and\n",
    "`|` operators:"
   ]
  },
  {
   "cell_type": "code",
   "execution_count": null,
   "id": "f4db092d",
   "metadata": {},
   "outputs": [
    {
     "data": {
      "text/plain": [
       "[ 3  4  5  6  7  8  9 10]"
      ]
     },
     "execution_count": 1,
     "metadata": {},
     "output_type": "execute_result"
    }
   ],
   "source": [
    "c = a[(a > 2) & (a < 11)]\n",
    "print(c)"
   ]
  },
  {
   "cell_type": "markdown",
   "id": "65014690",
   "metadata": {},
   "source": [
    "You can also make use of the logical operators **&** and **\\|** in order\n",
    "to return boolean values that specify whether or not the values in an\n",
    "array fulfill a certain condition. This can be useful with arrays that\n",
    "contain names or other categorical values. :"
   ]
  },
  {
   "cell_type": "code",
   "execution_count": null,
   "id": "4634d7a2",
   "metadata": {},
   "outputs": [
    {
     "data": {
      "text/plain": [
       "[[False False False False]\n",
       " [ True  True  True  True]\n",
       " [ True  True  True True]]"
      ]
     },
     "execution_count": 1,
     "metadata": {},
     "output_type": "execute_result"
    }
   ],
   "source": [
    "five_up = (a > 5) | (a == 5)\n",
    "print(five_up)"
   ]
  },
  {
   "cell_type": "markdown",
   "id": "23268f35",
   "metadata": {},
   "source": [
    "You can also use `np.nonzero()` to select elements or indices from an\n",
    "array.\n",
    "\n",
    "Starting with this array:"
   ]
  },
  {
   "cell_type": "code",
   "execution_count": null,
   "id": "718616c7",
   "metadata": {},
   "outputs": [],
   "source": [
    "a = np.array([[1, 2, 3, 4], [5, 6, 7, 8], [9, 10, 11, 12]])"
   ]
  },
  {
   "cell_type": "markdown",
   "id": "04c48ee5",
   "metadata": {},
   "source": [
    "You can use `np.nonzero()` to print the indices of elements that are,\n",
    "for example, less than 5:"
   ]
  },
  {
   "cell_type": "code",
   "execution_count": null,
   "id": "4042e767",
   "metadata": {},
   "outputs": [
    {
     "data": {
      "text/plain": [
       "(array([0, 0, 0, 0]), array([0, 1, 2, 3]))"
      ]
     },
     "execution_count": 1,
     "metadata": {},
     "output_type": "execute_result"
    }
   ],
   "source": [
    "b = np.nonzero(a < 5)\n",
    "print(b)"
   ]
  },
  {
   "cell_type": "markdown",
   "id": "4d1f950e",
   "metadata": {},
   "source": [
    "In this example, a tuple of arrays was returned: one for each dimension.\n",
    "The first array represents the row indices where these values are found,\n",
    "and the second array represents the column indices where the values are\n",
    "found.\n",
    "\n",
    "If you want to generate a list of coordinates where the elements exist,\n",
    "you can zip the arrays, iterate over the list of coordinates, and print\n",
    "them. For example:"
   ]
  },
  {
   "cell_type": "code",
   "execution_count": null,
   "id": "a2dc5546",
   "metadata": {},
   "outputs": [],
   "source": [
    "list_of_coordinates= list(zip(b[0], b[1]))"
   ]
  },
  {
   "cell_type": "code",
   "execution_count": null,
   "id": "2e9cf9c3",
   "metadata": {},
   "outputs": [
    {
     "data": {
      "text/plain": [
       "(np.int64(0), np.int64(0))\n",
       "(np.int64(0), np.int64(1))\n",
       "(np.int64(0), np.int64(2))\n",
       "(np.int64(0), np.int64(3))"
      ]
     },
     "execution_count": 1,
     "metadata": {},
     "output_type": "execute_result"
    }
   ],
   "source": [
    "for coord in list_of_coordinates:\n",
    "    print(coord)"
   ]
  },
  {
   "cell_type": "markdown",
   "id": "f78c6713",
   "metadata": {},
   "source": [
    "You can also use `np.nonzero()` to print the elements in an array that\n",
    "are less than 5 with:"
   ]
  },
  {
   "cell_type": "code",
   "execution_count": null,
   "id": "5e1fe39d",
   "metadata": {},
   "outputs": [
    {
     "data": {
      "text/plain": [
       "[1 2 3 4]"
      ]
     },
     "execution_count": 1,
     "metadata": {},
     "output_type": "execute_result"
    }
   ],
   "source": [
    "print(a[b])"
   ]
  },
  {
   "cell_type": "markdown",
   "id": "48445a29",
   "metadata": {},
   "source": [
    "If the element you're looking for doesn't exist in the array, then the\n",
    "returned array of indices will be empty. For example:"
   ]
  },
  {
   "cell_type": "code",
   "execution_count": null,
   "id": "56879af1",
   "metadata": {},
   "outputs": [
    {
     "data": {
      "text/plain": [
       "(array([], dtype=int64), array([], dtype=int64))"
      ]
     },
     "execution_count": 1,
     "metadata": {},
     "output_type": "execute_result"
    }
   ],
   "source": [
    "not_there = np.nonzero(a == 42)\n",
    "print(not_there)"
   ]
  },
  {
   "cell_type": "markdown",
   "id": "ed887590",
   "metadata": {},
   "source": [
    "Learn more about\n",
    "`indexing and slicing here <quickstart.indexing-slicing-and-iterating>`\n",
    "and `here <basics.indexing>`.\n",
    "\n",
    "Read more about using the nonzero function at: $nonzero$.\n",
    "\n",
    "## How to create an array from existing data\n",
    "\n",
    "*This section covers* `slicing and indexing`, `np.vstack()`,\n",
    "`np.hstack()`, `np.hsplit()`, `.view()`, `copy()`\n",
    "\n",
    "------------------------------------------------------------------------\n",
    "\n",
    "You can easily create a new array from a section of an existing array.\n",
    "\n",
    "Let's say you have this array:"
   ]
  },
  {
   "cell_type": "code",
   "execution_count": null,
   "id": "75c9095d",
   "metadata": {},
   "outputs": [],
   "source": [
    "a = np.array([1,  2,  3,  4,  5,  6,  7,  8,  9, 10])"
   ]
  },
  {
   "cell_type": "markdown",
   "id": "73e241d8",
   "metadata": {},
   "source": [
    "You can create a new array from a section of your array any time by\n",
    "specifying where you want to slice your array. :"
   ]
  },
  {
   "cell_type": "code",
   "execution_count": null,
   "id": "2a7067ce",
   "metadata": {},
   "outputs": [
    {
     "data": {
      "text/plain": [
       "array([4, 5, 6, 7, 8])"
      ]
     },
     "execution_count": 1,
     "metadata": {},
     "output_type": "execute_result"
    }
   ],
   "source": [
    "arr1 = a[3:8]\n",
    "arr1"
   ]
  },
  {
   "cell_type": "markdown",
   "id": "cf376caa",
   "metadata": {},
   "source": [
    "Here, you grabbed a section of your array from index position 3 through\n",
    "index position 8.\n",
    "\n",
    "You can also stack two existing arrays, both vertically and\n",
    "horizontally. Let's say you have two arrays, `a1` and `a2` :"
   ]
  },
  {
   "cell_type": "code",
   "execution_count": null,
   "id": "fd25d106",
   "metadata": {},
   "outputs": [],
   "source": [
    "a1 = np.array([[1, 1],\n",
    "               [2, 2]])"
   ]
  },
  {
   "cell_type": "code",
   "execution_count": null,
   "id": "d97e52c2",
   "metadata": {},
   "outputs": [],
   "source": [
    "a2 = np.array([[3, 3],\n",
    "               [4, 4]])"
   ]
  },
  {
   "cell_type": "markdown",
   "id": "3f3d39aa",
   "metadata": {},
   "source": [
    "You can stack them vertically with `vstack` :"
   ]
  },
  {
   "cell_type": "code",
   "execution_count": null,
   "id": "1e706ad6",
   "metadata": {},
   "outputs": [
    {
     "data": {
      "text/plain": [
       "array([[1, 1],\n",
       "       [2, 2],\n",
       "       [3, 3],\n",
       "       [4, 4]])"
      ]
     },
     "execution_count": 1,
     "metadata": {},
     "output_type": "execute_result"
    }
   ],
   "source": [
    "np.vstack((a1, a2))"
   ]
  },
  {
   "cell_type": "markdown",
   "id": "9a6d3d73",
   "metadata": {},
   "source": [
    "Or stack them horizontally with `hstack` :"
   ]
  },
  {
   "cell_type": "code",
   "execution_count": null,
   "id": "96620c77",
   "metadata": {},
   "outputs": [
    {
     "data": {
      "text/plain": [
       "array([[1, 1, 3, 3],\n",
       "       [2, 2, 4, 4]])"
      ]
     },
     "execution_count": 1,
     "metadata": {},
     "output_type": "execute_result"
    }
   ],
   "source": [
    "np.hstack((a1, a2))"
   ]
  },
  {
   "cell_type": "markdown",
   "id": "3588d066",
   "metadata": {},
   "source": [
    "You can split an array into several smaller arrays using `hsplit`. You\n",
    "can specify either the number of equally shaped arrays to return or the\n",
    "columns *after* which the division should occur.\n",
    "\n",
    "Let's say you have this array:"
   ]
  },
  {
   "cell_type": "code",
   "execution_count": null,
   "id": "ad9d7234",
   "metadata": {},
   "outputs": [
    {
     "data": {
      "text/plain": [
       "array([[ 1,  2,  3,  4,  5,  6,  7,  8,  9, 10, 11, 12],\n",
       "       [13, 14, 15, 16, 17, 18, 19, 20, 21, 22, 23, 24]])"
      ]
     },
     "execution_count": 1,
     "metadata": {},
     "output_type": "execute_result"
    }
   ],
   "source": [
    "x = np.arange(1, 25).reshape(2, 12)\n",
    "x"
   ]
  },
  {
   "cell_type": "markdown",
   "id": "aa3c04b7",
   "metadata": {},
   "source": [
    "If you wanted to split this array into three equally shaped arrays, you\n",
    "would run:"
   ]
  },
  {
   "cell_type": "code",
   "execution_count": null,
   "id": "a791ccbe",
   "metadata": {},
   "outputs": [
    {
     "data": {
      "text/plain": [
       "  [array([[ 1,  2,  3,  4],\n",
       "         [13, 14, 15, 16]]), array([[ 5,  6,  7,  8],\n",
       "         [17, 18, 19, 20]]), array([[ 9, 10, 11, 12],\n",
       "         [21, 22, 23, 24]])]"
      ]
     },
     "execution_count": 1,
     "metadata": {},
     "output_type": "execute_result"
    }
   ],
   "source": [
    "np.hsplit(x, 3)"
   ]
  },
  {
   "cell_type": "markdown",
   "id": "2ce82e57",
   "metadata": {},
   "source": [
    "If you wanted to split your array after the third and fourth column,\n",
    "you'd run:"
   ]
  },
  {
   "cell_type": "code",
   "execution_count": null,
   "id": "c977c351",
   "metadata": {},
   "outputs": [
    {
     "data": {
      "text/plain": [
       "  [array([[ 1,  2,  3],\n",
       "         [13, 14, 15]]), array([[ 4],\n",
       "         [16]]), array([[ 5,  6,  7,  8,  9, 10, 11, 12],\n",
       "         [17, 18, 19, 20, 21, 22, 23, 24]])]"
      ]
     },
     "execution_count": 1,
     "metadata": {},
     "output_type": "execute_result"
    }
   ],
   "source": [
    "np.hsplit(x, (3, 4))"
   ]
  },
  {
   "cell_type": "markdown",
   "id": "e8b794ed",
   "metadata": {},
   "source": [
    "`Learn more about stacking and splitting arrays here <quickstart.stacking-arrays>`.\n",
    "\n",
    "You can use the `view` method to create a new array object that looks at\n",
    "the same data as the original array (a *shallow copy*).\n",
    "\n",
    "Views are an important NumPy concept! NumPy functions, as well as\n",
    "operations like indexing and slicing, will return views whenever\n",
    "possible. This saves memory and is faster (no copy of the data has to be\n",
    "made). However it's important to be aware of this - modifying data in a\n",
    "view also modifies the original array!\n",
    "\n",
    "Let's say you create this array:"
   ]
  },
  {
   "cell_type": "code",
   "execution_count": null,
   "id": "af8e2cbe",
   "metadata": {},
   "outputs": [],
   "source": [
    "a = np.array([[1, 2, 3, 4], [5, 6, 7, 8], [9, 10, 11, 12]])"
   ]
  },
  {
   "cell_type": "markdown",
   "id": "6fa42b7e",
   "metadata": {},
   "source": [
    "Now we create an array `b1` by slicing `a` and modify the first element\n",
    "of `b1`. This will modify the corresponding element in `a` as well! :"
   ]
  },
  {
   "cell_type": "code",
   "execution_count": null,
   "id": "f6f99142",
   "metadata": {},
   "outputs": [
    {
     "data": {
      "text/plain": [
       "array([1, 2, 3, 4])"
      ]
     },
     "execution_count": 1,
     "metadata": {},
     "output_type": "execute_result"
    }
   ],
   "source": [
    "b1 = a[0, :]\n",
    "b1"
   ]
  },
  {
   "cell_type": "code",
   "execution_count": null,
   "id": "fbdba4b5",
   "metadata": {},
   "outputs": [
    {
     "data": {
      "text/plain": [
       "array([99,  2,  3,  4])"
      ]
     },
     "execution_count": 1,
     "metadata": {},
     "output_type": "execute_result"
    }
   ],
   "source": [
    "b1[0] = 99\n",
    "b1"
   ]
  },
  {
   "cell_type": "code",
   "execution_count": null,
   "id": "432ca218",
   "metadata": {},
   "outputs": [
    {
     "data": {
      "text/plain": [
       "array([[99,  2,  3,  4],\n",
       "       [ 5,  6,  7,  8],\n",
       "       [ 9, 10, 11, 12]])"
      ]
     },
     "execution_count": 1,
     "metadata": {},
     "output_type": "execute_result"
    }
   ],
   "source": [
    "a"
   ]
  },
  {
   "cell_type": "markdown",
   "id": "1f102c0c",
   "metadata": {},
   "source": [
    "Using the `copy` method will make a complete copy of the array and its\n",
    "data (a *deep copy*). To use this on your array, you could run:"
   ]
  },
  {
   "cell_type": "code",
   "execution_count": null,
   "id": "8252e005",
   "metadata": {},
   "outputs": [],
   "source": [
    "b2 = a.copy()"
   ]
  },
  {
   "cell_type": "markdown",
   "id": "ec01df55",
   "metadata": {},
   "source": [
    "`Learn more about copies and views here <quickstart.copies-and-views>`.\n",
    "\n",
    "## Basic array operations\n",
    "\n",
    "*This section covers addition, subtraction, multiplication, division,\n",
    "and more*\n",
    "\n",
    "------------------------------------------------------------------------\n",
    "\n",
    "Once you've created your arrays, you can start to work with them. Let's\n",
    "say, for example, that you've created two arrays, one called \"data\" and\n",
    "one called \"ones\"\n",
    "\n",
    "![image](images/np_array_dataones.png)\n",
    "\n",
    "You can add the arrays together with the plus sign."
   ]
  },
  {
   "cell_type": "code",
   "execution_count": null,
   "id": "2817784f",
   "metadata": {},
   "outputs": [
    {
     "data": {
      "text/plain": [
       "array([2, 3])"
      ]
     },
     "execution_count": 1,
     "metadata": {},
     "output_type": "execute_result"
    }
   ],
   "source": [
    "data = np.array([1, 2])\n",
    "ones = np.ones(2, dtype=int)\n",
    "data + ones"
   ]
  },
  {
   "cell_type": "markdown",
   "id": "6ca46476",
   "metadata": {},
   "source": [
    "![image](images/np_data_plus_ones.png)\n",
    "\n",
    "You can, of course, do more than just addition!"
   ]
  },
  {
   "cell_type": "code",
   "execution_count": null,
   "id": "0eb9b66f",
   "metadata": {},
   "outputs": [
    {
     "data": {
      "text/plain": [
       "array([0, 1])"
      ]
     },
     "execution_count": 1,
     "metadata": {},
     "output_type": "execute_result"
    }
   ],
   "source": [
    "data - ones"
   ]
  },
  {
   "cell_type": "code",
   "execution_count": null,
   "id": "567491ea",
   "metadata": {},
   "outputs": [
    {
     "data": {
      "text/plain": [
       "array([1, 4])"
      ]
     },
     "execution_count": 1,
     "metadata": {},
     "output_type": "execute_result"
    }
   ],
   "source": [
    "data * data"
   ]
  },
  {
   "cell_type": "code",
   "execution_count": null,
   "id": "f37172f0",
   "metadata": {},
   "outputs": [
    {
     "data": {
      "text/plain": [
       "array([1., 1.])"
      ]
     },
     "execution_count": 1,
     "metadata": {},
     "output_type": "execute_result"
    }
   ],
   "source": [
    "data / data"
   ]
  },
  {
   "cell_type": "markdown",
   "id": "e4b72e27",
   "metadata": {},
   "source": [
    "![image](images/np_sub_mult_divide.png)\n",
    "\n",
    "Basic operations are simple with NumPy. If you want to find the sum of\n",
    "the elements in an array, you'd use `sum()`. This works for 1D arrays,\n",
    "2D arrays, and arrays in higher dimensions. :"
   ]
  },
  {
   "cell_type": "code",
   "execution_count": null,
   "id": "ea2d38eb",
   "metadata": {},
   "outputs": [],
   "source": [
    "a = np.array([1, 2, 3, 4])"
   ]
  },
  {
   "cell_type": "code",
   "execution_count": null,
   "id": "fc2a825f",
   "metadata": {},
   "outputs": [
    {
     "data": {
      "text/plain": [
       "10"
      ]
     },
     "execution_count": 1,
     "metadata": {},
     "output_type": "execute_result"
    }
   ],
   "source": [
    "a.sum()"
   ]
  },
  {
   "cell_type": "markdown",
   "id": "c10630fe",
   "metadata": {},
   "source": [
    "To add the rows or the columns in a 2D array, you would specify the\n",
    "axis.\n",
    "\n",
    "If you start with this array:"
   ]
  },
  {
   "cell_type": "code",
   "execution_count": null,
   "id": "87f8cac4",
   "metadata": {},
   "outputs": [],
   "source": [
    "b = np.array([[1, 1], [2, 2]])"
   ]
  },
  {
   "cell_type": "markdown",
   "id": "2d6b512b",
   "metadata": {},
   "source": [
    "You can sum over the axis of rows with:"
   ]
  },
  {
   "cell_type": "code",
   "execution_count": null,
   "id": "527cc9a6",
   "metadata": {},
   "outputs": [
    {
     "data": {
      "text/plain": [
       "array([3, 3])"
      ]
     },
     "execution_count": 1,
     "metadata": {},
     "output_type": "execute_result"
    }
   ],
   "source": [
    "b.sum(axis=0)"
   ]
  },
  {
   "cell_type": "markdown",
   "id": "0c0760dc",
   "metadata": {},
   "source": [
    "You can sum over the axis of columns with:"
   ]
  },
  {
   "cell_type": "code",
   "execution_count": null,
   "id": "e69a921c",
   "metadata": {},
   "outputs": [
    {
     "data": {
      "text/plain": [
       "array([2, 4])"
      ]
     },
     "execution_count": 1,
     "metadata": {},
     "output_type": "execute_result"
    }
   ],
   "source": [
    "b.sum(axis=1)"
   ]
  },
  {
   "cell_type": "markdown",
   "id": "814e70e3",
   "metadata": {},
   "source": [
    "`Learn more about basic operations here <quickstart.basic-operations>`.\n",
    "\n",
    "## Broadcasting\n",
    "\n",
    "There are times when you might want to carry out an operation between an\n",
    "array and a single number (also called *an operation between a vector\n",
    "and a scalar*) or between arrays of two different sizes. For example,\n",
    "your array (we'll call it \"data\") might contain information about\n",
    "distance in miles but you want to convert the information to kilometers.\n",
    "You can perform this operation with:"
   ]
  },
  {
   "cell_type": "code",
   "execution_count": null,
   "id": "e6718c52",
   "metadata": {},
   "outputs": [
    {
     "data": {
      "text/plain": [
       "array([1.6, 3.2])"
      ]
     },
     "execution_count": 1,
     "metadata": {},
     "output_type": "execute_result"
    }
   ],
   "source": [
    "data = np.array([1.0, 2.0])\n",
    "data * 1.6"
   ]
  },
  {
   "cell_type": "markdown",
   "id": "39dceeea",
   "metadata": {},
   "source": [
    "![image](images/np_multiply_broadcasting.png)\n",
    "\n",
    "NumPy understands that the multiplication should happen with each cell.\n",
    "That concept is called **broadcasting**. Broadcasting is a mechanism\n",
    "that allows NumPy to perform operations on arrays of different shapes.\n",
    "The dimensions of your array must be compatible, for example, when the\n",
    "dimensions of both arrays are equal or when one of them is 1. If the\n",
    "dimensions are not compatible, you will get a `ValueError`.\n",
    "\n",
    "`Learn more about broadcasting here <basics.broadcasting>`.\n",
    "\n",
    "## More useful array operations\n",
    "\n",
    "*This section covers maximum, minimum, sum, mean, product, standard\n",
    "deviation, and more*\n",
    "\n",
    "------------------------------------------------------------------------\n",
    "\n",
    "NumPy also performs aggregation functions. In addition to `min`, `max`,\n",
    "and `sum`, you can easily run `mean` to get the average, `prod` to get\n",
    "the result of multiplying the elements together, `std` to get the\n",
    "standard deviation, and more. :"
   ]
  },
  {
   "cell_type": "code",
   "execution_count": null,
   "id": "d95fa9c4",
   "metadata": {},
   "outputs": [
    {
     "data": {
      "text/plain": [
       "2.0"
      ]
     },
     "execution_count": 1,
     "metadata": {},
     "output_type": "execute_result"
    }
   ],
   "source": [
    "data.max()"
   ]
  },
  {
   "cell_type": "code",
   "execution_count": null,
   "id": "25c0c74f",
   "metadata": {},
   "outputs": [
    {
     "data": {
      "text/plain": [
       "1.0"
      ]
     },
     "execution_count": 1,
     "metadata": {},
     "output_type": "execute_result"
    }
   ],
   "source": [
    "data.min()"
   ]
  },
  {
   "cell_type": "code",
   "execution_count": null,
   "id": "ff9d918c",
   "metadata": {},
   "outputs": [
    {
     "data": {
      "text/plain": [
       "3.0"
      ]
     },
     "execution_count": 1,
     "metadata": {},
     "output_type": "execute_result"
    }
   ],
   "source": [
    "data.sum()"
   ]
  },
  {
   "cell_type": "markdown",
   "id": "04298224",
   "metadata": {},
   "source": [
    "![image](images/np_aggregation.png)\n",
    "\n",
    "Let's start with this array, called \"a\" :"
   ]
  },
  {
   "cell_type": "code",
   "execution_count": null,
   "id": "d0658a22",
   "metadata": {},
   "outputs": [],
   "source": [
    "a = np.array([[0.45053314, 0.17296777, 0.34376245, 0.5510652],\n",
    "              [0.54627315, 0.05093587, 0.40067661, 0.55645993],\n",
    "              [0.12697628, 0.82485143, 0.26590556, 0.56917101]])"
   ]
  },
  {
   "cell_type": "markdown",
   "id": "c8592cfa",
   "metadata": {},
   "source": [
    "It's very common to want to aggregate along a row or column. By default,\n",
    "every NumPy aggregation function will return the aggregate of the entire\n",
    "array. To find the sum or the minimum of the elements in your array,\n",
    "run:"
   ]
  },
  {
   "cell_type": "code",
   "execution_count": null,
   "id": "05343c0a",
   "metadata": {},
   "outputs": [
    {
     "data": {
      "text/plain": [
       "4.8595784"
      ]
     },
     "execution_count": 1,
     "metadata": {},
     "output_type": "execute_result"
    }
   ],
   "source": [
    "a.sum()"
   ]
  },
  {
   "cell_type": "markdown",
   "id": "d3cd2a11",
   "metadata": {},
   "source": [
    "Or:"
   ]
  },
  {
   "cell_type": "code",
   "execution_count": null,
   "id": "84755daf",
   "metadata": {},
   "outputs": [
    {
     "data": {
      "text/plain": [
       "0.05093587"
      ]
     },
     "execution_count": 1,
     "metadata": {},
     "output_type": "execute_result"
    }
   ],
   "source": [
    "a.min()"
   ]
  },
  {
   "cell_type": "markdown",
   "id": "0a5248ff",
   "metadata": {},
   "source": [
    "You can specify on which axis you want the aggregation function to be\n",
    "computed. For example, you can find the minimum value within each column\n",
    "by specifying `axis=0`. :"
   ]
  },
  {
   "cell_type": "code",
   "execution_count": null,
   "id": "d4c050eb",
   "metadata": {},
   "outputs": [
    {
     "data": {
      "text/plain": [
       "array([0.12697628, 0.05093587, 0.26590556, 0.5510652 ])"
      ]
     },
     "execution_count": 1,
     "metadata": {},
     "output_type": "execute_result"
    }
   ],
   "source": [
    "a.min(axis=0)"
   ]
  },
  {
   "cell_type": "markdown",
   "id": "3b10d273",
   "metadata": {},
   "source": [
    "The four values listed above correspond to the number of columns in your\n",
    "array. With a four-column array, you will get four values as your\n",
    "result.\n",
    "\n",
    "Read more about `array methods here <array.ndarray.methods>`.\n",
    "\n",
    "## Creating matrices\n",
    "\n",
    "You can pass Python lists of lists to create a 2-D array (or \"matrix\")\n",
    "to represent them in NumPy. :"
   ]
  },
  {
   "cell_type": "code",
   "execution_count": null,
   "id": "59cb7fae",
   "metadata": {},
   "outputs": [
    {
     "data": {
      "text/plain": [
       "array([[1, 2],\n",
       "       [3, 4],\n",
       "       [5, 6]])"
      ]
     },
     "execution_count": 1,
     "metadata": {},
     "output_type": "execute_result"
    }
   ],
   "source": [
    "data = np.array([[1, 2], [3, 4], [5, 6]])\n",
    "data"
   ]
  },
  {
   "cell_type": "markdown",
   "id": "8767fda9",
   "metadata": {},
   "source": [
    "![image](images/np_create_matrix.png)\n",
    "\n",
    "Indexing and slicing operations are useful when you're manipulating\n",
    "matrices:"
   ]
  },
  {
   "cell_type": "code",
   "execution_count": null,
   "id": "5c0d5886",
   "metadata": {},
   "outputs": [
    {
     "data": {
      "text/plain": [
       "2"
      ]
     },
     "execution_count": 1,
     "metadata": {},
     "output_type": "execute_result"
    }
   ],
   "source": [
    "data[0, 1]"
   ]
  },
  {
   "cell_type": "code",
   "execution_count": null,
   "id": "86a6c3da",
   "metadata": {},
   "outputs": [
    {
     "data": {
      "text/plain": [
       "array([[3, 4],\n",
       "       [5, 6]])"
      ]
     },
     "execution_count": 1,
     "metadata": {},
     "output_type": "execute_result"
    }
   ],
   "source": [
    "data[1:3]"
   ]
  },
  {
   "cell_type": "code",
   "execution_count": null,
   "id": "700c8b78",
   "metadata": {},
   "outputs": [
    {
     "data": {
      "text/plain": [
       "array([1, 3])"
      ]
     },
     "execution_count": 1,
     "metadata": {},
     "output_type": "execute_result"
    }
   ],
   "source": [
    "data[0:2, 0]"
   ]
  },
  {
   "cell_type": "markdown",
   "id": "96d5f23f",
   "metadata": {},
   "source": [
    "![image](images/np_matrix_indexing.png)\n",
    "\n",
    "You can aggregate matrices the same way you aggregated vectors:"
   ]
  },
  {
   "cell_type": "code",
   "execution_count": null,
   "id": "938dba92",
   "metadata": {},
   "outputs": [
    {
     "data": {
      "text/plain": [
       "6"
      ]
     },
     "execution_count": 1,
     "metadata": {},
     "output_type": "execute_result"
    }
   ],
   "source": [
    "data.max()"
   ]
  },
  {
   "cell_type": "code",
   "execution_count": null,
   "id": "79ac2fbc",
   "metadata": {},
   "outputs": [
    {
     "data": {
      "text/plain": [
       "1"
      ]
     },
     "execution_count": 1,
     "metadata": {},
     "output_type": "execute_result"
    }
   ],
   "source": [
    "data.min()"
   ]
  },
  {
   "cell_type": "code",
   "execution_count": null,
   "id": "bae7bef3",
   "metadata": {},
   "outputs": [
    {
     "data": {
      "text/plain": [
       "21"
      ]
     },
     "execution_count": 1,
     "metadata": {},
     "output_type": "execute_result"
    }
   ],
   "source": [
    "data.sum()"
   ]
  },
  {
   "cell_type": "markdown",
   "id": "5164dd06",
   "metadata": {},
   "source": [
    "![image](images/np_matrix_aggregation.png)\n",
    "\n",
    "You can aggregate all the values in a matrix and you can aggregate them\n",
    "across columns or rows using the `axis` parameter. To illustrate this\n",
    "point, let's look at a slightly modified dataset:"
   ]
  },
  {
   "cell_type": "code",
   "execution_count": null,
   "id": "468c62c8",
   "metadata": {},
   "outputs": [
    {
     "data": {
      "text/plain": [
       "array([[1, 2],\n",
       "       [5, 3],\n",
       "       [4, 6]])"
      ]
     },
     "execution_count": 1,
     "metadata": {},
     "output_type": "execute_result"
    }
   ],
   "source": [
    "data = np.array([[1, 2], [5, 3], [4, 6]])\n",
    "data"
   ]
  },
  {
   "cell_type": "code",
   "execution_count": null,
   "id": "4a8877be",
   "metadata": {},
   "outputs": [
    {
     "data": {
      "text/plain": [
       "array([5, 6])"
      ]
     },
     "execution_count": 1,
     "metadata": {},
     "output_type": "execute_result"
    }
   ],
   "source": [
    "data.max(axis=0)"
   ]
  },
  {
   "cell_type": "code",
   "execution_count": null,
   "id": "43fd3692",
   "metadata": {},
   "outputs": [
    {
     "data": {
      "text/plain": [
       "array([2, 5, 6])"
      ]
     },
     "execution_count": 1,
     "metadata": {},
     "output_type": "execute_result"
    }
   ],
   "source": [
    "data.max(axis=1)"
   ]
  },
  {
   "cell_type": "markdown",
   "id": "e0a26374",
   "metadata": {},
   "source": [
    "![image](images/np_matrix_aggregation_row.png)\n",
    "\n",
    "Once you've created your matrices, you can add and multiply them using\n",
    "arithmetic operators if you have two matrices that are the same size. :"
   ]
  },
  {
   "cell_type": "code",
   "execution_count": null,
   "id": "ab63725c",
   "metadata": {},
   "outputs": [
    {
     "data": {
      "text/plain": [
       "array([[2, 3],\n",
       "       [4, 5]])"
      ]
     },
     "execution_count": 1,
     "metadata": {},
     "output_type": "execute_result"
    }
   ],
   "source": [
    "data = np.array([[1, 2], [3, 4]])\n",
    "ones = np.array([[1, 1], [1, 1]])\n",
    "data + ones"
   ]
  },
  {
   "cell_type": "markdown",
   "id": "c8ab2124",
   "metadata": {},
   "source": [
    "![image](images/np_matrix_arithmetic.png)\n",
    "\n",
    "You can do these arithmetic operations on matrices of different sizes,\n",
    "but only if one matrix has only one column or one row. In this case,\n",
    "NumPy will use its broadcast rules for the operation. :"
   ]
  },
  {
   "cell_type": "code",
   "execution_count": null,
   "id": "99e02471",
   "metadata": {},
   "outputs": [
    {
     "data": {
      "text/plain": [
       "array([[2, 3],\n",
       "       [4, 5],\n",
       "       [6, 7]])"
      ]
     },
     "execution_count": 1,
     "metadata": {},
     "output_type": "execute_result"
    }
   ],
   "source": [
    "data = np.array([[1, 2], [3, 4], [5, 6]])\n",
    "ones_row = np.array([[1, 1]])\n",
    "data + ones_row"
   ]
  },
  {
   "cell_type": "markdown",
   "id": "f3b87963",
   "metadata": {},
   "source": [
    "![image](images/np_matrix_broadcasting.png)\n",
    "\n",
    "Be aware that when NumPy prints N-dimensional arrays, the last axis is\n",
    "looped over the fastest while the first axis is the slowest. For\n",
    "instance:"
   ]
  },
  {
   "cell_type": "code",
   "execution_count": null,
   "id": "44c83179",
   "metadata": {},
   "outputs": [
    {
     "data": {
      "text/plain": [
       "array([[[1., 1.],\n",
       "        [1., 1.],\n",
       "        [1., 1.]],\n",
       "<BLANKLINE>\n",
       "       [[1., 1.],\n",
       "        [1., 1.],\n",
       "        [1., 1.]],\n",
       "<BLANKLINE>\n",
       "       [[1., 1.],\n",
       "        [1., 1.],\n",
       "        [1., 1.]],\n",
       "<BLANKLINE>\n",
       "       [[1., 1.],\n",
       "        [1., 1.],\n",
       "        [1., 1.]]])"
      ]
     },
     "execution_count": 1,
     "metadata": {},
     "output_type": "execute_result"
    }
   ],
   "source": [
    "np.ones((4, 3, 2))"
   ]
  },
  {
   "cell_type": "markdown",
   "id": "784af185",
   "metadata": {},
   "source": [
    "There are often instances where we want NumPy to initialize the values\n",
    "of an array. NumPy offers functions like `ones()` and `zeros()`, and the\n",
    "`random.Generator` class for random number generation for that. All you\n",
    "need to do is pass in the number of elements you want it to generate:"
   ]
  },
  {
   "cell_type": "code",
   "execution_count": null,
   "id": "f7516355",
   "metadata": {},
   "outputs": [
    {
     "data": {
      "text/plain": [
       "array([1., 1., 1.])"
      ]
     },
     "execution_count": 1,
     "metadata": {},
     "output_type": "execute_result"
    }
   ],
   "source": [
    "np.ones(3)"
   ]
  },
  {
   "cell_type": "code",
   "execution_count": null,
   "id": "a870d614",
   "metadata": {},
   "outputs": [
    {
     "data": {
      "text/plain": [
       "array([0., 0., 0.])"
      ]
     },
     "execution_count": 1,
     "metadata": {},
     "output_type": "execute_result"
    }
   ],
   "source": [
    "np.zeros(3)"
   ]
  },
  {
   "cell_type": "code",
   "execution_count": null,
   "id": "d317c8f6",
   "metadata": {},
   "outputs": [
    {
     "data": {
      "text/plain": [
       "array([0.63696169, 0.26978671, 0.04097352])"
      ]
     },
     "execution_count": 1,
     "metadata": {},
     "output_type": "execute_result"
    }
   ],
   "source": [
    "rng = np.random.default_rng()  # the simplest way to generate random numbers\n",
    "rng.random(3) #doctest: +SKIP"
   ]
  },
  {
   "cell_type": "markdown",
   "id": "cfe2aa4f",
   "metadata": {},
   "source": [
    "![image](images/np_ones_zeros_random.png)\n",
    "\n",
    "You can also use `ones()`, `zeros()`, and `random()` to create a 2D\n",
    "array if you give them a tuple describing the dimensions of the matrix:"
   ]
  },
  {
   "cell_type": "code",
   "execution_count": null,
   "id": "382ec7f9",
   "metadata": {},
   "outputs": [
    {
     "data": {
      "text/plain": [
       "array([[1., 1.],\n",
       "       [1., 1.],\n",
       "       [1., 1.]])"
      ]
     },
     "execution_count": 1,
     "metadata": {},
     "output_type": "execute_result"
    }
   ],
   "source": [
    "np.ones((3, 2))"
   ]
  },
  {
   "cell_type": "code",
   "execution_count": null,
   "id": "4b913e5f",
   "metadata": {},
   "outputs": [
    {
     "data": {
      "text/plain": [
       "array([[0., 0.],\n",
       "       [0., 0.],\n",
       "       [0., 0.]])"
      ]
     },
     "execution_count": 1,
     "metadata": {},
     "output_type": "execute_result"
    }
   ],
   "source": [
    "np.zeros((3, 2))"
   ]
  },
  {
   "cell_type": "code",
   "execution_count": null,
   "id": "1f7e788f",
   "metadata": {},
   "outputs": [
    {
     "data": {
      "text/plain": [
       "array([[0.01652764, 0.81327024],\n",
       "       [0.91275558, 0.60663578],\n",
       "       [0.72949656, 0.54362499]])  # may vary"
      ]
     },
     "execution_count": 1,
     "metadata": {},
     "output_type": "execute_result"
    }
   ],
   "source": [
    "rng.random((3, 2)) #doctest: +SKIP"
   ]
  },
  {
   "cell_type": "markdown",
   "id": "87c8ce83",
   "metadata": {},
   "source": [
    "![image](images/np_ones_zeros_matrix.png)\n",
    "\n",
    "Read more about creating arrays, filled with `0`'s, `1`'s, other values\n",
    "or uninitialized, at\n",
    "`array creation routines <routines.array-creation>`.\n",
    "\n",
    "## Generating random numbers\n",
    "\n",
    "The use of random number generation is an important part of the\n",
    "configuration and evaluation of many numerical and machine learning\n",
    "algorithms. Whether you need to randomly initialize weights in an\n",
    "artificial neural network, split data into random sets, or randomly\n",
    "shuffle your dataset, being able to generate random numbers (actually,\n",
    "repeatable pseudo-random numbers) is essential.\n",
    "\n",
    "With `Generator.integers`, you can generate random integers from low\n",
    "(remember that this is inclusive with NumPy) to high (exclusive). You\n",
    "can set `endpoint=True` to make the high number inclusive.\n",
    "\n",
    "You can generate a 2 x 4 array of random integers between 0 and 4 with:"
   ]
  },
  {
   "cell_type": "code",
   "execution_count": null,
   "id": "91b99c7d",
   "metadata": {},
   "outputs": [
    {
     "data": {
      "text/plain": [
       "array([[2, 1, 1, 0],\n",
       "       [0, 0, 0, 4]])  # may vary"
      ]
     },
     "execution_count": 1,
     "metadata": {},
     "output_type": "execute_result"
    }
   ],
   "source": [
    "rng.integers(5, size=(2, 4)) #doctest: +SKIP"
   ]
  },
  {
   "cell_type": "markdown",
   "id": "a0d650c2",
   "metadata": {},
   "source": [
    "[Read more about random number generation here](numpyrandom.ipynb).\n",
    "\n",
    "## How to get unique items and counts\n",
    "\n",
    "*This section covers* `np.unique()`\n",
    "\n",
    "------------------------------------------------------------------------\n",
    "\n",
    "You can find the unique elements in an array easily with `np.unique`.\n",
    "\n",
    "For example, if you start with this array:"
   ]
  },
  {
   "cell_type": "code",
   "execution_count": null,
   "id": "6990bbad",
   "metadata": {},
   "outputs": [],
   "source": [
    "a = np.array([11, 11, 12, 13, 14, 15, 16, 17, 12, 13, 11, 14, 18, 19, 20])"
   ]
  },
  {
   "cell_type": "markdown",
   "id": "bd805fa5",
   "metadata": {},
   "source": [
    "you can use `np.unique` to print the unique values in your array:"
   ]
  },
  {
   "cell_type": "code",
   "execution_count": null,
   "id": "526f3271",
   "metadata": {},
   "outputs": [
    {
     "data": {
      "text/plain": [
       "[11 12 13 14 15 16 17 18 19 20]"
      ]
     },
     "execution_count": 1,
     "metadata": {},
     "output_type": "execute_result"
    }
   ],
   "source": [
    "unique_values = np.unique(a)\n",
    "print(unique_values)"
   ]
  },
  {
   "cell_type": "markdown",
   "id": "45cdc997",
   "metadata": {},
   "source": [
    "To get the indices of unique values in a NumPy array (an array of first\n",
    "index positions of unique values in the array), just pass the\n",
    "`return_index` argument in `np.unique()` as well as your array. :"
   ]
  },
  {
   "cell_type": "code",
   "execution_count": null,
   "id": "e45e0859",
   "metadata": {},
   "outputs": [
    {
     "data": {
      "text/plain": [
       "[ 0  2  3  4  5  6  7 12 13 14]"
      ]
     },
     "execution_count": 1,
     "metadata": {},
     "output_type": "execute_result"
    }
   ],
   "source": [
    "unique_values, indices_list = np.unique(a, return_index=True)\n",
    "print(indices_list)"
   ]
  },
  {
   "cell_type": "markdown",
   "id": "53bbfb46",
   "metadata": {},
   "source": [
    "You can pass the `return_counts` argument in `np.unique()` along with\n",
    "your array to get the frequency count of unique values in a NumPy array.\n",
    ":"
   ]
  },
  {
   "cell_type": "code",
   "execution_count": null,
   "id": "d19889cc",
   "metadata": {},
   "outputs": [
    {
     "data": {
      "text/plain": [
       "[3 2 2 2 1 1 1 1 1 1]"
      ]
     },
     "execution_count": 1,
     "metadata": {},
     "output_type": "execute_result"
    }
   ],
   "source": [
    "unique_values, occurrence_count = np.unique(a, return_counts=True)\n",
    "print(occurrence_count)"
   ]
  },
  {
   "cell_type": "markdown",
   "id": "2d90abac",
   "metadata": {},
   "source": [
    "This also works with 2D arrays! If you start with this array:"
   ]
  },
  {
   "cell_type": "code",
   "execution_count": null,
   "id": "51b4ed3c",
   "metadata": {},
   "outputs": [],
   "source": [
    "a_2d = np.array([[1, 2, 3, 4], [5, 6, 7, 8], [9, 10, 11, 12], [1, 2, 3, 4]])"
   ]
  },
  {
   "cell_type": "markdown",
   "id": "0d71a1b4",
   "metadata": {},
   "source": [
    "You can find unique values with:"
   ]
  },
  {
   "cell_type": "code",
   "execution_count": null,
   "id": "58942252",
   "metadata": {},
   "outputs": [
    {
     "data": {
      "text/plain": [
       "[ 1  2  3  4  5  6  7  8  9 10 11 12]"
      ]
     },
     "execution_count": 1,
     "metadata": {},
     "output_type": "execute_result"
    }
   ],
   "source": [
    "unique_values = np.unique(a_2d)\n",
    "print(unique_values)"
   ]
  },
  {
   "cell_type": "markdown",
   "id": "b2067992",
   "metadata": {},
   "source": [
    "If the axis argument isn't passed, your 2D array will be flattened.\n",
    "\n",
    "If you want to get the unique rows or columns, make sure to pass the\n",
    "`axis` argument. To find the unique rows, specify `axis=0` and for\n",
    "columns, specify `axis=1`. :"
   ]
  },
  {
   "cell_type": "code",
   "execution_count": null,
   "id": "30c40740",
   "metadata": {},
   "outputs": [
    {
     "data": {
      "text/plain": [
       "[[ 1  2  3  4]\n",
       " [ 5  6  7  8]\n",
       " [ 9 10 11 12]]"
      ]
     },
     "execution_count": 1,
     "metadata": {},
     "output_type": "execute_result"
    }
   ],
   "source": [
    "unique_rows = np.unique(a_2d, axis=0)\n",
    "print(unique_rows)"
   ]
  },
  {
   "cell_type": "markdown",
   "id": "7b2418f8",
   "metadata": {},
   "source": [
    "To get the unique rows, index position, and occurrence count, you can\n",
    "use:"
   ]
  },
  {
   "cell_type": "code",
   "execution_count": null,
   "id": "2090bcbb",
   "metadata": {},
   "outputs": [
    {
     "data": {
      "text/plain": [
       "[[ 1  2  3  4]\n",
       " [ 5  6  7  8]\n",
       " [ 9 10 11 12]]"
      ]
     },
     "execution_count": 1,
     "metadata": {},
     "output_type": "execute_result"
    }
   ],
   "source": [
    "unique_rows, indices, occurrence_count = np.unique(\n",
    "     a_2d, axis=0, return_counts=True, return_index=True)\n",
    "print(unique_rows)"
   ]
  },
  {
   "cell_type": "code",
   "execution_count": null,
   "id": "f6f574a7",
   "metadata": {},
   "outputs": [
    {
     "data": {
      "text/plain": [
       "[0 1 2]"
      ]
     },
     "execution_count": 1,
     "metadata": {},
     "output_type": "execute_result"
    }
   ],
   "source": [
    "print(indices)"
   ]
  },
  {
   "cell_type": "code",
   "execution_count": null,
   "id": "5d6da8b2",
   "metadata": {},
   "outputs": [
    {
     "data": {
      "text/plain": [
       "[2 1 1]"
      ]
     },
     "execution_count": 1,
     "metadata": {},
     "output_type": "execute_result"
    }
   ],
   "source": [
    "print(occurrence_count)"
   ]
  },
  {
   "cell_type": "markdown",
   "id": "e1aea1e9",
   "metadata": {},
   "source": [
    "To learn more about finding the unique elements in an array, see\n",
    "$unique$.\n",
    "\n",
    "## Transposing and reshaping a matrix\n",
    "\n",
    "*This section covers* `arr.reshape()`, `arr.transpose()`, `arr.T`\n",
    "\n",
    "------------------------------------------------------------------------\n",
    "\n",
    "It's common to need to transpose your matrices. NumPy arrays have the\n",
    "property `T` that allows you to transpose a matrix.\n",
    "\n",
    "![image](images/np_transposing_reshaping.png)\n",
    "\n",
    "You may also need to switch the dimensions of a matrix. This can happen\n",
    "when, for example, you have a model that expects a certain input shape\n",
    "that is different from your dataset. This is where the `reshape` method\n",
    "can be useful. You simply need to pass in the new dimensions that you\n",
    "want for the matrix. :"
   ]
  },
  {
   "cell_type": "code",
   "execution_count": null,
   "id": "547cb2c3",
   "metadata": {},
   "outputs": [
    {
     "data": {
      "text/plain": [
       "array([[1, 2, 3],\n",
       "       [4, 5, 6]])"
      ]
     },
     "execution_count": 1,
     "metadata": {},
     "output_type": "execute_result"
    }
   ],
   "source": [
    "data.reshape(2, 3)"
   ]
  },
  {
   "cell_type": "code",
   "execution_count": null,
   "id": "68ce20b9",
   "metadata": {},
   "outputs": [
    {
     "data": {
      "text/plain": [
       "array([[1, 2],\n",
       "       [3, 4],\n",
       "       [5, 6]])"
      ]
     },
     "execution_count": 1,
     "metadata": {},
     "output_type": "execute_result"
    }
   ],
   "source": [
    "data.reshape(3, 2)"
   ]
  },
  {
   "cell_type": "markdown",
   "id": "0b56b59b",
   "metadata": {},
   "source": [
    "![image](images/np_reshape.png)\n",
    "\n",
    "You can also use `.transpose()` to reverse or change the axes of an\n",
    "array according to the values you specify.\n",
    "\n",
    "If you start with this array:"
   ]
  },
  {
   "cell_type": "code",
   "execution_count": null,
   "id": "6a39db4f",
   "metadata": {},
   "outputs": [
    {
     "data": {
      "text/plain": [
       "array([[0, 1, 2],\n",
       "       [3, 4, 5]])"
      ]
     },
     "execution_count": 1,
     "metadata": {},
     "output_type": "execute_result"
    }
   ],
   "source": [
    "arr = np.arange(6).reshape((2, 3))\n",
    "arr"
   ]
  },
  {
   "cell_type": "markdown",
   "id": "0b9fcfc1",
   "metadata": {},
   "source": [
    "You can transpose your array with `arr.transpose()`. :"
   ]
  },
  {
   "cell_type": "code",
   "execution_count": null,
   "id": "c9702ae6",
   "metadata": {},
   "outputs": [
    {
     "data": {
      "text/plain": [
       "array([[0, 3],\n",
       "       [1, 4],\n",
       "       [2, 5]])"
      ]
     },
     "execution_count": 1,
     "metadata": {},
     "output_type": "execute_result"
    }
   ],
   "source": [
    "arr.transpose()"
   ]
  },
  {
   "cell_type": "markdown",
   "id": "1c04bc85",
   "metadata": {},
   "source": [
    "You can also use `arr.T` :"
   ]
  },
  {
   "cell_type": "code",
   "execution_count": null,
   "id": "0031ab10",
   "metadata": {},
   "outputs": [
    {
     "data": {
      "text/plain": [
       "array([[0, 3],\n",
       "       [1, 4],\n",
       "       [2, 5]])"
      ]
     },
     "execution_count": 1,
     "metadata": {},
     "output_type": "execute_result"
    }
   ],
   "source": [
    "arr.T"
   ]
  },
  {
   "cell_type": "markdown",
   "id": "7eda184d",
   "metadata": {},
   "source": [
    "To learn more about transposing and reshaping arrays, see $transpose$\n",
    "and $reshape$.\n",
    "\n",
    "## How to reverse an array\n",
    "\n",
    "*This section covers* `np.flip()`\n",
    "\n",
    "------------------------------------------------------------------------\n",
    "\n",
    "NumPy's `np.flip()` function allows you to flip, or reverse, the\n",
    "contents of an array along an axis. When using `np.flip()`, specify the\n",
    "array you would like to reverse and the axis. If you don't specify the\n",
    "axis, NumPy will reverse the contents along all of the axes of your\n",
    "input array.\n",
    "\n",
    "**Reversing a 1D array**\n",
    "\n",
    "If you begin with a 1D array like this one:"
   ]
  },
  {
   "cell_type": "code",
   "execution_count": null,
   "id": "a96d668d",
   "metadata": {},
   "outputs": [],
   "source": [
    "arr = np.array([1, 2, 3, 4, 5, 6, 7, 8])"
   ]
  },
  {
   "cell_type": "markdown",
   "id": "c6bfea4f",
   "metadata": {},
   "source": [
    "You can reverse it with:"
   ]
  },
  {
   "cell_type": "code",
   "execution_count": null,
   "id": "3526ddd3",
   "metadata": {},
   "outputs": [],
   "source": [
    "reversed_arr = np.flip(arr)"
   ]
  },
  {
   "cell_type": "markdown",
   "id": "d8afb7ee",
   "metadata": {},
   "source": [
    "If you want to print your reversed array, you can run:"
   ]
  },
  {
   "cell_type": "code",
   "execution_count": null,
   "id": "1c684d88",
   "metadata": {},
   "outputs": [
    {
     "data": {
      "text/plain": [
       "Reversed Array:  [8 7 6 5 4 3 2 1]"
      ]
     },
     "execution_count": 1,
     "metadata": {},
     "output_type": "execute_result"
    }
   ],
   "source": [
    "print('Reversed Array: ', reversed_arr)"
   ]
  },
  {
   "cell_type": "markdown",
   "id": "19bf1b51",
   "metadata": {},
   "source": [
    "**Reversing a 2D array**\n",
    "\n",
    "A 2D array works much the same way.\n",
    "\n",
    "If you start with this array:"
   ]
  },
  {
   "cell_type": "code",
   "execution_count": null,
   "id": "a12743c4",
   "metadata": {},
   "outputs": [],
   "source": [
    "arr_2d = np.array([[1, 2, 3, 4], [5, 6, 7, 8], [9, 10, 11, 12]])"
   ]
  },
  {
   "cell_type": "markdown",
   "id": "d4505db2",
   "metadata": {},
   "source": [
    "You can reverse the content in all of the rows and all of the columns\n",
    "with:"
   ]
  },
  {
   "cell_type": "code",
   "execution_count": null,
   "id": "fbdb75eb",
   "metadata": {},
   "outputs": [
    {
     "data": {
      "text/plain": [
       "[[12 11 10  9]\n",
       " [ 8  7  6  5]\n",
       " [ 4  3  2  1]]"
      ]
     },
     "execution_count": 1,
     "metadata": {},
     "output_type": "execute_result"
    }
   ],
   "source": [
    "reversed_arr = np.flip(arr_2d)\n",
    "print(reversed_arr)"
   ]
  },
  {
   "cell_type": "markdown",
   "id": "58d32262",
   "metadata": {},
   "source": [
    "You can easily reverse only the *rows* with:"
   ]
  },
  {
   "cell_type": "code",
   "execution_count": null,
   "id": "d0999014",
   "metadata": {},
   "outputs": [
    {
     "data": {
      "text/plain": [
       "[[ 9 10 11 12]\n",
       " [ 5  6  7  8]\n",
       " [ 1  2  3  4]]"
      ]
     },
     "execution_count": 1,
     "metadata": {},
     "output_type": "execute_result"
    }
   ],
   "source": [
    "reversed_arr_rows = np.flip(arr_2d, axis=0)\n",
    "print(reversed_arr_rows)"
   ]
  },
  {
   "cell_type": "markdown",
   "id": "5c72c7d3",
   "metadata": {},
   "source": [
    "Or reverse only the *columns* with:"
   ]
  },
  {
   "cell_type": "code",
   "execution_count": null,
   "id": "376410b9",
   "metadata": {},
   "outputs": [
    {
     "data": {
      "text/plain": [
       "[[ 4  3  2  1]\n",
       " [ 8  7  6  5]\n",
       " [12 11 10  9]]"
      ]
     },
     "execution_count": 1,
     "metadata": {},
     "output_type": "execute_result"
    }
   ],
   "source": [
    "reversed_arr_columns = np.flip(arr_2d, axis=1)\n",
    "print(reversed_arr_columns)"
   ]
  },
  {
   "cell_type": "markdown",
   "id": "909916d4",
   "metadata": {},
   "source": [
    "You can also reverse the contents of only one column or row. For\n",
    "example, you can reverse the contents of the row at index position 1\n",
    "(the second row):"
   ]
  },
  {
   "cell_type": "code",
   "execution_count": null,
   "id": "1d87fd75",
   "metadata": {},
   "outputs": [
    {
     "data": {
      "text/plain": [
       "[[ 1  2  3  4]\n",
       " [ 8  7  6  5]\n",
       " [ 9 10 11 12]]"
      ]
     },
     "execution_count": 1,
     "metadata": {},
     "output_type": "execute_result"
    }
   ],
   "source": [
    "arr_2d[1] = np.flip(arr_2d[1])\n",
    "print(arr_2d)"
   ]
  },
  {
   "cell_type": "markdown",
   "id": "a2afd505",
   "metadata": {},
   "source": [
    "You can also reverse the column at index position 1 (the second column):"
   ]
  },
  {
   "cell_type": "code",
   "execution_count": null,
   "id": "8c8b0c8f",
   "metadata": {},
   "outputs": [
    {
     "data": {
      "text/plain": [
       "[[ 1 10  3  4]\n",
       " [ 8  7  6  5]\n",
       " [ 9  2 11 12]]"
      ]
     },
     "execution_count": 1,
     "metadata": {},
     "output_type": "execute_result"
    }
   ],
   "source": [
    "arr_2d[:,1] = np.flip(arr_2d[:,1])\n",
    "print(arr_2d)"
   ]
  },
  {
   "cell_type": "markdown",
   "id": "f97df951",
   "metadata": {},
   "source": [
    "Read more about reversing arrays at $flip$.\n",
    "\n",
    "## Reshaping and flattening multidimensional arrays\n",
    "\n",
    "*This section covers* `.flatten()`, `ravel()`\n",
    "\n",
    "------------------------------------------------------------------------\n",
    "\n",
    "There are two popular ways to flatten an array: `.flatten()` and\n",
    "`.ravel()`. The primary difference between the two is that the new array\n",
    "created using `ravel()` is actually a reference to the parent array\n",
    "(i.e., a \"view\"). This means that any changes to the new array will\n",
    "affect the parent array as well. Since `ravel` does not create a copy,\n",
    "it's memory efficient.\n",
    "\n",
    "If you start with this array:"
   ]
  },
  {
   "cell_type": "code",
   "execution_count": null,
   "id": "98132626",
   "metadata": {},
   "outputs": [],
   "source": [
    "x = np.array([[1 , 2, 3, 4], [5, 6, 7, 8], [9, 10, 11, 12]])"
   ]
  },
  {
   "cell_type": "markdown",
   "id": "0cf07020",
   "metadata": {},
   "source": [
    "You can use `flatten` to flatten your array into a 1D array. :"
   ]
  },
  {
   "cell_type": "code",
   "execution_count": null,
   "id": "b7a3e63a",
   "metadata": {},
   "outputs": [
    {
     "data": {
      "text/plain": [
       "array([ 1,  2,  3,  4,  5,  6,  7,  8,  9, 10, 11, 12])"
      ]
     },
     "execution_count": 1,
     "metadata": {},
     "output_type": "execute_result"
    }
   ],
   "source": [
    "x.flatten()"
   ]
  },
  {
   "cell_type": "markdown",
   "id": "823cbee5",
   "metadata": {},
   "source": [
    "When you use `flatten`, changes to your new array won't change the\n",
    "parent array.\n",
    "\n",
    "For example:"
   ]
  },
  {
   "cell_type": "code",
   "execution_count": null,
   "id": "4f87e10e",
   "metadata": {},
   "outputs": [
    {
     "data": {
      "text/plain": [
       "[[ 1  2  3  4]\n",
       " [ 5  6  7  8]\n",
       " [ 9 10 11 12]]"
      ]
     },
     "execution_count": 1,
     "metadata": {},
     "output_type": "execute_result"
    }
   ],
   "source": [
    "a1 = x.flatten()\n",
    "a1[0] = 99\n",
    "print(x)  # Original array"
   ]
  },
  {
   "cell_type": "code",
   "execution_count": null,
   "id": "07e5f16b",
   "metadata": {},
   "outputs": [
    {
     "data": {
      "text/plain": [
       "[99  2  3  4  5  6  7  8  9 10 11 12]"
      ]
     },
     "execution_count": 1,
     "metadata": {},
     "output_type": "execute_result"
    }
   ],
   "source": [
    "print(a1)  # New array"
   ]
  },
  {
   "cell_type": "markdown",
   "id": "e6bfc4d7",
   "metadata": {},
   "source": [
    "But when you use `ravel`, the changes you make to the new array will\n",
    "affect the parent array.\n",
    "\n",
    "For example:"
   ]
  },
  {
   "cell_type": "code",
   "execution_count": null,
   "id": "534eb147",
   "metadata": {},
   "outputs": [
    {
     "data": {
      "text/plain": [
       "[[98  2  3  4]\n",
       " [ 5  6  7  8]\n",
       " [ 9 10 11 12]]"
      ]
     },
     "execution_count": 1,
     "metadata": {},
     "output_type": "execute_result"
    }
   ],
   "source": [
    "a2 = x.ravel()\n",
    "a2[0] = 98\n",
    "print(x)  # Original array"
   ]
  },
  {
   "cell_type": "code",
   "execution_count": null,
   "id": "6d4f7c32",
   "metadata": {},
   "outputs": [
    {
     "data": {
      "text/plain": [
       "[98  2  3  4  5  6  7  8  9 10 11 12]"
      ]
     },
     "execution_count": 1,
     "metadata": {},
     "output_type": "execute_result"
    }
   ],
   "source": [
    "print(a2)  # New array"
   ]
  },
  {
   "cell_type": "markdown",
   "id": "429ee6d5",
   "metadata": {},
   "source": [
    "Read more about `flatten` at $ndarray.flatten$ and `ravel` at $ravel$.\n",
    "\n",
    "## How to access the docstring for more information\n",
    "\n",
    "*This section covers* `help()`, `?`, `??`\n",
    "\n",
    "------------------------------------------------------------------------\n",
    "\n",
    "When it comes to the data science ecosystem, Python and NumPy are built\n",
    "with the user in mind. One of the best examples of this is the built-in\n",
    "access to documentation. Every object contains the reference to a\n",
    "string, which is known as the **docstring**. In most cases, this\n",
    "docstring contains a quick and concise summary of the object and how to\n",
    "use it. Python has a built-in `help()` function that can help you access\n",
    "this information. This means that nearly any time you need more\n",
    "information, you can use `help()` to quickly find the information that\n",
    "you need.\n",
    "\n",
    "For example:"
   ]
  },
  {
   "cell_type": "code",
   "execution_count": null,
   "id": "9a1d7c37",
   "metadata": {},
   "outputs": [
    {
     "data": {
      "text/plain": [
       "Help on built-in function max in module builtins:\n",
       "<BLANKLINE>\n",
       "max(...)\n",
       "    max(iterable, *[, default=obj, key=func]) -> value\n",
       "    max(arg1, arg2, *args, *[, key=func]) -> value\n",
       "<BLANKLINE>\n",
       "    With a single iterable argument, return its biggest item. The\n",
       "    default keyword-only argument specifies an object to return if\n",
       "    the provided iterable is empty.\n",
       "    With two or more arguments, return the largest argument.\n",
       "<BLANKLINE>"
      ]
     },
     "execution_count": 1,
     "metadata": {},
     "output_type": "execute_result"
    }
   ],
   "source": [
    "help(max)"
   ]
  },
  {
   "cell_type": "markdown",
   "id": "e164cf44",
   "metadata": {},
   "source": [
    "Because access to additional information is so useful, IPython uses the\n",
    "`?` character as a shorthand for accessing this documentation along with\n",
    "other relevant information. IPython is a command shell for interactive\n",
    "computing in multiple languages. [You can find more information about\n",
    "IPython here](https://ipython.org/).\n",
    "\n",
    "For example:"
   ]
  },
  {
   "cell_type": "code",
   "execution_count": null,
   "id": "726be54d",
   "metadata": {},
   "outputs": [],
   "source": [
    "In [0]: max?\n",
    "max(iterable, *[, default=obj, key=func]) -> value\n",
    "max(arg1, arg2, *args, *[, key=func]) -> value\n",
    "\n",
    "With a single iterable argument, return its biggest item. The\n",
    "default keyword-only argument specifies an object to return if\n",
    "the provided iterable is empty.\n",
    "With two or more arguments, return the largest argument.\n",
    "Type:      builtin_function_or_method"
   ]
  },
  {
   "cell_type": "markdown",
   "id": "d7ea4d30",
   "metadata": {},
   "source": [
    "You can even use this notation for object methods and objects\n",
    "themselves.\n",
    "\n",
    "Let's say you create this array:"
   ]
  },
  {
   "cell_type": "code",
   "execution_count": null,
   "id": "c416cce8",
   "metadata": {},
   "outputs": [],
   "source": [
    "a = np.array([1, 2, 3, 4, 5, 6])"
   ]
  },
  {
   "cell_type": "markdown",
   "id": "c54b3d71",
   "metadata": {},
   "source": [
    "Then you can obtain a lot of useful information (first details about `a`\n",
    "itself, followed by the docstring of `ndarray` of which `a` is an\n",
    "instance):"
   ]
  },
  {
   "cell_type": "code",
   "execution_count": null,
   "id": "06f82805",
   "metadata": {},
   "outputs": [],
   "source": [
    "In [1]: a?\n",
    "Type:            ndarray\n",
    "String form:     [1 2 3 4 5 6]\n",
    "Length:          6\n",
    "File:            ~/anaconda3/lib/python3.9/site-packages/numpy/__init__.py\n",
    "Docstring:       <no docstring>\n",
    "Class docstring:\n",
    "ndarray(shape, dtype=float, buffer=None, offset=0,\n",
    "        strides=None, order=None)\n",
    "\n",
    "An array object represents a multidimensional, homogeneous array\n",
    "of fixed-size items.  An associated data-type object describes the\n",
    "format of each element in the array (its byte-order, how many bytes it\n",
    "occupies in memory, whether it is an integer, a floating point number,\n",
    "or something else, etc.)\n",
    "\n",
    "Arrays should be constructed using `array`, `zeros` or `empty` (refer\n",
    "to the See Also section below).  The parameters given here refer to\n",
    "a low-level method (`ndarray(...)`) for instantiating an array.\n",
    "\n",
    "For more information, refer to the `numpy` module and examine the\n",
    "methods and attributes of an array.\n",
    "\n",
    "Parameters\n",
    "----------\n",
    "(for the __new__ method; see Notes below)\n",
    "\n",
    "shape : tuple of ints\n",
    "        Shape of created array."
   ]
  },
  {
   "cell_type": "markdown",
   "id": "9927ff6a",
   "metadata": {},
   "source": [
    "This also works for functions and other objects that **you** create.\n",
    "Just remember to include a docstring with your function using a string\n",
    "literal (`\"\"\" \"\"\"` or `''' '''` around your documentation).\n",
    "\n",
    "For example, if you create this function:"
   ]
  },
  {
   "cell_type": "code",
   "execution_count": null,
   "id": "1037a335",
   "metadata": {},
   "outputs": [],
   "source": [
    "def double(a):\n",
    "  '''Return a * 2'''\n",
    "  return a * 2"
   ]
  },
  {
   "cell_type": "markdown",
   "id": "8a6c0e08",
   "metadata": {},
   "source": [
    "You can obtain information about the function:"
   ]
  },
  {
   "cell_type": "code",
   "execution_count": null,
   "id": "e087cac7",
   "metadata": {},
   "outputs": [],
   "source": [
    "In [2]: double?\n",
    "Signature: double(a)\n",
    "Docstring: Return a * 2\n",
    "File:      ~/Desktop/<ipython-input-23-b5adf20be596>\n",
    "Type:      function"
   ]
  },
  {
   "cell_type": "markdown",
   "id": "7e5de609",
   "metadata": {},
   "source": [
    "You can reach another level of information by reading the source code of\n",
    "the object you're interested in. Using a double question mark (`??`)\n",
    "allows you to access the source code.\n",
    "\n",
    "For example:"
   ]
  },
  {
   "cell_type": "code",
   "execution_count": null,
   "id": "7912e4f0",
   "metadata": {},
   "outputs": [],
   "source": [
    "In [3]: double??\n",
    "Signature: double(a)\n",
    "Source:\n",
    "def double(a):\n",
    "    '''Return a * 2'''\n",
    "    return a * 2\n",
    "File:      ~/Desktop/<ipython-input-23-b5adf20be596>\n",
    "Type:      function"
   ]
  },
  {
   "cell_type": "markdown",
   "id": "ddd44fd7",
   "metadata": {},
   "source": [
    "If the object in question is compiled in a language other than Python,\n",
    "using `??` will return the same information as `?`. You'll find this\n",
    "with a lot of built-in objects and types, for example:"
   ]
  },
  {
   "cell_type": "code",
   "execution_count": null,
   "id": "41fbaef0",
   "metadata": {},
   "outputs": [],
   "source": [
    "In [4]: len?\n",
    "Signature: len(obj, /)\n",
    "Docstring: Return the number of items in a container.\n",
    "Type:      builtin_function_or_method"
   ]
  },
  {
   "cell_type": "markdown",
   "id": "3660f2ae",
   "metadata": {},
   "source": [
    "and :"
   ]
  },
  {
   "cell_type": "code",
   "execution_count": null,
   "id": "fb4bab10",
   "metadata": {},
   "outputs": [],
   "source": [
    "In [5]: len??\n",
    "Signature: len(obj, /)\n",
    "Docstring: Return the number of items in a container.\n",
    "Type:      builtin_function_or_method"
   ]
  },
  {
   "cell_type": "markdown",
   "id": "8107a82a",
   "metadata": {},
   "source": [
    "have the same output because they were compiled in a programming\n",
    "language other than Python.\n",
    "\n",
    "## Working with mathematical formulas\n",
    "\n",
    "The ease of implementing mathematical formulas that work on arrays is\n",
    "one of the things that make NumPy so widely used in the scientific\n",
    "Python community.\n",
    "\n",
    "For example, this is the mean square error formula (a central formula\n",
    "used in supervised machine learning models that deal with regression):\n",
    "\n",
    "![image](images/np_MSE_formula.png)\n",
    "\n",
    "Implementing this formula is simple and straightforward in NumPy:\n",
    "\n",
    "![image](images/np_MSE_implementation.png)\n",
    "\n",
    "What makes this work so well is that `predictions` and `labels` can\n",
    "contain one or a thousand values. They only need to be the same size.\n",
    "\n",
    "You can visualize it this way:\n",
    "\n",
    "![image](images/np_mse_viz1.png)\n",
    "\n",
    "In this example, both the predictions and labels vectors contain three\n",
    "values, meaning `n` has a value of three. After we carry out\n",
    "subtractions the values in the vector are squared. Then NumPy sums the\n",
    "values, and your result is the error value for that prediction and a\n",
    "score for the quality of the model.\n",
    "\n",
    "![image](images/np_mse_viz2.png)\n",
    "\n",
    "![image](images/np_MSE_explanation2.png)\n",
    "\n",
    "## How to save and load NumPy objects\n",
    "\n",
    "*This section covers* `np.save`, `np.savez`, `np.savetxt`, `np.load`,\n",
    "`np.loadtxt`\n",
    "\n",
    "------------------------------------------------------------------------\n",
    "\n",
    "You will, at some point, want to save your arrays to disk and load them\n",
    "back without having to re-run the code. Fortunately, there are several\n",
    "ways to save and load objects with NumPy. The ndarray objects can be\n",
    "saved to and loaded from the disk files with `loadtxt` and `savetxt`\n",
    "functions that handle normal text files, `load` and `save` functions\n",
    "that handle NumPy binary files with a **.npy** file extension, and a\n",
    "`savez` function that handles NumPy files with a **.npz** file\n",
    "extension.\n",
    "\n",
    "The **.npy** and **.npz** files store data, shape, dtype, and other\n",
    "information required to reconstruct the ndarray in a way that allows the\n",
    "array to be correctly retrieved, even when the file is on another\n",
    "machine with different architecture.\n",
    "\n",
    "If you want to store a single ndarray object, store it as a .npy file\n",
    "using `np.save`. If you want to store more than one ndarray object in a\n",
    "single file, save it as a .npz file using `np.savez`. You can also save\n",
    "several arrays into a single file in compressed npz format with\n",
    "$savez_compressed$.\n",
    "\n",
    "It's easy to save and load and array with `np.save()`. Just make sure to\n",
    "specify the array you want to save and a file name. For example, if you\n",
    "create this array:"
   ]
  },
  {
   "cell_type": "code",
   "execution_count": null,
   "id": "10bba9bc",
   "metadata": {},
   "outputs": [],
   "source": [
    "a = np.array([1, 2, 3, 4, 5, 6])"
   ]
  },
  {
   "cell_type": "markdown",
   "id": "d3c7d906",
   "metadata": {},
   "source": [
    "You can save it as \"filename.npy\" with:"
   ]
  },
  {
   "cell_type": "code",
   "execution_count": null,
   "id": "3a8beae2",
   "metadata": {},
   "outputs": [],
   "source": [
    "np.save('filename', a)"
   ]
  },
  {
   "cell_type": "markdown",
   "id": "fa660366",
   "metadata": {},
   "source": [
    "You can use `np.load()` to reconstruct your array. :"
   ]
  },
  {
   "cell_type": "code",
   "execution_count": null,
   "id": "7bab1aef",
   "metadata": {},
   "outputs": [],
   "source": [
    "b = np.load('filename.npy')"
   ]
  },
  {
   "cell_type": "markdown",
   "id": "a631d9d3",
   "metadata": {},
   "source": [
    "If you want to check your array, you can run:"
   ]
  },
  {
   "cell_type": "code",
   "execution_count": null,
   "id": "834486fd",
   "metadata": {},
   "outputs": [
    {
     "data": {
      "text/plain": [
       "[1 2 3 4 5 6]"
      ]
     },
     "execution_count": 1,
     "metadata": {},
     "output_type": "execute_result"
    }
   ],
   "source": [
    "print(b)"
   ]
  },
  {
   "cell_type": "markdown",
   "id": "b6e899b4",
   "metadata": {},
   "source": [
    "You can save a NumPy array as a plain text file like a **.csv** or\n",
    "**.txt** file with `np.savetxt`.\n",
    "\n",
    "For example, if you create this array:"
   ]
  },
  {
   "cell_type": "code",
   "execution_count": null,
   "id": "68649698",
   "metadata": {},
   "outputs": [],
   "source": [
    "csv_arr = np.array([1, 2, 3, 4, 5, 6, 7, 8])"
   ]
  },
  {
   "cell_type": "markdown",
   "id": "495f83bf",
   "metadata": {},
   "source": [
    "You can easily save it as a .csv file with the name \"new_file.csv\" like\n",
    "this:"
   ]
  },
  {
   "cell_type": "code",
   "execution_count": null,
   "id": "be44d9ea",
   "metadata": {},
   "outputs": [],
   "source": [
    "np.savetxt('new_file.csv', csv_arr)"
   ]
  },
  {
   "cell_type": "markdown",
   "id": "cc6e805e",
   "metadata": {},
   "source": [
    "You can quickly and easily load your saved text file using `loadtxt()` :"
   ]
  },
  {
   "cell_type": "code",
   "execution_count": null,
   "id": "d5ee1922",
   "metadata": {},
   "outputs": [
    {
     "data": {
      "text/plain": [
       "array([1., 2., 3., 4., 5., 6., 7., 8.])"
      ]
     },
     "execution_count": 1,
     "metadata": {},
     "output_type": "execute_result"
    }
   ],
   "source": [
    "np.loadtxt('new_file.csv')"
   ]
  },
  {
   "cell_type": "markdown",
   "id": "d4139733",
   "metadata": {},
   "source": [
    "The `savetxt()` and `loadtxt()` functions accept additional optional\n",
    "parameters such as header, footer, and delimiter. While text files can\n",
    "be easier for sharing, .npy and .npz files are smaller and faster to\n",
    "read. If you need more sophisticated handling of your text file (for\n",
    "example, if you need to work with lines that contain missing values),\n",
    "you will want to use the $genfromtxt$ function.\n",
    "\n",
    "With $savetxt$, you can specify headers, footers, comments, and more.\n",
    "\n",
    "Learn more about `input and output routines here <routines.io>`.\n",
    "\n",
    "## Importing and exporting a CSV\n",
    "\n",
    "It's simple to read in a CSV that contains existing information. The\n",
    "best and easiest way to do this is to use\n",
    "[Pandas](https://pandas.pydata.org). :"
   ]
  },
  {
   "cell_type": "code",
   "execution_count": null,
   "id": "02148c0f",
   "metadata": {},
   "outputs": [],
   "source": [
    "import pandas as pd"
   ]
  },
  {
   "cell_type": "code",
   "execution_count": null,
   "id": "6fd0f053",
   "metadata": {},
   "outputs": [
    {
     "data": {
      "text/plain": [
       "[['Billie Holiday' 'Jazz' 1300000 27000000]\n",
       " ['Jimmie Hendrix' 'Rock' 2700000 70000000]\n",
       " ['Miles Davis' 'Jazz' 1500000 48000000]\n",
       " ['SIA' 'Pop' 2000000 74000000]]\n"
      ]
     },
     "execution_count": 1,
     "metadata": {},
     "output_type": "execute_result"
    }
   ],
   "source": [
    "# If all of your columns are the same type:\n",
    "x = pd.read_csv('music.csv', header=0).values\n",
    "print(x)"
   ]
  },
  {
   "cell_type": "code",
   "execution_count": null,
   "id": "ae464618",
   "metadata": {},
   "outputs": [
    {
     "data": {
      "text/plain": [
       "[['Billie Holiday' 27000000]\n",
       " ['Jimmie Hendrix' 70000000]\n",
       " ['Miles Davis' 48000000]\n",
       " ['SIA' 74000000]]"
      ]
     },
     "execution_count": 1,
     "metadata": {},
     "output_type": "execute_result"
    }
   ],
   "source": [
    "# You can also simply select the columns you need:\n",
    "x = pd.read_csv('music.csv', usecols=['Artist', 'Plays']).values\n",
    "print(x)"
   ]
  },
  {
   "cell_type": "markdown",
   "id": "2eebc587",
   "metadata": {},
   "source": [
    "![image](images/np_pandas.png)\n",
    "\n",
    "It's simple to use Pandas in order to export your array as well. If you\n",
    "are new to NumPy, you may want to create a Pandas dataframe from the\n",
    "values in your array and then write the data frame to a CSV file with\n",
    "Pandas.\n",
    "\n",
    "If you created this array \"a\" :"
   ]
  },
  {
   "cell_type": "code",
   "execution_count": null,
   "id": "a10a9176",
   "metadata": {},
   "outputs": [],
   "source": [
    "a = np.array([[-2.58289208,  0.43014843, -1.24082018, 1.59572603],\n",
    "              [ 0.99027828, 1.17150989,  0.94125714, -0.14692469],\n",
    "              [ 0.76989341,  0.81299683, -0.95068423, 0.11769564],\n",
    "              [ 0.20484034,  0.34784527,  1.96979195, 0.51992837]])"
   ]
  },
  {
   "cell_type": "markdown",
   "id": "53d23a84",
   "metadata": {},
   "source": [
    "You could create a Pandas dataframe :"
   ]
  },
  {
   "cell_type": "code",
   "execution_count": null,
   "id": "8b39289e",
   "metadata": {},
   "outputs": [
    {
     "data": {
      "text/plain": [
       "          0         1         2         3\n",
       "0 -2.582892  0.430148 -1.240820  1.595726\n",
       "1  0.990278  1.171510  0.941257 -0.146925\n",
       "2  0.769893  0.812997 -0.950684  0.117696\n",
       "3  0.204840  0.347845  1.969792  0.519928"
      ]
     },
     "execution_count": 1,
     "metadata": {},
     "output_type": "execute_result"
    }
   ],
   "source": [
    "df = pd.DataFrame(a)\n",
    "print(df)"
   ]
  },
  {
   "cell_type": "markdown",
   "id": "5c169a8c",
   "metadata": {},
   "source": [
    "You can easily save your dataframe with:"
   ]
  },
  {
   "cell_type": "code",
   "execution_count": null,
   "id": "2d337bb3",
   "metadata": {},
   "outputs": [],
   "source": [
    "df.to_csv('pd.csv')"
   ]
  },
  {
   "cell_type": "markdown",
   "id": "01bd01e6",
   "metadata": {},
   "source": [
    "And read your CSV with:"
   ]
  },
  {
   "cell_type": "code",
   "execution_count": null,
   "id": "541e7401",
   "metadata": {},
   "outputs": [],
   "source": [
    "data = pd.read_csv('pd.csv')"
   ]
  },
  {
   "cell_type": "markdown",
   "id": "869f586d",
   "metadata": {},
   "source": [
    "![image](images/np_readcsv.png)\n",
    "\n",
    "You can also save your array with the NumPy `savetxt` method. :"
   ]
  },
  {
   "cell_type": "code",
   "execution_count": null,
   "id": "e388a37c",
   "metadata": {},
   "outputs": [],
   "source": [
    "np.savetxt('np.csv', a, fmt='%.2f', delimiter=',', header='1,  2,  3,  4')"
   ]
  },
  {
   "cell_type": "markdown",
   "id": "d0984bc7",
   "metadata": {},
   "source": [
    "If you're using the command line, you can read your saved CSV any time\n",
    "with a command such as:"
   ]
  },
  {
   "cell_type": "code",
   "execution_count": null,
   "id": "25b80aa7",
   "metadata": {},
   "outputs": [],
   "source": [
    "$ cat np.csv\n",
    "#  1,  2,  3,  4\n",
    "-2.58,0.43,-1.24,1.60\n",
    "0.99,1.17,0.94,-0.15\n",
    "0.77,0.81,-0.95,0.12\n",
    "0.20,0.35,1.97,0.52"
   ]
  },
  {
   "cell_type": "markdown",
   "id": "24c869a0",
   "metadata": {},
   "source": [
    "Or you can open the file any time with a text editor!\n",
    "\n",
    "If you're interested in learning more about Pandas, take a look at the\n",
    "[official Pandas documentation](https://pandas.pydata.org/index.html).\n",
    "Learn how to install Pandas with the [official Pandas installation\n",
    "information](https://pandas.pydata.org/pandas-docs/stable/install.html).\n",
    "\n",
    "## Plotting arrays with Matplotlib\n",
    "\n",
    "If you need to generate a plot for your values, it's very simple with\n",
    "[Matplotlib](https://matplotlib.org/).\n",
    "\n",
    "For example, you may have an array like this one:"
   ]
  },
  {
   "cell_type": "code",
   "execution_count": null,
   "id": "1255f419",
   "metadata": {},
   "outputs": [],
   "source": [
    "a = np.array([2, 1, 5, 7, 4, 6, 8, 14, 10, 9, 18, 20, 22])"
   ]
  },
  {
   "cell_type": "markdown",
   "id": "c0f750a6",
   "metadata": {},
   "source": [
    "If you already have Matplotlib installed, you can import it with:"
   ]
  },
  {
   "cell_type": "code",
   "execution_count": null,
   "id": "7793d493",
   "metadata": {},
   "outputs": [],
   "source": [
    "import matplotlib.pyplot as plt"
   ]
  },
  {
   "cell_type": "code",
   "execution_count": null,
   "id": "33ff3c26",
   "metadata": {},
   "outputs": [],
   "source": [
    "# If you're using Jupyter Notebook, you may also want to run the following\n",
    "# line of code to display your code in the notebook:\n",
    "\n",
    "%matplotlib inline"
   ]
  },
  {
   "cell_type": "markdown",
   "id": "039faca6",
   "metadata": {},
   "source": [
    "All you need to do to plot your values is run:"
   ]
  },
  {
   "cell_type": "code",
   "execution_count": null,
   "id": "7f28855d",
   "metadata": {},
   "outputs": [],
   "source": [
    "plt.plot(a)"
   ]
  },
  {
   "cell_type": "code",
   "execution_count": null,
   "id": "d4c38b88",
   "metadata": {},
   "outputs": [],
   "source": [
    "# If you are running from a command line, you may need to do this:\n",
    "# >>> plt.show()"
   ]
  },
  {
   "cell_type": "markdown",
   "id": "dae6a4e8",
   "metadata": {},
   "source": [
    "<div class=\"plot\" align=\"center\" include-source=\"0\">\n",
    "\n",
    "user/plots/matplotlib1.py\n",
    "\n",
    "</div>\n",
    "\n",
    "For example, you can plot a 1D array like this:"
   ]
  },
  {
   "cell_type": "code",
   "execution_count": null,
   "id": "45d5c884",
   "metadata": {},
   "outputs": [],
   "source": [
    "x = np.linspace(0, 5, 20)\n",
    "y = np.linspace(0, 10, 20)\n",
    "plt.plot(x, y, 'purple') # line\n",
    "plt.plot(x, y, 'o')      # dots"
   ]
  },
  {
   "cell_type": "markdown",
   "id": "6ddf71fd",
   "metadata": {},
   "source": [
    "<div class=\"plot\" align=\"center\" include-source=\"0\">\n",
    "\n",
    "user/plots/matplotlib2.py\n",
    "\n",
    "</div>\n",
    "\n",
    "With Matplotlib, you have access to an enormous number of visualization\n",
    "options. :"
   ]
  },
  {
   "cell_type": "code",
   "execution_count": null,
   "id": "a8755ac4",
   "metadata": {},
   "outputs": [],
   "source": [
    "fig = plt.figure()\n",
    "ax = fig.add_subplot(projection='3d')\n",
    "X = np.arange(-5, 5, 0.15)\n",
    "Y = np.arange(-5, 5, 0.15)\n",
    "X, Y = np.meshgrid(X, Y)\n",
    "R = np.sqrt(X**2 + Y**2)\n",
    "Z = np.sin(R)"
   ]
  },
  {
   "cell_type": "code",
   "execution_count": null,
   "id": "2b41a2f9",
   "metadata": {},
   "outputs": [],
   "source": [
    "ax.plot_surface(X, Y, Z, rstride=1, cstride=1, cmap='viridis')"
   ]
  },
  {
   "cell_type": "markdown",
   "id": "01d8ae81",
   "metadata": {},
   "source": [
    "<div class=\"plot\" align=\"center\" include-source=\"0\">\n",
    "\n",
    "user/plots/matplotlib3.py\n",
    "\n",
    "</div>\n",
    "\n",
    "To read more about Matplotlib and what it can do, take a look at [the\n",
    "official documentation](https://matplotlib.org/). For directions\n",
    "regarding installing Matplotlib, see the official [installation\n",
    "section](https://matplotlib.org/users/installing.html).\n",
    "\n",
    "------------------------------------------------------------------------\n",
    "\n",
    "*Image credits: Jay Alammar https://jalammar.github.io/*"
   ]
  }
 ],
 "metadata": {},
 "nbformat": 4,
 "nbformat_minor": 5
}

