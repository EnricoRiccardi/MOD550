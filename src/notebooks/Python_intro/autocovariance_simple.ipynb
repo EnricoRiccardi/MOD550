{
 "cells": [
  {
   "cell_type": "markdown",
   "metadata": {},
   "source": [
    "# Auto-covariance, Correlogram and Semi-Variogram"
   ]
  },
  {
   "cell_type": "markdown",
   "metadata": {},
   "source": [
    "## Basic Variography in Python\n",
    "\n",
    "### Spatial Continuity\n",
    "\n",
    "**Spatial Continuity** is the correlation between values over distance.\n",
    "\n",
    "- No spatial continuity – no correlation between values over distance, random values at each location in space regardless of separation distance.\n",
    "\n",
    "- Homogenous phenomenon have perfect spatial continuity, since all values as the same (or very similar) they are correlated."
   ]
  },
  {
   "cell_type": "markdown",
   "metadata": {},
   "source": [
    "## Autocovariance\n",
    "\n",
    "Autocovariance is a measure of the variance within a dataset as a function of distance or lag. It helps in understanding how data points at different spatial locations relate to each other. The autocovariance for a lag \n",
    "$h$ is defined as:\n",
    "\n",
    "$$\n",
    "C(h) = \\frac{1}{n-1} \\sum_{i=1}^{n-h} \\big( z(u_i) - \\overline{Z}_{original} \\big) \\big( x(u_{i+h}) - \\overline{Z}_{lagged} \\big)\n",
    "$$\n",
    "\n",
    "where $z(u_i)$ is the value at location $u_i$, $\\bar{Z}$ is the mean of the dataset, and $n$ is the total number of observations.\n"
   ]
  },
  {
   "cell_type": "markdown",
   "metadata": {},
   "source": [
    "## Correlogram\n",
    "\n",
    "A correlogram, or autocorrelation plot, shows the autocorrelation of a time or spatial series as a function of lag. It's a visual tool to identify the presence of spatial autocorrelation.\n",
    "\n",
    "$$\n",
    "r(h) = \\frac{Cov(h)}{Cov(0)}= \\frac{Cov(h)}{Variance}\n",
    "$$"
   ]
  },
  {
   "cell_type": "markdown",
   "metadata": {},
   "source": [
    "## Semi-Variogram\n",
    "\n",
    "$$\n",
    "\\hat{\\gamma}(h) = \\frac{1}{2N(h)} \\sum_{i=1}^{N(h)} [z(u_i) - z(u_{i+h})]^2\n",
    "$$"
   ]
  },
  {
   "cell_type": "markdown",
   "metadata": {},
   "source": [
    "## Examples\n"
   ]
  },
  {
   "cell_type": "markdown",
   "metadata": {},
   "source": [
    "### Loading and Preprocessing Data"
   ]
  },
  {
   "cell_type": "code",
   "execution_count": 1,
   "metadata": {},
   "outputs": [],
   "source": [
    "import numpy as np\n",
    "import matplotlib.pyplot as plt\n",
    "import pandas as pd\n",
    "import os"
   ]
  },
  {
   "cell_type": "markdown",
   "metadata": {},
   "source": [
    "Set the code location directory"
   ]
  },
  {
   "cell_type": "code",
   "execution_count": 2,
   "metadata": {},
   "outputs": [],
   "source": [
    "# os.chdir(r'/Users/reidarbbratvold/Documents/UiS/Undervisning/2024/MOD550/Lectures/Python/code/')"
   ]
  },
  {
   "cell_type": "markdown",
   "metadata": {},
   "source": [
    "Set global font sizes"
   ]
  },
  {
   "cell_type": "markdown",
   "metadata": {},
   "source": [
    "### Calculating Auto-Covariance\n",
    "\n",
    "To calculate autocovariance, we first need to define the function that computes autocovariance for a given lag."
   ]
  },
  {
   "cell_type": "markdown",
   "metadata": {},
   "source": [
    "### Parameters\n",
    "\n",
    "- `data`: A sequence (list or array) of numerical data points\n",
    "\n",
    "- `lag`: An integer indicating the time lag between the compared points in the series. A lag of 1 means each point is compared with the next one, a lag of 2 means each point is compared with the one two steps ahead, and so on."
   ]
  },
  {
   "cell_type": "markdown",
   "metadata": {},
   "source": [
    "### Process\n",
    "\n",
    "- `n = len(data) - lag`: This line calculates the number of observation pairs that can be formed given the lag. Since each lag reduces the number of pairs by 'lag' units, we subtract the lag from the total length of the dataset.\n",
    "\n",
    "- `mean_original = sum(data[:-lag]) / n`: Computes the mean of the dataset excluding the last 'lag' observations. This mean is used for the \"original\" part of the data pairs being compared.\n",
    "\n",
    "- `mean_lagged = sum(data[lag:]) / n`: Computes the mean of the dataset excluding the first 'lag' observations. This mean is used for the \"lagged\" part of the data pairs.\n",
    "\n",
    "- `covariance = sum((data[i] - mean_original) * (data[i + lag] - mean_lagged) for i in range(n)) / (n - 1)`: This line performs the core calculation of autocovariance. For each pair of observations separated by 'lag', it calculates the product of the deviations of each observation from their respective means (original and lagged). Summing these products and dividing by $n−1$ (where $n−1$ represents the sample size adjusted for degrees of freedom) gives the sample autocovariance."
   ]
  },
  {
   "cell_type": "markdown",
   "metadata": {},
   "source": [
    "### Example\n",
    "\n",
    "#### Create a small dataset"
   ]
  },
  {
   "cell_type": "code",
   "execution_count": 3,
   "metadata": {},
   "outputs": [
    {
     "name": "stdout",
     "output_type": "stream",
     "text": [
      "   Depth  Porosity\n",
      "0   2040      8.25\n",
      "1   2041      9.00\n",
      "2   2042      6.25\n",
      "3   2043      5.00\n",
      "4   2044      5.30\n",
      "5   2045      4.75\n",
      "6   2046      5.00\n"
     ]
    }
   ],
   "source": [
    "\n",
    "# Define data as a dictionary\n",
    "# Keys are column names, and values are lists of column data\n",
    "data = {\n",
    "    'Depth': [2040, 2041, 2042, 2043, 2044, 2045, 2046],\n",
    "    'Porosity': [8.25, 9.00, 6.25, 5.00, 5.30, 4.75, 5.00]\n",
    "}\n",
    "\n",
    "# Create DataFrame\n",
    "data_7 = pd.DataFrame(data)\n",
    "\n",
    "# Display the DataFrame\n",
    "print(data_7)\n"
   ]
  },
  {
   "cell_type": "code",
   "execution_count": 4,
   "metadata": {},
   "outputs": [
    {
     "data": {
      "text/plain": [
       "0    8.25\n",
       "1    9.00\n",
       "2    6.25\n",
       "3    5.00\n",
       "4    5.30\n",
       "5    4.75\n",
       "6    5.00\n",
       "Name: Porosity, dtype: float64"
      ]
     },
     "execution_count": 4,
     "metadata": {},
     "output_type": "execute_result"
    }
   ],
   "source": [
    "array_7 = data_7['Porosity']\n",
    "array_7"
   ]
  },
  {
   "cell_type": "markdown",
   "metadata": {},
   "source": [
    "#### Illustrate how to cut and slice the data in the array"
   ]
  },
  {
   "cell_type": "code",
   "execution_count": 5,
   "metadata": {},
   "outputs": [
    {
     "data": {
      "text/plain": [
       "0    8.25\n",
       "1    9.00\n",
       "2    6.25\n",
       "3    5.00\n",
       "4    5.30\n",
       "5    4.75\n",
       "Name: Porosity, dtype: float64"
      ]
     },
     "execution_count": 5,
     "metadata": {},
     "output_type": "execute_result"
    }
   ],
   "source": [
    "array_7[:-1]"
   ]
  },
  {
   "cell_type": "code",
   "execution_count": 6,
   "metadata": {},
   "outputs": [
    {
     "data": {
      "text/plain": [
       "0    8.25\n",
       "1    9.00\n",
       "2    6.25\n",
       "3    5.00\n",
       "4    5.30\n",
       "Name: Porosity, dtype: float64"
      ]
     },
     "execution_count": 6,
     "metadata": {},
     "output_type": "execute_result"
    }
   ],
   "source": [
    "array_7[:-2]"
   ]
  },
  {
   "cell_type": "code",
   "execution_count": 7,
   "metadata": {},
   "outputs": [
    {
     "data": {
      "text/plain": [
       "1    9.00\n",
       "2    6.25\n",
       "3    5.00\n",
       "4    5.30\n",
       "5    4.75\n",
       "6    5.00\n",
       "Name: Porosity, dtype: float64"
      ]
     },
     "execution_count": 7,
     "metadata": {},
     "output_type": "execute_result"
    }
   ],
   "source": [
    "array_7[1:]"
   ]
  },
  {
   "cell_type": "code",
   "execution_count": 8,
   "metadata": {},
   "outputs": [
    {
     "data": {
      "text/plain": [
       "2    6.25\n",
       "3    5.00\n",
       "4    5.30\n",
       "5    4.75\n",
       "6    5.00\n",
       "Name: Porosity, dtype: float64"
      ]
     },
     "execution_count": 8,
     "metadata": {},
     "output_type": "execute_result"
    }
   ],
   "source": [
    "array_7[2:]"
   ]
  },
  {
   "cell_type": "markdown",
   "metadata": {},
   "source": [
    "#### Calculate the autocorvariance, correlogram and semi-variance for the specified lag"
   ]
  },
  {
   "cell_type": "code",
   "execution_count": 9,
   "metadata": {},
   "outputs": [
    {
     "name": "stdout",
     "output_type": "stream",
     "text": [
      "Lag 1: Autocovariance = 2.0745\n",
      "Lag 1: Correlation = 0.7161880442502433\n",
      "Lag 1: Semivariance = 0.8452083333333333\n"
     ]
    }
   ],
   "source": [
    "\n",
    "lag = 1\n",
    "n = len(array_7) - lag  # Adjusted for the actual number of pairs used in calculation\n",
    "\n",
    "# Calculate means\n",
    "mean_original = np.mean(array_7[:-lag])\n",
    "mean_lagged = np.mean(array_7[lag:])\n",
    "\n",
    "# Calculate covariance for the specified lag\n",
    "covariance = sum((array_7[i] - mean_original) * (array_7[i + lag] - mean_lagged) for i in range(n)) / (n - 1)\n",
    "\n",
    "# Calculate variances\n",
    "variance_original = sum((array_7[i] - mean_original)**2 for i in range(n)) / (n - 1)\n",
    "variance_lagged = sum((array_7[i + lag] - mean_lagged)**2 for i in range(n)) / (n - 1)\n",
    "\n",
    "# Calculate correlogram value (correlation coefficient for the specified lag)\n",
    "correlation = covariance / (np.sqrt(variance_original) * np.sqrt(variance_lagged))\n",
    "\n",
    "# Calculate semivariogram for the specified lag\n",
    "semivariance = sum((array_7[i + lag] - array_7[i])**2 for i in range(n)) / (2*n)\n",
    "\n",
    "print(f\"Lag {lag}: Autocovariance = {covariance}\")\n",
    "print(f\"Lag {lag}: Correlation = {correlation}\")\n",
    "print(f\"Lag {lag}: Semivariance = {semivariance}\")\n"
   ]
  },
  {
   "cell_type": "code",
   "execution_count": null,
   "metadata": {},
   "outputs": [],
   "source": []
  },
  {
   "cell_type": "markdown",
   "metadata": {},
   "source": [
    "![table](../figs/autocovar_example.png)"
   ]
  },
  {
   "cell_type": "code",
   "execution_count": 10,
   "metadata": {},
   "outputs": [],
   "source": [
    "def calculate_autocovariance(data, col_name, max_lag):\n",
    "    autocovariances = {}\n",
    "    series = data[col_name]\n",
    "    lags = range(max_lag +1)\n",
    "    autocovariances[0] = series.var(ddof=1)  \n"
   ]
  },
  {
   "cell_type": "markdown",
   "metadata": {},
   "source": [
    "# The End"
   ]
  },
  {
   "cell_type": "code",
   "execution_count": null,
   "metadata": {},
   "outputs": [],
   "source": []
  }
 ],
 "metadata": {
  "kernelspec": {
   "display_name": "Python 3 (ipykernel)",
   "language": "python",
   "name": "python3"
  },
  "language_info": {
   "codemirror_mode": {
    "name": "ipython",
    "version": 3
   },
   "file_extension": ".py",
   "mimetype": "text/x-python",
   "name": "python",
   "nbconvert_exporter": "python",
   "pygments_lexer": "ipython3",
   "version": "3.11.8"
  }
 },
 "nbformat": 4,
 "nbformat_minor": 4
}
